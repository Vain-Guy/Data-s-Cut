{
 "cells": [
  {
   "cell_type": "markdown",
   "id": "3abc4bff",
   "metadata": {},
   "source": [
    "Hypothesis 1: Does Genre Affect Revenue?\n",
    "\n",
    "• Business Question: Do Action movies earn significantly more revenue than Drama movies?  \n",
    "• Null Hypothesis (H₀): There is no difference in mean revenue between Action and Drama movies.  \n",
    "• Alternative Hypothesis (H₁): Action movies have a higher mean revenue than Drama movies.  \n",
    "• Test Type: Independent two-sample t-test (Action vs Drama)  \n",
    "• Column(s) used: genres, domestic_gross"
   ]
  },
  {
   "cell_type": "code",
   "execution_count": 6,
   "id": "edb1f873",
   "metadata": {},
   "outputs": [
    {
     "data": {
      "text/plain": [
       "['bom.movie_gross.csv.gz',\n",
       " 'im.db.zip',\n",
       " 'rt.movie_info.tsv.gz',\n",
       " 'rt.reviews.tsv.gz',\n",
       " 'tmdb.movies.csv.gz',\n",
       " 'tn.movie_budgets.csv.gz']"
      ]
     },
     "execution_count": 6,
     "metadata": {},
     "output_type": "execute_result"
    }
   ],
   "source": [
    "import os\n",
    "os.listdir('../zippedData')"
   ]
  },
  {
   "cell_type": "code",
   "execution_count": 7,
   "id": "e6d3296e",
   "metadata": {},
   "outputs": [],
   "source": [
    "import pandas as pd\n",
    "\n",
    "movies_df = pd.read_csv('../zippedData/tn.movie_budgets.csv.gz')\n",
    "gross_df = pd.read_csv('../zippedData/bom.movie_gross.csv.gz')\n"
   ]
  },
  {
   "cell_type": "code",
   "execution_count": 10,
   "id": "97d27fb6",
   "metadata": {},
   "outputs": [
    {
     "name": "stdout",
     "output_type": "stream",
     "text": [
      "Index(['id', 'release_date', 'movie', 'production_budget', 'domestic_gross',\n",
      "       'worldwide_gross'],\n",
      "      dtype='object')\n",
      "Index(['title', 'studio', 'domestic_gross', 'foreign_gross', 'year'], dtype='object')\n"
     ]
    }
   ],
   "source": [
    "print(movies_df.columns)\n",
    "print(gross_df.columns)"
   ]
  },
  {
   "cell_type": "code",
   "execution_count": 11,
   "id": "127f3b7f",
   "metadata": {},
   "outputs": [],
   "source": [
    "MoviesAndGross_df = pd.merge(\n",
    "    movies_df,\n",
    "    gross_df,\n",
    "    left_on='movie',\n",
    "    right_on='title',\n",
    "    how='inner'\n",
    ")"
   ]
  },
  {
   "cell_type": "code",
   "execution_count": 12,
   "id": "126c04b3",
   "metadata": {},
   "outputs": [
    {
     "data": {
      "text/html": [
       "<div>\n",
       "<style scoped>\n",
       "    .dataframe tbody tr th:only-of-type {\n",
       "        vertical-align: middle;\n",
       "    }\n",
       "\n",
       "    .dataframe tbody tr th {\n",
       "        vertical-align: top;\n",
       "    }\n",
       "\n",
       "    .dataframe thead th {\n",
       "        text-align: right;\n",
       "    }\n",
       "</style>\n",
       "<table border=\"1\" class=\"dataframe\">\n",
       "  <thead>\n",
       "    <tr style=\"text-align: right;\">\n",
       "      <th></th>\n",
       "      <th>id</th>\n",
       "      <th>release_date</th>\n",
       "      <th>movie</th>\n",
       "      <th>production_budget</th>\n",
       "      <th>domestic_gross_x</th>\n",
       "      <th>worldwide_gross</th>\n",
       "      <th>title</th>\n",
       "      <th>studio</th>\n",
       "      <th>domestic_gross_y</th>\n",
       "      <th>foreign_gross</th>\n",
       "      <th>year</th>\n",
       "    </tr>\n",
       "  </thead>\n",
       "  <tbody>\n",
       "    <tr>\n",
       "      <th>0</th>\n",
       "      <td>2</td>\n",
       "      <td>May 20, 2011</td>\n",
       "      <td>Pirates of the Caribbean: On Stranger Tides</td>\n",
       "      <td>$410,600,000</td>\n",
       "      <td>$241,063,875</td>\n",
       "      <td>$1,045,663,875</td>\n",
       "      <td>Pirates of the Caribbean: On Stranger Tides</td>\n",
       "      <td>BV</td>\n",
       "      <td>241100000.0</td>\n",
       "      <td>804600000</td>\n",
       "      <td>2011</td>\n",
       "    </tr>\n",
       "    <tr>\n",
       "      <th>1</th>\n",
       "      <td>4</td>\n",
       "      <td>May 1, 2015</td>\n",
       "      <td>Avengers: Age of Ultron</td>\n",
       "      <td>$330,600,000</td>\n",
       "      <td>$459,005,868</td>\n",
       "      <td>$1,403,013,963</td>\n",
       "      <td>Avengers: Age of Ultron</td>\n",
       "      <td>BV</td>\n",
       "      <td>459000000.0</td>\n",
       "      <td>946400000</td>\n",
       "      <td>2015</td>\n",
       "    </tr>\n",
       "    <tr>\n",
       "      <th>2</th>\n",
       "      <td>7</td>\n",
       "      <td>Apr 27, 2018</td>\n",
       "      <td>Avengers: Infinity War</td>\n",
       "      <td>$300,000,000</td>\n",
       "      <td>$678,815,482</td>\n",
       "      <td>$2,048,134,200</td>\n",
       "      <td>Avengers: Infinity War</td>\n",
       "      <td>BV</td>\n",
       "      <td>678800000.0</td>\n",
       "      <td>1,369.5</td>\n",
       "      <td>2018</td>\n",
       "    </tr>\n",
       "    <tr>\n",
       "      <th>3</th>\n",
       "      <td>9</td>\n",
       "      <td>Nov 17, 2017</td>\n",
       "      <td>Justice League</td>\n",
       "      <td>$300,000,000</td>\n",
       "      <td>$229,024,295</td>\n",
       "      <td>$655,945,209</td>\n",
       "      <td>Justice League</td>\n",
       "      <td>WB</td>\n",
       "      <td>229000000.0</td>\n",
       "      <td>428900000</td>\n",
       "      <td>2017</td>\n",
       "    </tr>\n",
       "    <tr>\n",
       "      <th>4</th>\n",
       "      <td>10</td>\n",
       "      <td>Nov 6, 2015</td>\n",
       "      <td>Spectre</td>\n",
       "      <td>$300,000,000</td>\n",
       "      <td>$200,074,175</td>\n",
       "      <td>$879,620,923</td>\n",
       "      <td>Spectre</td>\n",
       "      <td>Sony</td>\n",
       "      <td>200100000.0</td>\n",
       "      <td>680600000</td>\n",
       "      <td>2015</td>\n",
       "    </tr>\n",
       "  </tbody>\n",
       "</table>\n",
       "</div>"
      ],
      "text/plain": [
       "   id  release_date                                        movie  \\\n",
       "0   2  May 20, 2011  Pirates of the Caribbean: On Stranger Tides   \n",
       "1   4   May 1, 2015                      Avengers: Age of Ultron   \n",
       "2   7  Apr 27, 2018                       Avengers: Infinity War   \n",
       "3   9  Nov 17, 2017                               Justice League   \n",
       "4  10   Nov 6, 2015                                      Spectre   \n",
       "\n",
       "  production_budget domestic_gross_x worldwide_gross  \\\n",
       "0      $410,600,000     $241,063,875  $1,045,663,875   \n",
       "1      $330,600,000     $459,005,868  $1,403,013,963   \n",
       "2      $300,000,000     $678,815,482  $2,048,134,200   \n",
       "3      $300,000,000     $229,024,295    $655,945,209   \n",
       "4      $300,000,000     $200,074,175    $879,620,923   \n",
       "\n",
       "                                         title studio  domestic_gross_y  \\\n",
       "0  Pirates of the Caribbean: On Stranger Tides     BV       241100000.0   \n",
       "1                      Avengers: Age of Ultron     BV       459000000.0   \n",
       "2                       Avengers: Infinity War     BV       678800000.0   \n",
       "3                               Justice League     WB       229000000.0   \n",
       "4                                      Spectre   Sony       200100000.0   \n",
       "\n",
       "  foreign_gross  year  \n",
       "0     804600000  2011  \n",
       "1     946400000  2015  \n",
       "2       1,369.5  2018  \n",
       "3     428900000  2017  \n",
       "4     680600000  2015  "
      ]
     },
     "execution_count": 12,
     "metadata": {},
     "output_type": "execute_result"
    }
   ],
   "source": [
    "MoviesAndGross_df.shape\n",
    "MoviesAndGross_df.head()"
   ]
  },
  {
   "cell_type": "code",
   "execution_count": 20,
   "id": "d92ef7fb",
   "metadata": {},
   "outputs": [
    {
     "data": {
      "text/plain": [
       "Index(['id', 'synopsis', 'rating', 'genres', 'director', 'writer',\n",
       "       'theater_date', 'dvd_date', 'currency', 'box_office', 'runtime',\n",
       "       'studio'],\n",
       "      dtype='object')"
      ]
     },
     "execution_count": 20,
     "metadata": {},
     "output_type": "execute_result"
    }
   ],
   "source": [
    "info_df.columns"
   ]
  },
  {
   "cell_type": "code",
   "execution_count": 21,
   "id": "29afe54d",
   "metadata": {},
   "outputs": [
    {
     "data": {
      "text/html": [
       "<div>\n",
       "<style scoped>\n",
       "    .dataframe tbody tr th:only-of-type {\n",
       "        vertical-align: middle;\n",
       "    }\n",
       "\n",
       "    .dataframe tbody tr th {\n",
       "        vertical-align: top;\n",
       "    }\n",
       "\n",
       "    .dataframe thead th {\n",
       "        text-align: right;\n",
       "    }\n",
       "</style>\n",
       "<table border=\"1\" class=\"dataframe\">\n",
       "  <thead>\n",
       "    <tr style=\"text-align: right;\">\n",
       "      <th></th>\n",
       "      <th>id</th>\n",
       "      <th>genres</th>\n",
       "    </tr>\n",
       "  </thead>\n",
       "  <tbody>\n",
       "    <tr>\n",
       "      <th>0</th>\n",
       "      <td>1</td>\n",
       "      <td>Action and Adventure|Classics|Drama</td>\n",
       "    </tr>\n",
       "    <tr>\n",
       "      <th>1</th>\n",
       "      <td>3</td>\n",
       "      <td>Drama|Science Fiction and Fantasy</td>\n",
       "    </tr>\n",
       "    <tr>\n",
       "      <th>2</th>\n",
       "      <td>5</td>\n",
       "      <td>Drama|Musical and Performing Arts</td>\n",
       "    </tr>\n",
       "    <tr>\n",
       "      <th>3</th>\n",
       "      <td>6</td>\n",
       "      <td>Drama|Mystery and Suspense</td>\n",
       "    </tr>\n",
       "    <tr>\n",
       "      <th>4</th>\n",
       "      <td>7</td>\n",
       "      <td>Drama|Romance</td>\n",
       "    </tr>\n",
       "  </tbody>\n",
       "</table>\n",
       "</div>"
      ],
      "text/plain": [
       "   id                               genres\n",
       "0   1  Action and Adventure|Classics|Drama\n",
       "1   3    Drama|Science Fiction and Fantasy\n",
       "2   5    Drama|Musical and Performing Arts\n",
       "3   6           Drama|Mystery and Suspense\n",
       "4   7                        Drama|Romance"
      ]
     },
     "execution_count": 21,
     "metadata": {},
     "output_type": "execute_result"
    }
   ],
   "source": [
    "info_df[['id', 'genres']].head()"
   ]
  },
  {
   "cell_type": "code",
   "execution_count": 22,
   "id": "adda8993",
   "metadata": {},
   "outputs": [
    {
     "data": {
      "text/html": [
       "<div>\n",
       "<style scoped>\n",
       "    .dataframe tbody tr th:only-of-type {\n",
       "        vertical-align: middle;\n",
       "    }\n",
       "\n",
       "    .dataframe tbody tr th {\n",
       "        vertical-align: top;\n",
       "    }\n",
       "\n",
       "    .dataframe thead th {\n",
       "        text-align: right;\n",
       "    }\n",
       "</style>\n",
       "<table border=\"1\" class=\"dataframe\">\n",
       "  <thead>\n",
       "    <tr style=\"text-align: right;\">\n",
       "      <th></th>\n",
       "      <th>id</th>\n",
       "      <th>release_date</th>\n",
       "      <th>movie</th>\n",
       "      <th>production_budget</th>\n",
       "      <th>domestic_gross_x</th>\n",
       "      <th>worldwide_gross</th>\n",
       "      <th>title</th>\n",
       "      <th>studio</th>\n",
       "      <th>domestic_gross_y</th>\n",
       "      <th>foreign_gross</th>\n",
       "      <th>year</th>\n",
       "      <th>genres</th>\n",
       "    </tr>\n",
       "  </thead>\n",
       "  <tbody>\n",
       "    <tr>\n",
       "      <th>0</th>\n",
       "      <td>7</td>\n",
       "      <td>Apr 27, 2018</td>\n",
       "      <td>Avengers: Infinity War</td>\n",
       "      <td>$300,000,000</td>\n",
       "      <td>$678,815,482</td>\n",
       "      <td>$2,048,134,200</td>\n",
       "      <td>Avengers: Infinity War</td>\n",
       "      <td>BV</td>\n",
       "      <td>678800000.0</td>\n",
       "      <td>1,369.5</td>\n",
       "      <td>2018</td>\n",
       "      <td>Drama|Romance</td>\n",
       "    </tr>\n",
       "    <tr>\n",
       "      <th>1</th>\n",
       "      <td>10</td>\n",
       "      <td>Nov 6, 2015</td>\n",
       "      <td>Spectre</td>\n",
       "      <td>$300,000,000</td>\n",
       "      <td>$200,074,175</td>\n",
       "      <td>$879,620,923</td>\n",
       "      <td>Spectre</td>\n",
       "      <td>Sony</td>\n",
       "      <td>200100000.0</td>\n",
       "      <td>680600000</td>\n",
       "      <td>2015</td>\n",
       "      <td>Comedy</td>\n",
       "    </tr>\n",
       "    <tr>\n",
       "      <th>2</th>\n",
       "      <td>13</td>\n",
       "      <td>Jul 2, 2013</td>\n",
       "      <td>The Lone Ranger</td>\n",
       "      <td>$275,000,000</td>\n",
       "      <td>$89,302,115</td>\n",
       "      <td>$260,002,115</td>\n",
       "      <td>The Lone Ranger</td>\n",
       "      <td>BV</td>\n",
       "      <td>89300000.0</td>\n",
       "      <td>171200000</td>\n",
       "      <td>2013</td>\n",
       "      <td>Drama</td>\n",
       "    </tr>\n",
       "    <tr>\n",
       "      <th>3</th>\n",
       "      <td>14</td>\n",
       "      <td>Mar 9, 2012</td>\n",
       "      <td>John Carter</td>\n",
       "      <td>$275,000,000</td>\n",
       "      <td>$73,058,679</td>\n",
       "      <td>$282,778,100</td>\n",
       "      <td>John Carter</td>\n",
       "      <td>BV</td>\n",
       "      <td>73100000.0</td>\n",
       "      <td>211100000</td>\n",
       "      <td>2012</td>\n",
       "      <td>Drama</td>\n",
       "    </tr>\n",
       "    <tr>\n",
       "      <th>4</th>\n",
       "      <td>15</td>\n",
       "      <td>Nov 24, 2010</td>\n",
       "      <td>Tangled</td>\n",
       "      <td>$260,000,000</td>\n",
       "      <td>$200,821,936</td>\n",
       "      <td>$586,477,240</td>\n",
       "      <td>Tangled</td>\n",
       "      <td>BV</td>\n",
       "      <td>200800000.0</td>\n",
       "      <td>391000000</td>\n",
       "      <td>2010</td>\n",
       "      <td>Action and Adventure|Mystery and Suspense|Scie...</td>\n",
       "    </tr>\n",
       "  </tbody>\n",
       "</table>\n",
       "</div>"
      ],
      "text/plain": [
       "   id  release_date                   movie production_budget  \\\n",
       "0   7  Apr 27, 2018  Avengers: Infinity War      $300,000,000   \n",
       "1  10   Nov 6, 2015                 Spectre      $300,000,000   \n",
       "2  13   Jul 2, 2013         The Lone Ranger      $275,000,000   \n",
       "3  14   Mar 9, 2012             John Carter      $275,000,000   \n",
       "4  15  Nov 24, 2010                 Tangled      $260,000,000   \n",
       "\n",
       "  domestic_gross_x worldwide_gross                   title studio  \\\n",
       "0     $678,815,482  $2,048,134,200  Avengers: Infinity War     BV   \n",
       "1     $200,074,175    $879,620,923                 Spectre   Sony   \n",
       "2      $89,302,115    $260,002,115         The Lone Ranger     BV   \n",
       "3      $73,058,679    $282,778,100             John Carter     BV   \n",
       "4     $200,821,936    $586,477,240                 Tangled     BV   \n",
       "\n",
       "   domestic_gross_y foreign_gross  year  \\\n",
       "0       678800000.0       1,369.5  2018   \n",
       "1       200100000.0     680600000  2015   \n",
       "2        89300000.0     171200000  2013   \n",
       "3        73100000.0     211100000  2012   \n",
       "4       200800000.0     391000000  2010   \n",
       "\n",
       "                                              genres  \n",
       "0                                      Drama|Romance  \n",
       "1                                             Comedy  \n",
       "2                                              Drama  \n",
       "3                                              Drama  \n",
       "4  Action and Adventure|Mystery and Suspense|Scie...  "
      ]
     },
     "execution_count": 22,
     "metadata": {},
     "output_type": "execute_result"
    }
   ],
   "source": [
    "final_df = pd.merge(MoviesAndGross_df, info_df[['id', 'genres']], on='id', how='inner')\n",
    "final_df.head()"
   ]
  },
  {
   "cell_type": "code",
   "execution_count": 23,
   "id": "3d4aebdf",
   "metadata": {},
   "outputs": [],
   "source": [
    "action_movies = final_df[final_df['genres'].str.contains('Action', na=False)]\n",
    "drama_movies = final_df[final_df['genres'].str.contains('Drama', na=False)]"
   ]
  },
  {
   "cell_type": "code",
   "execution_count": 24,
   "id": "fd316f4e",
   "metadata": {},
   "outputs": [
    {
     "data": {
      "text/html": [
       "<div>\n",
       "<style scoped>\n",
       "    .dataframe tbody tr th:only-of-type {\n",
       "        vertical-align: middle;\n",
       "    }\n",
       "\n",
       "    .dataframe tbody tr th {\n",
       "        vertical-align: top;\n",
       "    }\n",
       "\n",
       "    .dataframe thead th {\n",
       "        text-align: right;\n",
       "    }\n",
       "</style>\n",
       "<table border=\"1\" class=\"dataframe\">\n",
       "  <thead>\n",
       "    <tr style=\"text-align: right;\">\n",
       "      <th></th>\n",
       "      <th>id</th>\n",
       "      <th>release_date</th>\n",
       "      <th>movie</th>\n",
       "      <th>production_budget</th>\n",
       "      <th>domestic_gross_x</th>\n",
       "      <th>worldwide_gross</th>\n",
       "      <th>title</th>\n",
       "      <th>studio</th>\n",
       "      <th>domestic_gross_y</th>\n",
       "      <th>foreign_gross</th>\n",
       "      <th>year</th>\n",
       "      <th>genres</th>\n",
       "    </tr>\n",
       "  </thead>\n",
       "  <tbody>\n",
       "    <tr>\n",
       "      <th>0</th>\n",
       "      <td>7</td>\n",
       "      <td>Apr 27, 2018</td>\n",
       "      <td>Avengers: Infinity War</td>\n",
       "      <td>$300,000,000</td>\n",
       "      <td>$678,815,482</td>\n",
       "      <td>$2,048,134,200</td>\n",
       "      <td>Avengers: Infinity War</td>\n",
       "      <td>BV</td>\n",
       "      <td>678800000.0</td>\n",
       "      <td>1,369.5</td>\n",
       "      <td>2018</td>\n",
       "      <td>Drama|Romance</td>\n",
       "    </tr>\n",
       "    <tr>\n",
       "      <th>2</th>\n",
       "      <td>13</td>\n",
       "      <td>Jul 2, 2013</td>\n",
       "      <td>The Lone Ranger</td>\n",
       "      <td>$275,000,000</td>\n",
       "      <td>$89,302,115</td>\n",
       "      <td>$260,002,115</td>\n",
       "      <td>The Lone Ranger</td>\n",
       "      <td>BV</td>\n",
       "      <td>89300000.0</td>\n",
       "      <td>171200000</td>\n",
       "      <td>2013</td>\n",
       "      <td>Drama</td>\n",
       "    </tr>\n",
       "    <tr>\n",
       "      <th>3</th>\n",
       "      <td>14</td>\n",
       "      <td>Mar 9, 2012</td>\n",
       "      <td>John Carter</td>\n",
       "      <td>$275,000,000</td>\n",
       "      <td>$73,058,679</td>\n",
       "      <td>$282,778,100</td>\n",
       "      <td>John Carter</td>\n",
       "      <td>BV</td>\n",
       "      <td>73100000.0</td>\n",
       "      <td>211100000</td>\n",
       "      <td>2012</td>\n",
       "      <td>Drama</td>\n",
       "    </tr>\n",
       "    <tr>\n",
       "      <th>9</th>\n",
       "      <td>22</td>\n",
       "      <td>Dec 17, 2014</td>\n",
       "      <td>The Hobbit: The Battle of the Five Armies</td>\n",
       "      <td>$250,000,000</td>\n",
       "      <td>$255,119,788</td>\n",
       "      <td>$945,577,621</td>\n",
       "      <td>The Hobbit: The Battle of the Five Armies</td>\n",
       "      <td>WB (NL)</td>\n",
       "      <td>255100000.0</td>\n",
       "      <td>700900000</td>\n",
       "      <td>2014</td>\n",
       "      <td>Comedy|Drama|Mystery and Suspense</td>\n",
       "    </tr>\n",
       "    <tr>\n",
       "      <th>10</th>\n",
       "      <td>23</td>\n",
       "      <td>Apr 14, 2017</td>\n",
       "      <td>The Fate of the Furious</td>\n",
       "      <td>$250,000,000</td>\n",
       "      <td>$225,764,765</td>\n",
       "      <td>$1,234,846,267</td>\n",
       "      <td>The Fate of the Furious</td>\n",
       "      <td>Uni.</td>\n",
       "      <td>226000000.0</td>\n",
       "      <td>1,010.0</td>\n",
       "      <td>2017</td>\n",
       "      <td>Drama</td>\n",
       "    </tr>\n",
       "  </tbody>\n",
       "</table>\n",
       "</div>"
      ],
      "text/plain": [
       "    id  release_date                                      movie  \\\n",
       "0    7  Apr 27, 2018                     Avengers: Infinity War   \n",
       "2   13   Jul 2, 2013                            The Lone Ranger   \n",
       "3   14   Mar 9, 2012                                John Carter   \n",
       "9   22  Dec 17, 2014  The Hobbit: The Battle of the Five Armies   \n",
       "10  23  Apr 14, 2017                    The Fate of the Furious   \n",
       "\n",
       "   production_budget domestic_gross_x worldwide_gross  \\\n",
       "0       $300,000,000     $678,815,482  $2,048,134,200   \n",
       "2       $275,000,000      $89,302,115    $260,002,115   \n",
       "3       $275,000,000      $73,058,679    $282,778,100   \n",
       "9       $250,000,000     $255,119,788    $945,577,621   \n",
       "10      $250,000,000     $225,764,765  $1,234,846,267   \n",
       "\n",
       "                                        title   studio  domestic_gross_y  \\\n",
       "0                      Avengers: Infinity War       BV       678800000.0   \n",
       "2                             The Lone Ranger       BV        89300000.0   \n",
       "3                                 John Carter       BV        73100000.0   \n",
       "9   The Hobbit: The Battle of the Five Armies  WB (NL)       255100000.0   \n",
       "10                    The Fate of the Furious     Uni.       226000000.0   \n",
       "\n",
       "   foreign_gross  year                             genres  \n",
       "0        1,369.5  2018                      Drama|Romance  \n",
       "2      171200000  2013                              Drama  \n",
       "3      211100000  2012                              Drama  \n",
       "9      700900000  2014  Comedy|Drama|Mystery and Suspense  \n",
       "10       1,010.0  2017                              Drama  "
      ]
     },
     "execution_count": 24,
     "metadata": {},
     "output_type": "execute_result"
    }
   ],
   "source": [
    "action_movies.head()\n",
    "drama_movies.head()"
   ]
  },
  {
   "cell_type": "code",
   "execution_count": 26,
   "id": "a304f5c0",
   "metadata": {},
   "outputs": [],
   "source": [
    "action_revenue = action_movies['worldwide_gross'].str.replace(r'[\\$,]', '', regex=True).astype(float)\n",
    "drama_revenue = drama_movies['worldwide_gross'].str.replace(r'[\\$,]', '', regex=True).astype(float)"
   ]
  },
  {
   "cell_type": "code",
   "execution_count": 27,
   "id": "0e834f11",
   "metadata": {},
   "outputs": [],
   "source": [
    "import matplotlib.pyplot as plt\n",
    "import seaborn as sns\n",
    "from scipy.stats import shapiro, levene, ttest_ind"
   ]
  },
  {
   "cell_type": "code",
   "execution_count": 28,
   "id": "6d17bbb3",
   "metadata": {},
   "outputs": [
    {
     "data": {
      "image/png": "[encoded data removed]",
      "text/plain": [
       "<Figure size 1200x500 with 2 Axes>"
      ]
     },
     "metadata": {},
     "output_type": "display_data"
    }
   ],
   "source": [
    "plt.figure(figsize=(12, 5))\n",
    "\n",
    "# Action movies distribution\n",
    "plt.subplot(1, 2, 1)\n",
    "sns.histplot(action_revenue, kde=True, bins=30)\n",
    "plt.title('Action Movies Worldwide Revenue Distribution')\n",
    "\n",
    "# Drama movies distribution\n",
    "plt.subplot(1, 2, 2)\n",
    "sns.histplot(drama_revenue, kde=True, bins=30)\n",
    "plt.title('Drama Movies Worldwide Revenue Distribution')\n",
    "\n",
    "plt.tight_layout()\n",
    "plt.show()"
   ]
  },
  {
   "cell_type": "code",
   "execution_count": 29,
   "id": "530f09f8",
   "metadata": {},
   "outputs": [
    {
     "name": "stdout",
     "output_type": "stream",
     "text": [
      "Shapiro Test – Action Movies: ShapiroResult(statistic=0.6192002626846316, pvalue=3.000807291520271e-23)\n",
      "Shapiro Test – Drama Movies: ShapiroResult(statistic=0.6136821110797853, pvalue=1.0322787958328458e-33)\n"
     ]
    }
   ],
   "source": [
    "from scipy.stats import shapiro\n",
    "\n",
    "print(\"Shapiro Test – Action Movies:\", shapiro(action_revenue))\n",
    "print(\"Shapiro Test – Drama Movies:\", shapiro(drama_revenue))"
   ]
  },
  {
   "cell_type": "markdown",
   "id": "3d7e1e68",
   "metadata": {},
   "source": [
    "#Interpretation:\n",
    "- Since both p-values are less than 0.05, the data is not normally distributed.\n",
    "- Therefore we cannot use the regular independent t-test.\n",
    "- Instead we will use a non-parametric alternative: the Mann-Whitney U Test, which does not assume normality, it compares the distributions of the two groups."
   ]
  },
  {
   "cell_type": "code",
   "execution_count": 30,
   "id": "3bab2846",
   "metadata": {},
   "outputs": [
    {
     "name": "stdout",
     "output_type": "stream",
     "text": [
      "Mann-Whitney U statistic: 70860.5\n",
      "P-value: 0.89219827699603\n"
     ]
    }
   ],
   "source": [
    "from scipy.stats import mannwhitneyu\n",
    "\n",
    "stat, p = mannwhitneyu(action_revenue, drama_revenue, alternative='two-sided')\n",
    "print(f\"Mann-Whitney U statistic: {stat}\")\n",
    "print(f\"P-value: {p}\")"
   ]
  },
  {
   "cell_type": "markdown",
   "id": "032e5aff",
   "metadata": {},
   "source": [
    "### Mann-Whitney U Test (Non-Parametric Alternative)\n",
    "\n",
    "Since the Shapiro-Wilk Test indicated that the data was not normally distributed, we used the Mann-Whitney U Test to compare the distributions of action_revenue and drama_revenue.\n",
    "\n",
    "#### Results:\n",
    "- *U statistic* = 70860.5\n",
    "- *P-value* = 0.8922\n",
    "\n",
    "#### Interpretation:\n",
    "- The p-value is greater than 0.05 meaning we fail to reject the null hypothesis.\n",
    "- Therefore there is no statistically significant difference between the revenue distributions of action and drama movies."
   ]
  },
  {
   "cell_type": "markdown",
   "id": "643ca0f3",
   "metadata": {},
   "source": [
    "### Hypothesis Conclusion\n",
    "\n",
    "####  Business Question:\n",
    "Do Action movies earn significantly different worldwide revenue than Drama movies?\n",
    "\n",
    "####  Test Used:\n",
    "Mann-Whitney U Test (used due to non-normal distribution of data)\n",
    "\n",
    "####  Hypotheses:\n",
    "- Null Hypothesis (H₀): There is no difference in worldwide revenue between Action and Drama movies.\n",
    "- Alternative Hypothesis (H₁): There is a difference in worldwide revenue between Action and Drama movies.\n",
    "\n",
    "####  Test Result:\n",
    "- p-value = *0.8922*\n",
    "\n",
    "####  Conclusion:\n",
    "Since the p-value is greater than 0.05, we fail to reject the null hypothesis.  \n",
    "There is no statistically significant difference in the revenue distributions of Action and Drama movies in this dataset.\n",
    "\n",
    "#### Interpretation for Business:\n",
    "From a business perspective based on this dataset movie genre (Action vs Drama) does not appear to influence revenue significantly the studio can consider either genre, and other factors (like cast, budget, or marketing) might play a bigger role in revenue performance."
   ]
  },
  {
   "cell_type": "code",
   "execution_count": 32,
   "id": "6064d372",
   "metadata": {},
   "outputs": [
    {
     "data": {
      "text/plain": [
       "Index(['id', 'release_date', 'movie', 'production_budget', 'domestic_gross',\n",
       "       'worldwide_gross'],\n",
       "      dtype='object')"
      ]
     },
     "execution_count": 32,
     "metadata": {},
     "output_type": "execute_result"
    }
   ],
   "source": [
    "movies_df.columns"
   ]
  },
  {
   "cell_type": "code",
   "execution_count": null,
   "id": "8fcb3fcc",
   "metadata": {},
   "outputs": [],
   "source": []
  }
 ],
 "metadata": {
  "kernelspec": {
   "display_name": "base",
   "language": "python",
   "name": "python3"
  },
  "language_info": {
   "codemirror_mode": {
    "name": "ipython",
    "version": 3
   },
   "file_extension": ".py",
   "mimetype": "text/x-python",
   "name": "python",
   "nbconvert_exporter": "python",
   "pygments_lexer": "ipython3",
   "version": "3.12.3"
  }
 },
 "nbformat": 4,
 "nbformat_minor": 5
}
