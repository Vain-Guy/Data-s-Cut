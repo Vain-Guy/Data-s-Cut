{
 "cells": [
  {
   "cell_type": "markdown",
   "metadata": {},
   "source": [
    "# AHJIN STUDIOS: Box Office Success Blueprint\n",
    "\n",
    "## Project Overview\n",
    "\n",
    "Ahjin Studios is taking a bold leap into the world of original video content. With major players in the industry producing record-breaking films, it's time we carve our own path to the silver screen. But before the cameras roll, we need to ground our creativity in strategy. This project explores which types of films are dominating the box office - genres, themes, release seasons, production budgets, and more - to identify what’s *actually working* in today’s film market.\n",
    "\n",
    "## Business Problem\n",
    "\n",
    "The entertainment industry is undergoing a massive transformation. Streaming giants and traditional studios alike are pouring billions into original content, resulting in a saturated, competitive, and fast-evolving market. Ahjin Studios, a newcomer in this arena, wants to make a strong, strategic entrance. But without prior experience in filmmaking or content production, the studio lacks a grounded understanding of what drives box office success.\n",
    "\n",
    "While creativity is the soul of cinema, data is its compass. The financial risk of producing a film is substantial, with production budgets often ranging from millions to hundreds of millions of dollars — and no guaranteed return. Choosing the wrong genre, misreading audience interests, or releasing at the wrong time can spell disaster. Conversely, aligning a film's concept with market demand can lead to runaway hits, brand recognition, and long-term profitability.\n",
    "\n",
    "Ahjin Studios needs clear, evidence-based insights to answer critical questions:\n",
    "\n",
    "- What types of movies are **worth betting on**?\n",
    "- Where can we find the **sweet spot between budget and revenue**?\n",
    "- Which trends are **passing fads**, and which are **sustainable opportunities**?\n",
    "- How can a **new studio** stand out in a market dominated by legacy franchises and big-name talent?\n",
    "\n",
    "By conducting a comprehensive analysis of recent box office performance, this project aims to **remove the guesswork** from movie production decisions and provide Ahjin Studios with a **strategic blueprint** for launching commercially viable, audience-ready films that can hold their own in today’s high-stakes entertainment landscape.\n",
    "\n",
    "## Objective\n",
    "\n",
    "To analyze recent box office trends and translate key findings into **actionable, data-driven recommendations** that will guide Ahjin Studios in developing high-performing original films.\n",
    "\n",
    "## Key Questions\n",
    "\n",
    "- Which **genres** are consistently earning the highest revenue?\n",
    "- What **budget range** yields the best ROI?\n",
    "- How do **release dates** affect performance?\n",
    "- Do **star power** and **director reputation** play a measurable role?\n",
    "- Are **franchise films** outperforming standalones?\n",
    "- What **audience demographics** are driving ticket sales?\n",
    "\n",
    "## Deliverables\n",
    "\n",
    "- A clean and exploratory dataset analysis of recent box office films\n",
    "- Visual breakdowns of top-performing genres, budgets, and seasons\n",
    "- A concise summary report with **strategic recommendations** for Ahjin Studios\n",
    "\n",
    "## Final Goal\n",
    "\n",
    "To provide the leadership team at Ahjin Studios with a **clear roadmap for movie production** - one that maximizes commercial success while carving out a unique space in the entertainment industry.\n",
    "\n",
    "> Lights, camera... data! Let's get to work."
   ]
  },
  {
   "cell_type": "markdown",
   "metadata": {},
   "source": [
    "## INITIAL DATA EXPLORATION (IDE)\n",
    "\n",
    "Every dataset tells a story- but before we dive into any narratives, we'll flip through the table of contents. This phase is about getting comfortable with the data: seeing what’s there, what’s missing, and what might surprise us later if we don’t pay attention now.\n",
    "\n",
    "#### What's happening:\n",
    "- Importing key libraries like 'pandas', 'numpy', 'seaborn' and 'matplotlib'- the usual suspects for slicing, dicing and visualizing data and 'sql' for database manipulation.\n",
    "- Previewing the first few rows to get a feel for the dataset’s structure, naming conventions, and early red flags (no one likes nasty surprises 30 cells in).\n",
    "- Checking the shape of the data because whether it's 500 rows or 50,000 completely changes the game.\n",
    "- Get metadata\n",
    "- Get basic statistics information of both numerica and categorical columns\n",
    "\n",
    "This is where trust is built- between us and the dataset.\n",
    "\n",
    "Exploration done right is part instinct, part structure- this is BOTH!"
   ]
  },
  {
   "cell_type": "code",
   "execution_count": 1058,
   "metadata": {},
   "outputs": [],
   "source": [
    "# Mathematical computation and data manipulation libraries\n",
    "import pandas as pd\n",
    "import numpy as np\n",
    "\n",
    "# Visualisation libraries\n",
    "import seaborn as sns\n",
    "import matplotlib.pyplot as plt\n",
    "\n",
    "# SQLite3 module\n",
    "import sqlite3"
   ]
  },
  {
   "cell_type": "markdown",
   "metadata": {},
   "source": [
    "### 1. BUDGET DATASET"
   ]
  },
  {
   "cell_type": "code",
<<<<<<< HEAD
   "execution_count": 90,
   "metadata": {},
   "outputs": [],
   "source": [
    "import pandas as pd\n",
    "import numpy as np\n",
    "import seaborn as sns\n",
    "import matplotlib.pyplot as plt\n",
    "import sqlite3"
   ]
  },
  {
   "cell_type": "code",
   "execution_count": 91,
=======
   "execution_count": 1059,
>>>>>>> c2fd2596b9e978fac457a1f007fe7fb42a731927
   "metadata": {},
   "outputs": [
    {
     "data": {
      "text/html": [
       "<div>\n",
       "<style scoped>\n",
       "    .dataframe tbody tr th:only-of-type {\n",
       "        vertical-align: middle;\n",
       "    }\n",
       "\n",
       "    .dataframe tbody tr th {\n",
       "        vertical-align: top;\n",
       "    }\n",
       "\n",
       "    .dataframe thead th {\n",
       "        text-align: right;\n",
       "    }\n",
       "</style>\n",
       "<table border=\"1\" class=\"dataframe\">\n",
       "  <thead>\n",
       "    <tr style=\"text-align: right;\">\n",
       "      <th></th>\n",
       "      <th>id</th>\n",
       "      <th>release_date</th>\n",
       "      <th>movie</th>\n",
       "      <th>production_budget</th>\n",
       "      <th>domestic_gross</th>\n",
       "      <th>worldwide_gross</th>\n",
       "    </tr>\n",
       "  </thead>\n",
       "  <tbody>\n",
       "    <tr>\n",
       "      <th>0</th>\n",
       "      <td>1</td>\n",
       "      <td>Dec 18, 2009</td>\n",
       "      <td>Avatar</td>\n",
       "      <td>$425,000,000</td>\n",
       "      <td>$760,507,625</td>\n",
       "      <td>$2,776,345,279</td>\n",
       "    </tr>\n",
       "    <tr>\n",
       "      <th>1</th>\n",
       "      <td>2</td>\n",
       "      <td>May 20, 2011</td>\n",
       "      <td>Pirates of the Caribbean: On Stranger Tides</td>\n",
       "      <td>$410,600,000</td>\n",
       "      <td>$241,063,875</td>\n",
       "      <td>$1,045,663,875</td>\n",
       "    </tr>\n",
       "    <tr>\n",
       "      <th>2</th>\n",
       "      <td>3</td>\n",
       "      <td>Jun 7, 2019</td>\n",
       "      <td>Dark Phoenix</td>\n",
       "      <td>$350,000,000</td>\n",
       "      <td>$42,762,350</td>\n",
       "      <td>$149,762,350</td>\n",
       "    </tr>\n",
       "    <tr>\n",
       "      <th>3</th>\n",
       "      <td>4</td>\n",
       "      <td>May 1, 2015</td>\n",
       "      <td>Avengers: Age of Ultron</td>\n",
       "      <td>$330,600,000</td>\n",
       "      <td>$459,005,868</td>\n",
       "      <td>$1,403,013,963</td>\n",
       "    </tr>\n",
       "    <tr>\n",
       "      <th>4</th>\n",
       "      <td>5</td>\n",
       "      <td>Dec 15, 2017</td>\n",
       "      <td>Star Wars Ep. VIII: The Last Jedi</td>\n",
       "      <td>$317,000,000</td>\n",
       "      <td>$620,181,382</td>\n",
       "      <td>$1,316,721,747</td>\n",
       "    </tr>\n",
       "  </tbody>\n",
       "</table>\n",
       "</div>"
      ],
      "text/plain": [
       "   id  release_date                                        movie  \\\n",
       "0   1  Dec 18, 2009                                       Avatar   \n",
       "1   2  May 20, 2011  Pirates of the Caribbean: On Stranger Tides   \n",
       "2   3   Jun 7, 2019                                 Dark Phoenix   \n",
       "3   4   May 1, 2015                      Avengers: Age of Ultron   \n",
       "4   5  Dec 15, 2017            Star Wars Ep. VIII: The Last Jedi   \n",
       "\n",
       "  production_budget domestic_gross worldwide_gross  \n",
       "0      $425,000,000   $760,507,625  $2,776,345,279  \n",
       "1      $410,600,000   $241,063,875  $1,045,663,875  \n",
       "2      $350,000,000    $42,762,350    $149,762,350  \n",
       "3      $330,600,000   $459,005,868  $1,403,013,963  \n",
       "4      $317,000,000   $620,181,382  $1,316,721,747  "
      ]
     },
<<<<<<< HEAD
     "execution_count": 91,
=======
     "execution_count": 1059,
>>>>>>> c2fd2596b9e978fac457a1f007fe7fb42a731927
     "metadata": {},
     "output_type": "execute_result"
    }
   ],
   "source": [
    "# Load the dataset\n",
    "budget_df = pd.read_csv(r'..\\Raw_Data\\tn.movie_budgets.csv', encoding = 'Latin1')\n",
    "budget_df.head() "
   ]
  },
  {
   "cell_type": "code",
<<<<<<< HEAD
   "execution_count": 92,
=======
   "execution_count": 1060,
   "metadata": {},
   "outputs": [
    {
     "name": "stdout",
     "output_type": "stream",
     "text": [
      "The dataset has 5782 rows and 6 columns.\n"
     ]
    }
   ],
   "source": [
    "# Display the shape\n",
    "print(f\"The dataset has {budget_df.shape[0]} rows and {budget_df.shape[1]} columns.\")"
   ]
  },
  {
   "cell_type": "code",
   "execution_count": 1061,
>>>>>>> c2fd2596b9e978fac457a1f007fe7fb42a731927
   "metadata": {},
   "outputs": [
    {
     "data": {
      "text/plain": [
       "Index(['id', 'release_date', 'movie', 'production_budget', 'domestic_gross',\n",
       "       'worldwide_gross'],\n",
       "      dtype='object')"
      ]
     },
<<<<<<< HEAD
     "execution_count": 92,
=======
     "execution_count": 1061,
>>>>>>> c2fd2596b9e978fac457a1f007fe7fb42a731927
     "metadata": {},
     "output_type": "execute_result"
    }
   ],
   "source": [
    "# Display column names\n",
    "budget_df.columns"
   ]
  },
  {
   "cell_type": "code",
<<<<<<< HEAD
   "execution_count": 93,
=======
   "execution_count": 1062,
   "metadata": {},
   "outputs": [
    {
     "name": "stdout",
     "output_type": "stream",
     "text": [
      "<class 'pandas.core.frame.DataFrame'>\n",
      "RangeIndex: 5782 entries, 0 to 5781\n",
      "Data columns (total 6 columns):\n",
      " #   Column             Non-Null Count  Dtype \n",
      "---  ------             --------------  ----- \n",
      " 0   id                 5782 non-null   int64 \n",
      " 1   release_date       5782 non-null   object\n",
      " 2   movie              5782 non-null   object\n",
      " 3   production_budget  5782 non-null   object\n",
      " 4   domestic_gross     5782 non-null   object\n",
      " 5   worldwide_gross    5782 non-null   object\n",
      "dtypes: int64(1), object(5)\n",
      "memory usage: 271.2+ KB\n"
     ]
    }
   ],
   "source": [
    "# Get metadata\n",
    "budget_df.info()"
   ]
  },
  {
   "cell_type": "code",
   "execution_count": 1063,
>>>>>>> c2fd2596b9e978fac457a1f007fe7fb42a731927
   "metadata": {},
   "outputs": [
    {
     "data": {
      "text/html": [
       "<div>\n",
       "<style scoped>\n",
       "    .dataframe tbody tr th:only-of-type {\n",
       "        vertical-align: middle;\n",
       "    }\n",
       "\n",
       "    .dataframe tbody tr th {\n",
       "        vertical-align: top;\n",
       "    }\n",
       "\n",
       "    .dataframe thead th {\n",
       "        text-align: right;\n",
       "    }\n",
       "</style>\n",
       "<table border=\"1\" class=\"dataframe\">\n",
       "  <thead>\n",
       "    <tr style=\"text-align: right;\">\n",
       "      <th></th>\n",
       "      <th>count</th>\n",
       "      <th>unique</th>\n",
       "      <th>top</th>\n",
       "      <th>freq</th>\n",
       "    </tr>\n",
       "  </thead>\n",
       "  <tbody>\n",
       "    <tr>\n",
       "      <th>release_date</th>\n",
       "      <td>5782</td>\n",
       "      <td>2418</td>\n",
       "      <td>Dec 31, 2014</td>\n",
       "      <td>24</td>\n",
       "    </tr>\n",
       "    <tr>\n",
       "      <th>movie</th>\n",
       "      <td>5782</td>\n",
       "      <td>5698</td>\n",
       "      <td>King Kong</td>\n",
       "      <td>3</td>\n",
       "    </tr>\n",
       "    <tr>\n",
       "      <th>production_budget</th>\n",
       "      <td>5782</td>\n",
       "      <td>509</td>\n",
       "      <td>$20,000,000</td>\n",
       "      <td>231</td>\n",
       "    </tr>\n",
       "    <tr>\n",
       "      <th>domestic_gross</th>\n",
       "      <td>5782</td>\n",
       "      <td>5164</td>\n",
       "      <td>$0</td>\n",
       "      <td>548</td>\n",
       "    </tr>\n",
       "    <tr>\n",
       "      <th>worldwide_gross</th>\n",
       "      <td>5782</td>\n",
       "      <td>5356</td>\n",
       "      <td>$0</td>\n",
       "      <td>367</td>\n",
       "    </tr>\n",
       "  </tbody>\n",
       "</table>\n",
       "</div>"
      ],
      "text/plain": [
       "                  count unique           top freq\n",
       "release_date       5782   2418  Dec 31, 2014   24\n",
       "movie              5782   5698     King Kong    3\n",
       "production_budget  5782    509   $20,000,000  231\n",
       "domestic_gross     5782   5164            $0  548\n",
       "worldwide_gross    5782   5356            $0  367"
      ]
     },
<<<<<<< HEAD
     "execution_count": 93,
=======
     "execution_count": 1063,
>>>>>>> c2fd2596b9e978fac457a1f007fe7fb42a731927
     "metadata": {},
     "output_type": "execute_result"
    }
   ],
   "source": [
    "# Display descriptive statistics for categorical columns\n",
    "budget_df.describe(include = 'O').T"
   ]
  },
  {
<<<<<<< HEAD
=======
   "cell_type": "code",
   "execution_count": 1064,
   "metadata": {},
   "outputs": [
    {
     "name": "stdout",
     "output_type": "stream",
     "text": [
      "Duplicates: 0\n",
      "\n",
      "Null Values:\n",
      " id                   0\n",
      "release_date         0\n",
      "movie                0\n",
      "production_budget    0\n",
      "domestic_gross       0\n",
      "worldwide_gross      0\n",
      "dtype: int64\n"
     ]
    }
   ],
   "source": [
    "# Check for duplicates and null values\n",
    "print(\"Duplicates:\", budget_df.duplicated().sum())\n",
    "print(\"\\nNull Values:\\n\", budget_df.isna().sum())"
   ]
  },
  {
>>>>>>> c2fd2596b9e978fac457a1f007fe7fb42a731927
   "cell_type": "markdown",
   "metadata": {},
   "source": [
    "### 2. GROSS DATASET"
   ]
  },
  {
   "cell_type": "code",
<<<<<<< HEAD
   "execution_count": 94,
   "metadata": {},
   "outputs": [],
=======
   "execution_count": 1065,
   "metadata": {},
   "outputs": [
    {
     "data": {
      "text/html": [
       "<div>\n",
       "<style scoped>\n",
       "    .dataframe tbody tr th:only-of-type {\n",
       "        vertical-align: middle;\n",
       "    }\n",
       "\n",
       "    .dataframe tbody tr th {\n",
       "        vertical-align: top;\n",
       "    }\n",
       "\n",
       "    .dataframe thead th {\n",
       "        text-align: right;\n",
       "    }\n",
       "</style>\n",
       "<table border=\"1\" class=\"dataframe\">\n",
       "  <thead>\n",
       "    <tr style=\"text-align: right;\">\n",
       "      <th></th>\n",
       "      <th>title</th>\n",
       "      <th>studio</th>\n",
       "      <th>domestic_gross</th>\n",
       "      <th>foreign_gross</th>\n",
       "      <th>year</th>\n",
       "    </tr>\n",
       "  </thead>\n",
       "  <tbody>\n",
       "    <tr>\n",
       "      <th>0</th>\n",
       "      <td>Toy Story 3</td>\n",
       "      <td>BV</td>\n",
       "      <td>415000000.0</td>\n",
       "      <td>652000000</td>\n",
       "      <td>2010</td>\n",
       "    </tr>\n",
       "    <tr>\n",
       "      <th>1</th>\n",
       "      <td>Alice in Wonderland (2010)</td>\n",
       "      <td>BV</td>\n",
       "      <td>334200000.0</td>\n",
       "      <td>691300000</td>\n",
       "      <td>2010</td>\n",
       "    </tr>\n",
       "    <tr>\n",
       "      <th>2</th>\n",
       "      <td>Harry Potter and the Deathly Hallows Part 1</td>\n",
       "      <td>WB</td>\n",
       "      <td>296000000.0</td>\n",
       "      <td>664300000</td>\n",
       "      <td>2010</td>\n",
       "    </tr>\n",
       "    <tr>\n",
       "      <th>3</th>\n",
       "      <td>Inception</td>\n",
       "      <td>WB</td>\n",
       "      <td>292600000.0</td>\n",
       "      <td>535700000</td>\n",
       "      <td>2010</td>\n",
       "    </tr>\n",
       "    <tr>\n",
       "      <th>4</th>\n",
       "      <td>Shrek Forever After</td>\n",
       "      <td>P/DW</td>\n",
       "      <td>238700000.0</td>\n",
       "      <td>513900000</td>\n",
       "      <td>2010</td>\n",
       "    </tr>\n",
       "  </tbody>\n",
       "</table>\n",
       "</div>"
      ],
      "text/plain": [
       "                                         title studio  domestic_gross  \\\n",
       "0                                  Toy Story 3     BV     415000000.0   \n",
       "1                   Alice in Wonderland (2010)     BV     334200000.0   \n",
       "2  Harry Potter and the Deathly Hallows Part 1     WB     296000000.0   \n",
       "3                                    Inception     WB     292600000.0   \n",
       "4                          Shrek Forever After   P/DW     238700000.0   \n",
       "\n",
       "  foreign_gross  year  \n",
       "0     652000000  2010  \n",
       "1     691300000  2010  \n",
       "2     664300000  2010  \n",
       "3     535700000  2010  \n",
       "4     513900000  2010  "
      ]
     },
     "execution_count": 1065,
     "metadata": {},
     "output_type": "execute_result"
    }
   ],
>>>>>>> c2fd2596b9e978fac457a1f007fe7fb42a731927
   "source": [
    "gross_df =pd.read_csv(r'..\\Raw_Data\\bom.movie_gross.csv',encoding = 'Latin1')\n"
   ]
  },
  {
   "cell_type": "code",
<<<<<<< HEAD
   "execution_count": 95,
=======
   "execution_count": 1066,
>>>>>>> c2fd2596b9e978fac457a1f007fe7fb42a731927
   "metadata": {},
   "outputs": [
    {
     "name": "stdout",
     "output_type": "stream",
     "text": [
      "The dataset has 3387 rows and 5 columns.\n"
     ]
    }
   ],
   "source": [
    "# Display the shape \n",
    "print(f\"The dataset has {gross_df.shape[0]} rows and {gross_df.shape[1]} columns.\")"
   ]
  },
  {
   "cell_type": "code",
<<<<<<< HEAD
   "execution_count": 96,
=======
   "execution_count": 1067,
   "metadata": {},
   "outputs": [
    {
     "name": "stdout",
     "output_type": "stream",
     "text": [
      "<class 'pandas.core.frame.DataFrame'>\n",
      "RangeIndex: 3387 entries, 0 to 3386\n",
      "Data columns (total 5 columns):\n",
      " #   Column          Non-Null Count  Dtype  \n",
      "---  ------          --------------  -----  \n",
      " 0   title           3387 non-null   object \n",
      " 1   studio          3382 non-null   object \n",
      " 2   domestic_gross  3359 non-null   float64\n",
      " 3   foreign_gross   2037 non-null   object \n",
      " 4   year            3387 non-null   int64  \n",
      "dtypes: float64(1), int64(1), object(3)\n",
      "memory usage: 132.4+ KB\n"
     ]
    }
   ],
   "source": [
    "# Get metadata \n",
    "gross_df.info()"
   ]
  },
  {
   "cell_type": "code",
   "execution_count": 1068,
>>>>>>> c2fd2596b9e978fac457a1f007fe7fb42a731927
   "metadata": {},
   "outputs": [
    {
     "data": {
      "text/html": [
       "<div>\n",
       "<style scoped>\n",
       "    .dataframe tbody tr th:only-of-type {\n",
       "        vertical-align: middle;\n",
       "    }\n",
       "\n",
       "    .dataframe tbody tr th {\n",
       "        vertical-align: top;\n",
       "    }\n",
       "\n",
       "    .dataframe thead th {\n",
       "        text-align: right;\n",
       "    }\n",
       "</style>\n",
       "<table border=\"1\" class=\"dataframe\">\n",
       "  <thead>\n",
       "    <tr style=\"text-align: right;\">\n",
       "      <th></th>\n",
       "      <th>domestic_gross</th>\n",
       "      <th>year</th>\n",
       "    </tr>\n",
       "  </thead>\n",
       "  <tbody>\n",
       "    <tr>\n",
       "      <th>count</th>\n",
       "      <td>3.359000e+03</td>\n",
       "      <td>3387.000000</td>\n",
       "    </tr>\n",
       "    <tr>\n",
       "      <th>mean</th>\n",
       "      <td>2.874585e+07</td>\n",
       "      <td>2013.958075</td>\n",
       "    </tr>\n",
       "    <tr>\n",
       "      <th>std</th>\n",
       "      <td>6.698250e+07</td>\n",
       "      <td>2.478141</td>\n",
       "    </tr>\n",
       "    <tr>\n",
       "      <th>min</th>\n",
       "      <td>1.000000e+02</td>\n",
       "      <td>2010.000000</td>\n",
       "    </tr>\n",
       "    <tr>\n",
       "      <th>25%</th>\n",
       "      <td>1.200000e+05</td>\n",
       "      <td>2012.000000</td>\n",
       "    </tr>\n",
       "    <tr>\n",
       "      <th>50%</th>\n",
       "      <td>1.400000e+06</td>\n",
       "      <td>2014.000000</td>\n",
       "    </tr>\n",
       "    <tr>\n",
       "      <th>75%</th>\n",
       "      <td>2.790000e+07</td>\n",
       "      <td>2016.000000</td>\n",
       "    </tr>\n",
       "    <tr>\n",
       "      <th>max</th>\n",
       "      <td>9.367000e+08</td>\n",
       "      <td>2018.000000</td>\n",
       "    </tr>\n",
       "  </tbody>\n",
       "</table>\n",
       "</div>"
      ],
      "text/plain": [
       "       domestic_gross         year\n",
       "count    3.359000e+03  3387.000000\n",
       "mean     2.874585e+07  2013.958075\n",
       "std      6.698250e+07     2.478141\n",
       "min      1.000000e+02  2010.000000\n",
       "25%      1.200000e+05  2012.000000\n",
       "50%      1.400000e+06  2014.000000\n",
       "75%      2.790000e+07  2016.000000\n",
       "max      9.367000e+08  2018.000000"
      ]
     },
<<<<<<< HEAD
     "execution_count": 96,
=======
     "execution_count": 1068,
>>>>>>> c2fd2596b9e978fac457a1f007fe7fb42a731927
     "metadata": {},
     "output_type": "execute_result"
    }
   ],
   "source": [
    "# Get basic statistics for numerical columns\n",
    "gross_df.describe()"
   ]
  },
  {
   "cell_type": "code",
<<<<<<< HEAD
   "execution_count": 97,
=======
   "execution_count": 1069,
   "metadata": {},
   "outputs": [
    {
     "data": {
      "text/html": [
       "<div>\n",
       "<style scoped>\n",
       "    .dataframe tbody tr th:only-of-type {\n",
       "        vertical-align: middle;\n",
       "    }\n",
       "\n",
       "    .dataframe tbody tr th {\n",
       "        vertical-align: top;\n",
       "    }\n",
       "\n",
       "    .dataframe thead th {\n",
       "        text-align: right;\n",
       "    }\n",
       "</style>\n",
       "<table border=\"1\" class=\"dataframe\">\n",
       "  <thead>\n",
       "    <tr style=\"text-align: right;\">\n",
       "      <th></th>\n",
       "      <th>count</th>\n",
       "      <th>unique</th>\n",
       "      <th>top</th>\n",
       "      <th>freq</th>\n",
       "    </tr>\n",
       "  </thead>\n",
       "  <tbody>\n",
       "    <tr>\n",
       "      <th>title</th>\n",
       "      <td>3387</td>\n",
       "      <td>3386</td>\n",
       "      <td>Bluebeard</td>\n",
       "      <td>2</td>\n",
       "    </tr>\n",
       "    <tr>\n",
       "      <th>studio</th>\n",
       "      <td>3382</td>\n",
       "      <td>257</td>\n",
       "      <td>IFC</td>\n",
       "      <td>166</td>\n",
       "    </tr>\n",
       "    <tr>\n",
       "      <th>foreign_gross</th>\n",
       "      <td>2037</td>\n",
       "      <td>1204</td>\n",
       "      <td>1200000</td>\n",
       "      <td>23</td>\n",
       "    </tr>\n",
       "  </tbody>\n",
       "</table>\n",
       "</div>"
      ],
      "text/plain": [
       "              count unique        top freq\n",
       "title          3387   3386  Bluebeard    2\n",
       "studio         3382    257        IFC  166\n",
       "foreign_gross  2037   1204    1200000   23"
      ]
     },
     "execution_count": 1069,
     "metadata": {},
     "output_type": "execute_result"
    }
   ],
   "source": [
    "# Get basic statistics for categorical columns\n",
    "gross_df.describe(include = 'O').T"
   ]
  },
  {
   "cell_type": "code",
   "execution_count": 1070,
>>>>>>> c2fd2596b9e978fac457a1f007fe7fb42a731927
   "metadata": {},
   "outputs": [
    {
     "name": "stdout",
     "output_type": "stream",
     "text": [
      "Duplicates: 0\n",
      "\n",
      "Null Values:\n",
      " title                0\n",
      "studio               5\n",
      "domestic_gross      28\n",
      "foreign_gross     1350\n",
      "year                 0\n",
      "dtype: int64\n"
     ]
    }
   ],
   "source": [
    "# Check for duplicates and null values\n",
    "print(\"Duplicates:\", gross_df.duplicated().sum())\n",
    "print(\"\\nNull Values:\\n\", gross_df.isna().sum())"
   ]
  },
  {
<<<<<<< HEAD
   "cell_type": "code",
   "execution_count": 98,
=======
   "cell_type": "markdown",
   "metadata": {},
   "source": [
    "### 3. TMDB MOVIES DATASET"
   ]
  },
  {
   "cell_type": "code",
   "execution_count": 1071,
>>>>>>> c2fd2596b9e978fac457a1f007fe7fb42a731927
   "metadata": {},
   "outputs": [
    {
     "data": {
      "text/html": [
       "<div>\n",
       "<style scoped>\n",
       "    .dataframe tbody tr th:only-of-type {\n",
       "        vertical-align: middle;\n",
       "    }\n",
       "\n",
       "    .dataframe tbody tr th {\n",
       "        vertical-align: top;\n",
       "    }\n",
       "\n",
       "    .dataframe thead th {\n",
       "        text-align: right;\n",
       "    }\n",
       "</style>\n",
       "<table border=\"1\" class=\"dataframe\">\n",
       "  <thead>\n",
       "    <tr style=\"text-align: right;\">\n",
       "      <th></th>\n",
       "      <th>genre_ids</th>\n",
       "      <th>id</th>\n",
       "      <th>original_language</th>\n",
       "      <th>original_title</th>\n",
       "      <th>popularity</th>\n",
       "      <th>release_date</th>\n",
       "      <th>title</th>\n",
       "      <th>vote_average</th>\n",
       "      <th>vote_count</th>\n",
       "    </tr>\n",
       "  </thead>\n",
       "  <tbody>\n",
       "    <tr>\n",
       "      <th>0</th>\n",
       "      <td>[12, 14, 10751]</td>\n",
       "      <td>12444</td>\n",
       "      <td>en</td>\n",
       "      <td>Harry Potter and the Deathly Hallows: Part 1</td>\n",
       "      <td>33.533</td>\n",
       "      <td>2010-11-19</td>\n",
       "      <td>Harry Potter and the Deathly Hallows: Part 1</td>\n",
       "      <td>7.7</td>\n",
       "      <td>10788</td>\n",
       "    </tr>\n",
       "    <tr>\n",
       "      <th>1</th>\n",
       "      <td>[14, 12, 16, 10751]</td>\n",
       "      <td>10191</td>\n",
       "      <td>en</td>\n",
       "      <td>How to Train Your Dragon</td>\n",
       "      <td>28.734</td>\n",
       "      <td>2010-03-26</td>\n",
       "      <td>How to Train Your Dragon</td>\n",
       "      <td>7.7</td>\n",
       "      <td>7610</td>\n",
       "    </tr>\n",
       "    <tr>\n",
       "      <th>2</th>\n",
       "      <td>[12, 28, 878]</td>\n",
       "      <td>10138</td>\n",
       "      <td>en</td>\n",
       "      <td>Iron Man 2</td>\n",
       "      <td>28.515</td>\n",
       "      <td>2010-05-07</td>\n",
       "      <td>Iron Man 2</td>\n",
       "      <td>6.8</td>\n",
       "      <td>12368</td>\n",
       "    </tr>\n",
       "    <tr>\n",
       "      <th>3</th>\n",
       "      <td>[16, 35, 10751]</td>\n",
       "      <td>862</td>\n",
       "      <td>en</td>\n",
       "      <td>Toy Story</td>\n",
       "      <td>28.005</td>\n",
       "      <td>1995-11-22</td>\n",
       "      <td>Toy Story</td>\n",
       "      <td>7.9</td>\n",
       "      <td>10174</td>\n",
       "    </tr>\n",
       "    <tr>\n",
       "      <th>4</th>\n",
       "      <td>[28, 878, 12]</td>\n",
       "      <td>27205</td>\n",
       "      <td>en</td>\n",
       "      <td>Inception</td>\n",
       "      <td>27.920</td>\n",
       "      <td>2010-07-16</td>\n",
       "      <td>Inception</td>\n",
       "      <td>8.3</td>\n",
       "      <td>22186</td>\n",
       "    </tr>\n",
       "  </tbody>\n",
       "</table>\n",
       "</div>"
      ],
      "text/plain": [
       "             genre_ids     id original_language  \\\n",
       "0      [12, 14, 10751]  12444                en   \n",
       "1  [14, 12, 16, 10751]  10191                en   \n",
       "2        [12, 28, 878]  10138                en   \n",
       "3      [16, 35, 10751]    862                en   \n",
       "4        [28, 878, 12]  27205                en   \n",
       "\n",
       "                                 original_title  popularity release_date  \\\n",
       "0  Harry Potter and the Deathly Hallows: Part 1      33.533   2010-11-19   \n",
       "1                      How to Train Your Dragon      28.734   2010-03-26   \n",
       "2                                    Iron Man 2      28.515   2010-05-07   \n",
       "3                                     Toy Story      28.005   1995-11-22   \n",
       "4                                     Inception      27.920   2010-07-16   \n",
       "\n",
       "                                          title  vote_average  vote_count  \n",
       "0  Harry Potter and the Deathly Hallows: Part 1           7.7       10788  \n",
       "1                      How to Train Your Dragon           7.7        7610  \n",
       "2                                    Iron Man 2           6.8       12368  \n",
       "3                                     Toy Story           7.9       10174  \n",
       "4                                     Inception           8.3       22186  "
      ]
     },
<<<<<<< HEAD
     "execution_count": 98,
=======
     "execution_count": 1071,
>>>>>>> c2fd2596b9e978fac457a1f007fe7fb42a731927
     "metadata": {},
     "output_type": "execute_result"
    }
   ],
   "source": [
    "# Load TMDB movies dataset\n",
    "tmdb_df = pd.read_csv(r'..\\Raw_Data\\tmdb.movies.csv', index_col = 0)\n",
    "tmdb_df.head()"
   ]
  },
  {
   "cell_type": "code",
<<<<<<< HEAD
   "execution_count": 99,
=======
   "execution_count": 1072,
   "metadata": {},
   "outputs": [
    {
     "name": "stdout",
     "output_type": "stream",
     "text": [
      "The dataset has 26517 rows and 9 columns.\n"
     ]
    }
   ],
   "source": [
    "# Display the shape\n",
    "print(f'The dataset has {tmdb_df.shape[0]} rows and {tmdb_df.shape[1]} columns.')"
   ]
  },
  {
   "cell_type": "code",
   "execution_count": 1073,
>>>>>>> c2fd2596b9e978fac457a1f007fe7fb42a731927
   "metadata": {},
   "outputs": [
    {
     "data": {
      "text/plain": [
       "Index(['genre_ids', 'id', 'original_language', 'original_title', 'popularity',\n",
       "       'release_date', 'title', 'vote_average', 'vote_count'],\n",
       "      dtype='object')"
      ]
     },
<<<<<<< HEAD
     "execution_count": 99,
=======
     "execution_count": 1073,
>>>>>>> c2fd2596b9e978fac457a1f007fe7fb42a731927
     "metadata": {},
     "output_type": "execute_result"
    }
   ],
   "source": [
    "# Display column names\n",
    "tmdb_df.columns"
   ]
  },
  {
   "cell_type": "code",
<<<<<<< HEAD
   "execution_count": 100,
=======
   "execution_count": 1074,
   "metadata": {},
   "outputs": [
    {
     "name": "stdout",
     "output_type": "stream",
     "text": [
      "<class 'pandas.core.frame.DataFrame'>\n",
      "Index: 26517 entries, 0 to 26516\n",
      "Data columns (total 9 columns):\n",
      " #   Column             Non-Null Count  Dtype  \n",
      "---  ------             --------------  -----  \n",
      " 0   genre_ids          26517 non-null  object \n",
      " 1   id                 26517 non-null  int64  \n",
      " 2   original_language  26517 non-null  object \n",
      " 3   original_title     26517 non-null  object \n",
      " 4   popularity         26517 non-null  float64\n",
      " 5   release_date       26517 non-null  object \n",
      " 6   title              26517 non-null  object \n",
      " 7   vote_average       26517 non-null  float64\n",
      " 8   vote_count         26517 non-null  int64  \n",
      "dtypes: float64(2), int64(2), object(5)\n",
      "memory usage: 2.0+ MB\n"
     ]
    }
   ],
   "source": [
    "# Get metadata\n",
    "tmdb_df.info()"
   ]
  },
  {
   "cell_type": "code",
   "execution_count": 1075,
>>>>>>> c2fd2596b9e978fac457a1f007fe7fb42a731927
   "metadata": {},
   "outputs": [
    {
     "data": {
      "text/html": [
       "<div>\n",
       "<style scoped>\n",
       "    .dataframe tbody tr th:only-of-type {\n",
       "        vertical-align: middle;\n",
       "    }\n",
       "\n",
       "    .dataframe tbody tr th {\n",
       "        vertical-align: top;\n",
       "    }\n",
       "\n",
       "    .dataframe thead th {\n",
       "        text-align: right;\n",
       "    }\n",
       "</style>\n",
       "<table border=\"1\" class=\"dataframe\">\n",
       "  <thead>\n",
       "    <tr style=\"text-align: right;\">\n",
       "      <th></th>\n",
       "      <th>count</th>\n",
       "      <th>mean</th>\n",
       "      <th>std</th>\n",
       "      <th>min</th>\n",
       "      <th>25%</th>\n",
       "      <th>50%</th>\n",
       "      <th>75%</th>\n",
       "      <th>max</th>\n",
       "    </tr>\n",
       "  </thead>\n",
       "  <tbody>\n",
       "    <tr>\n",
       "      <th>id</th>\n",
       "      <td>26517.0</td>\n",
       "      <td>295050.153260</td>\n",
       "      <td>153661.615648</td>\n",
       "      <td>27.0</td>\n",
       "      <td>157851.0</td>\n",
       "      <td>309581.000</td>\n",
       "      <td>419542.000</td>\n",
       "      <td>608444.000</td>\n",
       "    </tr>\n",
       "    <tr>\n",
       "      <th>popularity</th>\n",
       "      <td>26517.0</td>\n",
       "      <td>3.130912</td>\n",
       "      <td>4.355229</td>\n",
       "      <td>0.6</td>\n",
       "      <td>0.6</td>\n",
       "      <td>1.374</td>\n",
       "      <td>3.694</td>\n",
       "      <td>80.773</td>\n",
       "    </tr>\n",
       "    <tr>\n",
       "      <th>vote_average</th>\n",
       "      <td>26517.0</td>\n",
       "      <td>5.991281</td>\n",
       "      <td>1.852946</td>\n",
       "      <td>0.0</td>\n",
       "      <td>5.0</td>\n",
       "      <td>6.000</td>\n",
       "      <td>7.000</td>\n",
       "      <td>10.000</td>\n",
       "    </tr>\n",
       "    <tr>\n",
       "      <th>vote_count</th>\n",
       "      <td>26517.0</td>\n",
       "      <td>194.224837</td>\n",
       "      <td>960.961095</td>\n",
       "      <td>1.0</td>\n",
       "      <td>2.0</td>\n",
       "      <td>5.000</td>\n",
       "      <td>28.000</td>\n",
       "      <td>22186.000</td>\n",
       "    </tr>\n",
       "  </tbody>\n",
       "</table>\n",
       "</div>"
      ],
      "text/plain": [
       "                count           mean            std   min       25%  \\\n",
       "id            26517.0  295050.153260  153661.615648  27.0  157851.0   \n",
       "popularity    26517.0       3.130912       4.355229   0.6       0.6   \n",
       "vote_average  26517.0       5.991281       1.852946   0.0       5.0   \n",
       "vote_count    26517.0     194.224837     960.961095   1.0       2.0   \n",
       "\n",
       "                     50%         75%         max  \n",
       "id            309581.000  419542.000  608444.000  \n",
       "popularity         1.374       3.694      80.773  \n",
       "vote_average       6.000       7.000      10.000  \n",
       "vote_count         5.000      28.000   22186.000  "
      ]
     },
<<<<<<< HEAD
     "execution_count": 100,
=======
     "execution_count": 1075,
>>>>>>> c2fd2596b9e978fac457a1f007fe7fb42a731927
     "metadata": {},
     "output_type": "execute_result"
    }
   ],
   "source": [
    "# Display descriptive statistics for numerical columns\n",
    "tmdb_df.describe().T"
   ]
  },
  {
   "cell_type": "code",
<<<<<<< HEAD
   "execution_count": 101,
=======
   "execution_count": 1076,
   "metadata": {},
   "outputs": [
    {
     "data": {
      "text/html": [
       "<div>\n",
       "<style scoped>\n",
       "    .dataframe tbody tr th:only-of-type {\n",
       "        vertical-align: middle;\n",
       "    }\n",
       "\n",
       "    .dataframe tbody tr th {\n",
       "        vertical-align: top;\n",
       "    }\n",
       "\n",
       "    .dataframe thead th {\n",
       "        text-align: right;\n",
       "    }\n",
       "</style>\n",
       "<table border=\"1\" class=\"dataframe\">\n",
       "  <thead>\n",
       "    <tr style=\"text-align: right;\">\n",
       "      <th></th>\n",
       "      <th>count</th>\n",
       "      <th>unique</th>\n",
       "      <th>top</th>\n",
       "      <th>freq</th>\n",
       "    </tr>\n",
       "  </thead>\n",
       "  <tbody>\n",
       "    <tr>\n",
       "      <th>genre_ids</th>\n",
       "      <td>26517</td>\n",
       "      <td>2477</td>\n",
       "      <td>[99]</td>\n",
       "      <td>3700</td>\n",
       "    </tr>\n",
       "    <tr>\n",
       "      <th>original_language</th>\n",
       "      <td>26517</td>\n",
       "      <td>76</td>\n",
       "      <td>en</td>\n",
       "      <td>23291</td>\n",
       "    </tr>\n",
       "    <tr>\n",
       "      <th>original_title</th>\n",
       "      <td>26517</td>\n",
       "      <td>24835</td>\n",
       "      <td>Eden</td>\n",
       "      <td>7</td>\n",
       "    </tr>\n",
       "    <tr>\n",
       "      <th>release_date</th>\n",
       "      <td>26517</td>\n",
       "      <td>3433</td>\n",
       "      <td>2010-01-01</td>\n",
       "      <td>269</td>\n",
       "    </tr>\n",
       "    <tr>\n",
       "      <th>title</th>\n",
       "      <td>26517</td>\n",
       "      <td>24688</td>\n",
       "      <td>Eden</td>\n",
       "      <td>7</td>\n",
       "    </tr>\n",
       "  </tbody>\n",
       "</table>\n",
       "</div>"
      ],
      "text/plain": [
       "                   count unique         top   freq\n",
       "genre_ids          26517   2477        [99]   3700\n",
       "original_language  26517     76          en  23291\n",
       "original_title     26517  24835        Eden      7\n",
       "release_date       26517   3433  2010-01-01    269\n",
       "title              26517  24688        Eden      7"
      ]
     },
     "execution_count": 1076,
     "metadata": {},
     "output_type": "execute_result"
    }
   ],
   "source": [
    "# Display descriptive statistics for categorical columns\n",
    "tmdb_df.describe(include = 'O').T"
   ]
  },
  {
   "cell_type": "code",
   "execution_count": 1077,
>>>>>>> c2fd2596b9e978fac457a1f007fe7fb42a731927
   "metadata": {},
   "outputs": [
    {
     "name": "stdout",
     "output_type": "stream",
     "text": [
      "Duplicates: 1020\n",
      "\n",
      "Null Values:\n",
      " genre_ids            0\n",
      "id                   0\n",
      "original_language    0\n",
      "original_title       0\n",
      "popularity           0\n",
      "release_date         0\n",
      "title                0\n",
      "vote_average         0\n",
      "vote_count           0\n",
      "dtype: int64\n"
     ]
    }
   ],
   "source": [
    "# Check for duplicates and null values\n",
    "print('Duplicates:', tmdb_df.duplicated().sum())\n",
    "print('\\nNull Values:\\n', tmdb_df.isna().sum())"
   ]
  },
  {
<<<<<<< HEAD
   "cell_type": "code",
   "execution_count": 102,
=======
   "cell_type": "markdown",
   "metadata": {},
   "source": [
    "### 4. ROTTEN TOMATOES MOVIES INFORMATION DATASET"
   ]
  },
  {
   "cell_type": "code",
   "execution_count": 1078,
>>>>>>> c2fd2596b9e978fac457a1f007fe7fb42a731927
   "metadata": {},
   "outputs": [
    {
     "data": {
      "text/html": [
       "<div>\n",
       "<style scoped>\n",
       "    .dataframe tbody tr th:only-of-type {\n",
       "        vertical-align: middle;\n",
       "    }\n",
       "\n",
       "    .dataframe tbody tr th {\n",
       "        vertical-align: top;\n",
       "    }\n",
       "\n",
       "    .dataframe thead th {\n",
       "        text-align: right;\n",
       "    }\n",
       "</style>\n",
       "<table border=\"1\" class=\"dataframe\">\n",
       "  <thead>\n",
       "    <tr style=\"text-align: right;\">\n",
       "      <th></th>\n",
       "      <th>id</th>\n",
       "      <th>synopsis</th>\n",
       "      <th>rating</th>\n",
       "      <th>genre</th>\n",
       "      <th>director</th>\n",
       "      <th>writer</th>\n",
       "      <th>theater_date</th>\n",
       "      <th>dvd_date</th>\n",
       "      <th>currency</th>\n",
       "      <th>box_office</th>\n",
       "      <th>runtime</th>\n",
       "      <th>studio</th>\n",
       "    </tr>\n",
       "  </thead>\n",
       "  <tbody>\n",
       "    <tr>\n",
       "      <th>0</th>\n",
       "      <td>1</td>\n",
       "      <td>This gritty, fast-paced, and innovative police...</td>\n",
       "      <td>R</td>\n",
       "      <td>Action and Adventure|Classics|Drama</td>\n",
       "      <td>William Friedkin</td>\n",
       "      <td>Ernest Tidyman</td>\n",
       "      <td>Oct 9, 1971</td>\n",
       "      <td>Sep 25, 2001</td>\n",
       "      <td>NaN</td>\n",
       "      <td>NaN</td>\n",
       "      <td>104 minutes</td>\n",
       "      <td>NaN</td>\n",
       "    </tr>\n",
       "    <tr>\n",
       "      <th>1</th>\n",
       "      <td>3</td>\n",
       "      <td>New York City, not-too-distant-future: Eric Pa...</td>\n",
       "      <td>R</td>\n",
       "      <td>Drama|Science Fiction and Fantasy</td>\n",
       "      <td>David Cronenberg</td>\n",
       "      <td>David Cronenberg|Don DeLillo</td>\n",
       "      <td>Aug 17, 2012</td>\n",
       "      <td>Jan 1, 2013</td>\n",
       "      <td>$</td>\n",
       "      <td>600,000</td>\n",
       "      <td>108 minutes</td>\n",
       "      <td>Entertainment One</td>\n",
       "    </tr>\n",
       "    <tr>\n",
       "      <th>2</th>\n",
       "      <td>5</td>\n",
       "      <td>Illeana Douglas delivers a superb performance ...</td>\n",
       "      <td>R</td>\n",
       "      <td>Drama|Musical and Performing Arts</td>\n",
       "      <td>Allison Anders</td>\n",
       "      <td>Allison Anders</td>\n",
       "      <td>Sep 13, 1996</td>\n",
       "      <td>Apr 18, 2000</td>\n",
       "      <td>NaN</td>\n",
       "      <td>NaN</td>\n",
       "      <td>116 minutes</td>\n",
       "      <td>NaN</td>\n",
       "    </tr>\n",
       "    <tr>\n",
       "      <th>3</th>\n",
       "      <td>6</td>\n",
       "      <td>Michael Douglas runs afoul of a treacherous su...</td>\n",
       "      <td>R</td>\n",
       "      <td>Drama|Mystery and Suspense</td>\n",
       "      <td>Barry Levinson</td>\n",
       "      <td>Paul Attanasio|Michael Crichton</td>\n",
       "      <td>Dec 9, 1994</td>\n",
       "      <td>Aug 27, 1997</td>\n",
       "      <td>NaN</td>\n",
       "      <td>NaN</td>\n",
       "      <td>128 minutes</td>\n",
       "      <td>NaN</td>\n",
       "    </tr>\n",
       "    <tr>\n",
       "      <th>4</th>\n",
       "      <td>7</td>\n",
       "      <td>NaN</td>\n",
       "      <td>NR</td>\n",
       "      <td>Drama|Romance</td>\n",
       "      <td>Rodney Bennett</td>\n",
       "      <td>Giles Cooper</td>\n",
       "      <td>NaN</td>\n",
       "      <td>NaN</td>\n",
       "      <td>NaN</td>\n",
       "      <td>NaN</td>\n",
       "      <td>200 minutes</td>\n",
       "      <td>NaN</td>\n",
       "    </tr>\n",
       "  </tbody>\n",
       "</table>\n",
       "</div>"
      ],
      "text/plain": [
       "   id                                           synopsis rating  \\\n",
       "0   1  This gritty, fast-paced, and innovative police...      R   \n",
       "1   3  New York City, not-too-distant-future: Eric Pa...      R   \n",
       "2   5  Illeana Douglas delivers a superb performance ...      R   \n",
       "3   6  Michael Douglas runs afoul of a treacherous su...      R   \n",
       "4   7                                                NaN     NR   \n",
       "\n",
       "                                 genre          director  \\\n",
       "0  Action and Adventure|Classics|Drama  William Friedkin   \n",
       "1    Drama|Science Fiction and Fantasy  David Cronenberg   \n",
       "2    Drama|Musical and Performing Arts    Allison Anders   \n",
       "3           Drama|Mystery and Suspense    Barry Levinson   \n",
       "4                        Drama|Romance    Rodney Bennett   \n",
       "\n",
       "                            writer  theater_date      dvd_date currency  \\\n",
       "0                   Ernest Tidyman   Oct 9, 1971  Sep 25, 2001      NaN   \n",
       "1     David Cronenberg|Don DeLillo  Aug 17, 2012   Jan 1, 2013        $   \n",
       "2                   Allison Anders  Sep 13, 1996  Apr 18, 2000      NaN   \n",
       "3  Paul Attanasio|Michael Crichton   Dec 9, 1994  Aug 27, 1997      NaN   \n",
       "4                     Giles Cooper           NaN           NaN      NaN   \n",
       "\n",
       "  box_office      runtime             studio  \n",
       "0        NaN  104 minutes                NaN  \n",
       "1    600,000  108 minutes  Entertainment One  \n",
       "2        NaN  116 minutes                NaN  \n",
       "3        NaN  128 minutes                NaN  \n",
       "4        NaN  200 minutes                NaN  "
      ]
     },
<<<<<<< HEAD
     "execution_count": 102,
=======
     "execution_count": 1078,
>>>>>>> c2fd2596b9e978fac457a1f007fe7fb42a731927
     "metadata": {},
     "output_type": "execute_result"
    }
   ],
   "source": [
    "# Load dataset\n",
    "rt_movies_df = pd.read_csv(r\"..\\Raw_Data\\rt.movie_info.tsv\", sep = '\\t')\n",
    "rt_movies_df.head()"
   ]
  },
  {
   "cell_type": "code",
<<<<<<< HEAD
   "execution_count": 103,
=======
   "execution_count": 1079,
   "metadata": {},
   "outputs": [
    {
     "name": "stdout",
     "output_type": "stream",
     "text": [
      "The dataset has 1560 rows and 12 columns\n"
     ]
    }
   ],
   "source": [
    "# Get dataset shape\n",
    "print(f\"The dataset has {rt_movies_df.shape[0]} rows and {rt_movies_df.shape[1]} columns\")"
   ]
  },
  {
   "cell_type": "code",
   "execution_count": 1080,
>>>>>>> c2fd2596b9e978fac457a1f007fe7fb42a731927
   "metadata": {},
   "outputs": [
    {
     "data": {
      "text/plain": [
       "Index(['id', 'synopsis', 'rating', 'genre', 'director', 'writer',\n",
       "       'theater_date', 'dvd_date', 'currency', 'box_office', 'runtime',\n",
       "       'studio'],\n",
       "      dtype='object')"
      ]
     },
<<<<<<< HEAD
     "execution_count": 103,
=======
     "execution_count": 1080,
>>>>>>> c2fd2596b9e978fac457a1f007fe7fb42a731927
     "metadata": {},
     "output_type": "execute_result"
    }
   ],
   "source": [
    "# Display column names\n",
    "rt_movies_df.columns"
   ]
  },
  {
   "cell_type": "code",
<<<<<<< HEAD
   "execution_count": 104,
=======
   "execution_count": 1081,
   "metadata": {},
   "outputs": [
    {
     "name": "stdout",
     "output_type": "stream",
     "text": [
      "<class 'pandas.core.frame.DataFrame'>\n",
      "RangeIndex: 1560 entries, 0 to 1559\n",
      "Data columns (total 12 columns):\n",
      " #   Column        Non-Null Count  Dtype \n",
      "---  ------        --------------  ----- \n",
      " 0   id            1560 non-null   int64 \n",
      " 1   synopsis      1498 non-null   object\n",
      " 2   rating        1557 non-null   object\n",
      " 3   genre         1552 non-null   object\n",
      " 4   director      1361 non-null   object\n",
      " 5   writer        1111 non-null   object\n",
      " 6   theater_date  1201 non-null   object\n",
      " 7   dvd_date      1201 non-null   object\n",
      " 8   currency      340 non-null    object\n",
      " 9   box_office    340 non-null    object\n",
      " 10  runtime       1530 non-null   object\n",
      " 11  studio        494 non-null    object\n",
      "dtypes: int64(1), object(11)\n",
      "memory usage: 146.4+ KB\n"
     ]
    }
   ],
   "source": [
    "# Get metadata\n",
    "rt_movies_df.info()"
   ]
  },
  {
   "cell_type": "code",
   "execution_count": 1082,
>>>>>>> c2fd2596b9e978fac457a1f007fe7fb42a731927
   "metadata": {},
   "outputs": [
    {
     "data": {
      "text/html": [
       "<div>\n",
       "<style scoped>\n",
       "    .dataframe tbody tr th:only-of-type {\n",
       "        vertical-align: middle;\n",
       "    }\n",
       "\n",
       "    .dataframe tbody tr th {\n",
       "        vertical-align: top;\n",
       "    }\n",
       "\n",
       "    .dataframe thead th {\n",
       "        text-align: right;\n",
       "    }\n",
       "</style>\n",
       "<table border=\"1\" class=\"dataframe\">\n",
       "  <thead>\n",
       "    <tr style=\"text-align: right;\">\n",
       "      <th></th>\n",
       "      <th>count</th>\n",
       "      <th>unique</th>\n",
       "      <th>top</th>\n",
       "      <th>freq</th>\n",
       "    </tr>\n",
       "  </thead>\n",
       "  <tbody>\n",
       "    <tr>\n",
       "      <th>synopsis</th>\n",
       "      <td>1498</td>\n",
       "      <td>1497</td>\n",
       "      <td>A group of air crash survivors are stranded in...</td>\n",
       "      <td>2</td>\n",
       "    </tr>\n",
       "    <tr>\n",
       "      <th>rating</th>\n",
       "      <td>1557</td>\n",
       "      <td>6</td>\n",
       "      <td>R</td>\n",
       "      <td>521</td>\n",
       "    </tr>\n",
       "    <tr>\n",
       "      <th>genre</th>\n",
       "      <td>1552</td>\n",
       "      <td>299</td>\n",
       "      <td>Drama</td>\n",
       "      <td>151</td>\n",
       "    </tr>\n",
       "    <tr>\n",
       "      <th>director</th>\n",
       "      <td>1361</td>\n",
       "      <td>1125</td>\n",
       "      <td>Steven Spielberg</td>\n",
       "      <td>10</td>\n",
       "    </tr>\n",
       "    <tr>\n",
       "      <th>writer</th>\n",
       "      <td>1111</td>\n",
       "      <td>1069</td>\n",
       "      <td>Woody Allen</td>\n",
       "      <td>4</td>\n",
       "    </tr>\n",
       "    <tr>\n",
       "      <th>theater_date</th>\n",
       "      <td>1201</td>\n",
       "      <td>1025</td>\n",
       "      <td>Jan 1, 1987</td>\n",
       "      <td>8</td>\n",
       "    </tr>\n",
       "    <tr>\n",
       "      <th>dvd_date</th>\n",
       "      <td>1201</td>\n",
       "      <td>717</td>\n",
       "      <td>Jun 1, 2004</td>\n",
       "      <td>11</td>\n",
       "    </tr>\n",
       "    <tr>\n",
       "      <th>currency</th>\n",
       "      <td>340</td>\n",
       "      <td>1</td>\n",
       "      <td>$</td>\n",
       "      <td>340</td>\n",
       "    </tr>\n",
       "    <tr>\n",
       "      <th>box_office</th>\n",
       "      <td>340</td>\n",
       "      <td>336</td>\n",
       "      <td>200,000</td>\n",
       "      <td>2</td>\n",
       "    </tr>\n",
       "    <tr>\n",
       "      <th>runtime</th>\n",
       "      <td>1530</td>\n",
       "      <td>142</td>\n",
       "      <td>90 minutes</td>\n",
       "      <td>72</td>\n",
       "    </tr>\n",
       "    <tr>\n",
       "      <th>studio</th>\n",
       "      <td>494</td>\n",
       "      <td>200</td>\n",
       "      <td>Universal Pictures</td>\n",
       "      <td>35</td>\n",
       "    </tr>\n",
       "  </tbody>\n",
       "</table>\n",
       "</div>"
      ],
      "text/plain": [
       "             count unique                                                top  \\\n",
       "synopsis      1498   1497  A group of air crash survivors are stranded in...   \n",
       "rating        1557      6                                                  R   \n",
       "genre         1552    299                                              Drama   \n",
       "director      1361   1125                                   Steven Spielberg   \n",
       "writer        1111   1069                                        Woody Allen   \n",
       "theater_date  1201   1025                                        Jan 1, 1987   \n",
       "dvd_date      1201    717                                        Jun 1, 2004   \n",
       "currency       340      1                                                  $   \n",
       "box_office     340    336                                            200,000   \n",
       "runtime       1530    142                                         90 minutes   \n",
       "studio         494    200                                 Universal Pictures   \n",
       "\n",
       "             freq  \n",
       "synopsis        2  \n",
       "rating        521  \n",
       "genre         151  \n",
       "director       10  \n",
       "writer          4  \n",
       "theater_date    8  \n",
       "dvd_date       11  \n",
       "currency      340  \n",
       "box_office      2  \n",
       "runtime        72  \n",
       "studio         35  "
      ]
     },
<<<<<<< HEAD
     "execution_count": 104,
=======
     "execution_count": 1082,
>>>>>>> c2fd2596b9e978fac457a1f007fe7fb42a731927
     "metadata": {},
     "output_type": "execute_result"
    }
   ],
   "source": [
    "# Get basic statistical information for categorical columns\n",
    "rt_movies_df.describe(include = 'O').T"
   ]
  },
  {
<<<<<<< HEAD
=======
   "cell_type": "code",
   "execution_count": 1083,
   "metadata": {},
   "outputs": [
    {
     "name": "stdout",
     "output_type": "stream",
     "text": [
      "Duplicates: 0\n",
      "\n",
      "Null Values:\n",
      " id                 0\n",
      "synopsis          62\n",
      "rating             3\n",
      "genre              8\n",
      "director         199\n",
      "writer           449\n",
      "theater_date     359\n",
      "dvd_date         359\n",
      "currency        1220\n",
      "box_office      1220\n",
      "runtime           30\n",
      "studio          1066\n",
      "dtype: int64\n"
     ]
    }
   ],
   "source": [
    "print(\"Duplicates:\", rt_movies_df.duplicated().sum())\n",
    "print(\"\\nNull Values:\\n\", rt_movies_df.isna().sum())"
   ]
  },
  {
>>>>>>> c2fd2596b9e978fac457a1f007fe7fb42a731927
   "cell_type": "markdown",
   "metadata": {},
   "source": [
    "### 5. IMDB DATABASE EXPLORATION"
   ]
  },
  {
   "cell_type": "code",
   "execution_count": 1084,
   "metadata": {},
   "outputs": [
    {
     "data": {
      "text/plain": [
       "[('movie_basics',),\n",
       " ('directors',),\n",
       " ('known_for',),\n",
       " ('movie_akas',),\n",
       " ('movie_ratings',),\n",
       " ('persons',),\n",
       " ('principals',),\n",
       " ('writers',)]"
      ]
     },
     "execution_count": 1084,
     "metadata": {},
     "output_type": "execute_result"
    }
   ],
   "source": [
    "# Create database connection\n",
    "conn = sqlite3.connect(r'..\\Raw_Data\\im.db') \n",
    "cur = conn.cursor()\n",
    "\n",
    "# View all tables in the database\n",
    "cur.execute(\"\"\"SELECT name FROM sqlite_master WHERE type = 'table';\"\"\")\n",
    "cur.fetchall() "
   ]
  },
  {
   "cell_type": "markdown",
   "metadata": {},
   "source": [
    "### Focus Areas\n",
    "\n",
    "We’re working with a local IMDB database structured across multiple relational tables:\n",
    "\n",
    "- movie_basics \n",
    "- directors \n",
    "- known_for  \n",
    "- movie_akas  \n",
    "- movie_ratings  \n",
    "- persons\n",
    "- principals  \n",
    "- writers\n",
    "\n",
    "Our primarily focus is on the **movie_basics** and **movie_ratings** tables, as they form the foundation for exploring patterns in movie data and audience response.\n",
    "\n",
    "At this stage, we’ll begin by:\n",
    "- Inspecting the structure and columns of each table\n",
    "- Understanding how the tables relate (e.g. shared keys)\n",
    "- Identifying relevant variables for our analysis\n",
    "\n",
    "Our goal is to uncover trends, correlations, and insights from movie metadata (like genre, title, year). Let’s start by peeking inside the structure of these two key tables."
   ]
  },
  {
   "cell_type": "markdown",
   "metadata": {},
   "source": [
    "### Movie Basics Table Exploration"
   ]
  },
  {
   "cell_type": "code",
   "execution_count": 1085,
   "metadata": {},
   "outputs": [
    {
     "data": {
      "text/html": [
       "<div>\n",
       "<style scoped>\n",
       "    .dataframe tbody tr th:only-of-type {\n",
       "        vertical-align: middle;\n",
       "    }\n",
       "\n",
       "    .dataframe tbody tr th {\n",
       "        vertical-align: top;\n",
       "    }\n",
       "\n",
       "    .dataframe thead th {\n",
       "        text-align: right;\n",
       "    }\n",
       "</style>\n",
       "<table border=\"1\" class=\"dataframe\">\n",
       "  <thead>\n",
       "    <tr style=\"text-align: right;\">\n",
       "      <th></th>\n",
       "      <th>movie_id</th>\n",
       "      <th>primary_title</th>\n",
       "      <th>original_title</th>\n",
       "      <th>start_year</th>\n",
       "      <th>runtime_minutes</th>\n",
       "      <th>genres</th>\n",
       "    </tr>\n",
       "  </thead>\n",
       "  <tbody>\n",
       "    <tr>\n",
       "      <th>0</th>\n",
       "      <td>tt0063540</td>\n",
       "      <td>Sunghursh</td>\n",
       "      <td>Sunghursh</td>\n",
       "      <td>2013</td>\n",
       "      <td>175.0</td>\n",
       "      <td>Action,Crime,Drama</td>\n",
       "    </tr>\n",
       "    <tr>\n",
       "      <th>1</th>\n",
       "      <td>tt0066787</td>\n",
       "      <td>One Day Before the Rainy Season</td>\n",
       "      <td>Ashad Ka Ek Din</td>\n",
       "      <td>2019</td>\n",
       "      <td>114.0</td>\n",
       "      <td>Biography,Drama</td>\n",
       "    </tr>\n",
       "    <tr>\n",
       "      <th>2</th>\n",
       "      <td>tt0069049</td>\n",
       "      <td>The Other Side of the Wind</td>\n",
       "      <td>The Other Side of the Wind</td>\n",
       "      <td>2018</td>\n",
       "      <td>122.0</td>\n",
       "      <td>Drama</td>\n",
       "    </tr>\n",
       "    <tr>\n",
       "      <th>3</th>\n",
       "      <td>tt0069204</td>\n",
       "      <td>Sabse Bada Sukh</td>\n",
       "      <td>Sabse Bada Sukh</td>\n",
       "      <td>2018</td>\n",
       "      <td>NaN</td>\n",
       "      <td>Comedy,Drama</td>\n",
       "    </tr>\n",
       "    <tr>\n",
       "      <th>4</th>\n",
       "      <td>tt0100275</td>\n",
       "      <td>The Wandering Soap Opera</td>\n",
       "      <td>La Telenovela Errante</td>\n",
       "      <td>2017</td>\n",
       "      <td>80.0</td>\n",
       "      <td>Comedy,Drama,Fantasy</td>\n",
       "    </tr>\n",
       "  </tbody>\n",
       "</table>\n",
       "</div>"
      ],
      "text/plain": [
       "    movie_id                    primary_title              original_title  \\\n",
       "0  tt0063540                        Sunghursh                   Sunghursh   \n",
       "1  tt0066787  One Day Before the Rainy Season             Ashad Ka Ek Din   \n",
       "2  tt0069049       The Other Side of the Wind  The Other Side of the Wind   \n",
       "3  tt0069204                  Sabse Bada Sukh             Sabse Bada Sukh   \n",
       "4  tt0100275         The Wandering Soap Opera       La Telenovela Errante   \n",
       "\n",
       "   start_year  runtime_minutes                genres  \n",
       "0        2013            175.0    Action,Crime,Drama  \n",
       "1        2019            114.0       Biography,Drama  \n",
       "2        2018            122.0                 Drama  \n",
       "3        2018              NaN          Comedy,Drama  \n",
       "4        2017             80.0  Comedy,Drama,Fantasy  "
      ]
     },
     "execution_count": 1085,
     "metadata": {},
     "output_type": "execute_result"
    }
   ],
   "source": [
    "# Connect to movie_basics table and print out first few rows\n",
    "moviebasics_df = pd.read_sql(\n",
    "    \"\"\"\n",
    "        SELECT * \n",
    "        FROM movie_basics\n",
    "    \"\"\", conn)\n",
    "\n",
    "moviebasics_df.head() "
   ]
  },
  {
   "cell_type": "code",
   "execution_count": 1086,
   "metadata": {},
   "outputs": [
    {
     "name": "stdout",
     "output_type": "stream",
     "text": [
      "The table contains 146144 rows and 6 columns\n"
     ]
    }
   ],
   "source": [
    "# Get table shape\n",
    "print(f\"The table contains {moviebasics_df.shape[0]} rows and {moviebasics_df.shape[1]} columns\")"
   ]
  },
  {
   "cell_type": "code",
   "execution_count": 1087,
   "metadata": {},
   "outputs": [
    {
     "data": {
      "text/plain": [
       "Index(['movie_id', 'primary_title', 'original_title', 'start_year',\n",
       "       'runtime_minutes', 'genres'],\n",
       "      dtype='object')"
      ]
     },
     "execution_count": 1087,
     "metadata": {},
     "output_type": "execute_result"
    }
   ],
   "source": [
    "# Get column names\n",
    "moviebasics_df.columns"
   ]
  },
  {
   "cell_type": "code",
   "execution_count": 1088,
   "metadata": {},
   "outputs": [
    {
     "name": "stdout",
     "output_type": "stream",
     "text": [
      "<class 'pandas.core.frame.DataFrame'>\n",
      "RangeIndex: 146144 entries, 0 to 146143\n",
      "Data columns (total 6 columns):\n",
      " #   Column           Non-Null Count   Dtype  \n",
      "---  ------           --------------   -----  \n",
      " 0   movie_id         146144 non-null  object \n",
      " 1   primary_title    146144 non-null  object \n",
      " 2   original_title   146123 non-null  object \n",
      " 3   start_year       146144 non-null  int64  \n",
      " 4   runtime_minutes  114405 non-null  float64\n",
      " 5   genres           140736 non-null  object \n",
      "dtypes: float64(1), int64(1), object(4)\n",
      "memory usage: 6.7+ MB\n"
     ]
    }
   ],
   "source": [
    "# Get metadata\n",
    "moviebasics_df.info()"
   ]
  },
  {
   "cell_type": "code",
   "execution_count": 1089,
   "metadata": {},
   "outputs": [
    {
     "data": {
      "text/html": [
       "<div>\n",
       "<style scoped>\n",
       "    .dataframe tbody tr th:only-of-type {\n",
       "        vertical-align: middle;\n",
       "    }\n",
       "\n",
       "    .dataframe tbody tr th {\n",
       "        vertical-align: top;\n",
       "    }\n",
       "\n",
       "    .dataframe thead th {\n",
       "        text-align: right;\n",
       "    }\n",
       "</style>\n",
       "<table border=\"1\" class=\"dataframe\">\n",
       "  <thead>\n",
       "    <tr style=\"text-align: right;\">\n",
       "      <th></th>\n",
       "      <th>count</th>\n",
       "      <th>unique</th>\n",
       "      <th>top</th>\n",
       "      <th>freq</th>\n",
       "    </tr>\n",
       "  </thead>\n",
       "  <tbody>\n",
       "    <tr>\n",
       "      <th>movie_id</th>\n",
       "      <td>146144</td>\n",
       "      <td>146144</td>\n",
       "      <td>tt9914662</td>\n",
       "      <td>1</td>\n",
       "    </tr>\n",
       "    <tr>\n",
       "      <th>primary_title</th>\n",
       "      <td>146144</td>\n",
       "      <td>136071</td>\n",
       "      <td>Home</td>\n",
       "      <td>24</td>\n",
       "    </tr>\n",
       "    <tr>\n",
       "      <th>original_title</th>\n",
       "      <td>146123</td>\n",
       "      <td>137773</td>\n",
       "      <td>Broken</td>\n",
       "      <td>19</td>\n",
       "    </tr>\n",
       "    <tr>\n",
       "      <th>genres</th>\n",
       "      <td>140736</td>\n",
       "      <td>1085</td>\n",
       "      <td>Documentary</td>\n",
       "      <td>32185</td>\n",
       "    </tr>\n",
       "  </tbody>\n",
       "</table>\n",
       "</div>"
      ],
      "text/plain": [
       "                 count  unique          top   freq\n",
       "movie_id        146144  146144    tt9914662      1\n",
       "primary_title   146144  136071         Home     24\n",
       "original_title  146123  137773       Broken     19\n",
       "genres          140736    1085  Documentary  32185"
      ]
     },
     "execution_count": 1089,
     "metadata": {},
     "output_type": "execute_result"
    }
   ],
   "source": [
    "# Get basic statistical information for all categorical variables\n",
    "moviebasics_df.describe(include = 'O').T"
   ]
  },
  {
   "cell_type": "code",
   "execution_count": 1090,
   "metadata": {},
   "outputs": [
    {
     "data": {
      "text/html": [
       "<div>\n",
       "<style scoped>\n",
       "    .dataframe tbody tr th:only-of-type {\n",
       "        vertical-align: middle;\n",
       "    }\n",
       "\n",
       "    .dataframe tbody tr th {\n",
       "        vertical-align: top;\n",
       "    }\n",
       "\n",
       "    .dataframe thead th {\n",
       "        text-align: right;\n",
       "    }\n",
       "</style>\n",
       "<table border=\"1\" class=\"dataframe\">\n",
       "  <thead>\n",
       "    <tr style=\"text-align: right;\">\n",
       "      <th></th>\n",
       "      <th>count</th>\n",
       "      <th>mean</th>\n",
       "      <th>std</th>\n",
       "      <th>min</th>\n",
       "      <th>25%</th>\n",
       "      <th>50%</th>\n",
       "      <th>75%</th>\n",
       "      <th>max</th>\n",
       "    </tr>\n",
       "  </thead>\n",
       "  <tbody>\n",
       "    <tr>\n",
       "      <th>start_year</th>\n",
       "      <td>146144.0</td>\n",
       "      <td>2014.621798</td>\n",
       "      <td>2.733583</td>\n",
       "      <td>2010.0</td>\n",
       "      <td>2012.0</td>\n",
       "      <td>2015.0</td>\n",
       "      <td>2017.0</td>\n",
       "      <td>2115.0</td>\n",
       "    </tr>\n",
       "    <tr>\n",
       "      <th>runtime_minutes</th>\n",
       "      <td>114405.0</td>\n",
       "      <td>86.187247</td>\n",
       "      <td>166.360590</td>\n",
       "      <td>1.0</td>\n",
       "      <td>70.0</td>\n",
       "      <td>87.0</td>\n",
       "      <td>99.0</td>\n",
       "      <td>51420.0</td>\n",
       "    </tr>\n",
       "  </tbody>\n",
       "</table>\n",
       "</div>"
      ],
      "text/plain": [
       "                    count         mean         std     min     25%     50%  \\\n",
       "start_year       146144.0  2014.621798    2.733583  2010.0  2012.0  2015.0   \n",
       "runtime_minutes  114405.0    86.187247  166.360590     1.0    70.0    87.0   \n",
       "\n",
       "                    75%      max  \n",
       "start_year       2017.0   2115.0  \n",
       "runtime_minutes    99.0  51420.0  "
      ]
     },
     "execution_count": 1090,
     "metadata": {},
     "output_type": "execute_result"
    }
   ],
   "source": [
    "# Get basic statistical information for all numeric variables\n",
    "moviebasics_df.describe().T"
   ]
  },
  {
   "cell_type": "code",
   "execution_count": 1091,
   "metadata": {},
   "outputs": [
    {
     "name": "stdout",
     "output_type": "stream",
     "text": [
      "Duplicates: 0\n",
      "\n",
      "Null Values:\n",
      " movie_id               0\n",
      "primary_title          0\n",
      "original_title        21\n",
      "start_year             0\n",
      "runtime_minutes    31739\n",
      "genres              5408\n",
      "dtype: int64\n"
     ]
    }
   ],
   "source": [
    "# Display number of duplicates and null values\n",
    "print(\"Duplicates:\", moviebasics_df.duplicated().sum())\n",
    "print(\"\\nNull Values:\\n\", moviebasics_df.isna().sum())"
   ]
  },
  {
   "cell_type": "markdown",
   "metadata": {},
   "source": [
    "### Movie Ratings Table"
   ]
  },
  {
   "cell_type": "code",
   "execution_count": 1092,
   "metadata": {},
   "outputs": [
    {
     "data": {
      "text/html": [
       "<div>\n",
       "<style scoped>\n",
       "    .dataframe tbody tr th:only-of-type {\n",
       "        vertical-align: middle;\n",
       "    }\n",
       "\n",
       "    .dataframe tbody tr th {\n",
       "        vertical-align: top;\n",
       "    }\n",
       "\n",
       "    .dataframe thead th {\n",
       "        text-align: right;\n",
       "    }\n",
       "</style>\n",
       "<table border=\"1\" class=\"dataframe\">\n",
       "  <thead>\n",
       "    <tr style=\"text-align: right;\">\n",
       "      <th></th>\n",
       "      <th>movie_id</th>\n",
       "      <th>averagerating</th>\n",
       "      <th>numvotes</th>\n",
       "    </tr>\n",
       "  </thead>\n",
       "  <tbody>\n",
       "    <tr>\n",
       "      <th>0</th>\n",
       "      <td>tt10356526</td>\n",
       "      <td>8.3</td>\n",
       "      <td>31</td>\n",
       "    </tr>\n",
       "    <tr>\n",
       "      <th>1</th>\n",
       "      <td>tt10384606</td>\n",
       "      <td>8.9</td>\n",
       "      <td>559</td>\n",
       "    </tr>\n",
       "    <tr>\n",
       "      <th>2</th>\n",
       "      <td>tt1042974</td>\n",
       "      <td>6.4</td>\n",
       "      <td>20</td>\n",
       "    </tr>\n",
       "    <tr>\n",
       "      <th>3</th>\n",
       "      <td>tt1043726</td>\n",
       "      <td>4.2</td>\n",
       "      <td>50352</td>\n",
       "    </tr>\n",
       "    <tr>\n",
       "      <th>4</th>\n",
       "      <td>tt1060240</td>\n",
       "      <td>6.5</td>\n",
       "      <td>21</td>\n",
       "    </tr>\n",
       "  </tbody>\n",
       "</table>\n",
       "</div>"
      ],
      "text/plain": [
       "     movie_id  averagerating  numvotes\n",
       "0  tt10356526            8.3        31\n",
       "1  tt10384606            8.9       559\n",
       "2   tt1042974            6.4        20\n",
       "3   tt1043726            4.2     50352\n",
       "4   tt1060240            6.5        21"
      ]
     },
     "execution_count": 1092,
     "metadata": {},
     "output_type": "execute_result"
    }
   ],
   "source": [
    "# Load movie_ratings table \n",
    "movieratings_df = pd.read_sql(\n",
    "    \"\"\"\n",
    "        SELECT * \n",
    "        FROM movie_ratings\n",
    "    \"\"\", conn)\n",
    "\n",
    "movieratings_df.head()"
   ]
  },
  {
   "cell_type": "code",
   "execution_count": 1093,
   "metadata": {},
   "outputs": [
    {
     "name": "stdout",
     "output_type": "stream",
     "text": [
      "The table contains 73856 rows and 3 columns\n"
     ]
    }
   ],
   "source": [
    "# Get table shape\n",
    "print(f\"The table contains {movieratings_df.shape[0]} rows and {movieratings_df.shape[1]} columns\")"
   ]
  },
  {
   "cell_type": "code",
   "execution_count": 1094,
   "metadata": {},
   "outputs": [
    {
     "data": {
      "text/plain": [
       "Index(['movie_id', 'averagerating', 'numvotes'], dtype='object')"
      ]
     },
     "execution_count": 1094,
     "metadata": {},
     "output_type": "execute_result"
    }
   ],
   "source": [
    "# F+Get column names\n",
    "movieratings_df.columns"
   ]
  },
  {
   "cell_type": "code",
   "execution_count": 1095,
   "metadata": {},
   "outputs": [
    {
     "name": "stdout",
     "output_type": "stream",
     "text": [
      "<class 'pandas.core.frame.DataFrame'>\n",
      "RangeIndex: 73856 entries, 0 to 73855\n",
      "Data columns (total 3 columns):\n",
      " #   Column         Non-Null Count  Dtype  \n",
      "---  ------         --------------  -----  \n",
      " 0   movie_id       73856 non-null  object \n",
      " 1   averagerating  73856 non-null  float64\n",
      " 2   numvotes       73856 non-null  int64  \n",
      "dtypes: float64(1), int64(1), object(1)\n",
      "memory usage: 1.7+ MB\n"
     ]
    }
   ],
   "source": [
    "# Get metadata\n",
    "movieratings_df.info()"
   ]
  },
  {
   "cell_type": "code",
   "execution_count": 1096,
   "metadata": {},
   "outputs": [
    {
     "data": {
      "text/html": [
       "<div>\n",
       "<style scoped>\n",
       "    .dataframe tbody tr th:only-of-type {\n",
       "        vertical-align: middle;\n",
       "    }\n",
       "\n",
       "    .dataframe tbody tr th {\n",
       "        vertical-align: top;\n",
       "    }\n",
       "\n",
       "    .dataframe thead th {\n",
       "        text-align: right;\n",
       "    }\n",
       "</style>\n",
       "<table border=\"1\" class=\"dataframe\">\n",
       "  <thead>\n",
       "    <tr style=\"text-align: right;\">\n",
       "      <th></th>\n",
       "      <th>count</th>\n",
       "      <th>mean</th>\n",
       "      <th>std</th>\n",
       "      <th>min</th>\n",
       "      <th>25%</th>\n",
       "      <th>50%</th>\n",
       "      <th>75%</th>\n",
       "      <th>max</th>\n",
       "    </tr>\n",
       "  </thead>\n",
       "  <tbody>\n",
       "    <tr>\n",
       "      <th>averagerating</th>\n",
       "      <td>73856.0</td>\n",
       "      <td>6.332729</td>\n",
       "      <td>1.474978</td>\n",
       "      <td>1.0</td>\n",
       "      <td>5.5</td>\n",
       "      <td>6.5</td>\n",
       "      <td>7.4</td>\n",
       "      <td>10.0</td>\n",
       "    </tr>\n",
       "    <tr>\n",
       "      <th>numvotes</th>\n",
       "      <td>73856.0</td>\n",
       "      <td>3523.662167</td>\n",
       "      <td>30294.022971</td>\n",
       "      <td>5.0</td>\n",
       "      <td>14.0</td>\n",
       "      <td>49.0</td>\n",
       "      <td>282.0</td>\n",
       "      <td>1841066.0</td>\n",
       "    </tr>\n",
       "  </tbody>\n",
       "</table>\n",
       "</div>"
      ],
      "text/plain": [
       "                 count         mean           std  min   25%   50%    75%  \\\n",
       "averagerating  73856.0     6.332729      1.474978  1.0   5.5   6.5    7.4   \n",
       "numvotes       73856.0  3523.662167  30294.022971  5.0  14.0  49.0  282.0   \n",
       "\n",
       "                     max  \n",
       "averagerating       10.0  \n",
       "numvotes       1841066.0  "
      ]
     },
     "execution_count": 1096,
     "metadata": {},
     "output_type": "execute_result"
    }
   ],
   "source": [
    "# Get basic statistical information of numeric variables\n",
    "movieratings_df.describe().T"
   ]
  },
  {
   "cell_type": "code",
   "execution_count": 1097,
   "metadata": {},
   "outputs": [
    {
     "name": "stdout",
     "output_type": "stream",
     "text": [
      "Duplicates: 0\n",
      "\n",
      "Null Values:\n",
      " movie_id         0\n",
      "averagerating    0\n",
      "numvotes         0\n",
      "dtype: int64\n"
     ]
    }
   ],
   "source": [
    "# Find out number of duplicates and null values present\n",
    "print(\"Duplicates:\", movieratings_df.duplicated().sum())\n",
    "print(\"\\nNull Values:\\n\", movieratings_df.isna().sum())"
   ]
  },
  {
   "cell_type": "code",
   "execution_count": 1098,
   "metadata": {},
   "outputs": [
    {
     "data": {
      "text/html": [
       "<div>\n",
       "<style scoped>\n",
       "    .dataframe tbody tr th:only-of-type {\n",
       "        vertical-align: middle;\n",
       "    }\n",
       "\n",
       "    .dataframe tbody tr th {\n",
       "        vertical-align: top;\n",
       "    }\n",
       "\n",
       "    .dataframe thead th {\n",
       "        text-align: right;\n",
       "    }\n",
       "</style>\n",
       "<table border=\"1\" class=\"dataframe\">\n",
       "  <thead>\n",
       "    <tr style=\"text-align: right;\">\n",
       "      <th></th>\n",
       "      <th>movie_id</th>\n",
       "      <th>primary_title</th>\n",
       "      <th>original_title</th>\n",
       "      <th>start_year</th>\n",
       "      <th>runtime_minutes</th>\n",
       "      <th>genres</th>\n",
       "      <th>averagerating</th>\n",
       "      <th>numvotes</th>\n",
       "    </tr>\n",
       "  </thead>\n",
       "  <tbody>\n",
       "    <tr>\n",
       "      <th>0</th>\n",
       "      <td>tt0063540</td>\n",
       "      <td>Sunghursh</td>\n",
       "      <td>Sunghursh</td>\n",
       "      <td>2013</td>\n",
       "      <td>175.0</td>\n",
       "      <td>Action,Crime,Drama</td>\n",
       "      <td>7.0</td>\n",
       "      <td>77</td>\n",
       "    </tr>\n",
       "    <tr>\n",
       "      <th>1</th>\n",
       "      <td>tt0066787</td>\n",
       "      <td>One Day Before the Rainy Season</td>\n",
       "      <td>Ashad Ka Ek Din</td>\n",
       "      <td>2019</td>\n",
       "      <td>114.0</td>\n",
       "      <td>Biography,Drama</td>\n",
       "      <td>7.2</td>\n",
       "      <td>43</td>\n",
       "    </tr>\n",
       "    <tr>\n",
       "      <th>2</th>\n",
       "      <td>tt0069049</td>\n",
       "      <td>The Other Side of the Wind</td>\n",
       "      <td>The Other Side of the Wind</td>\n",
       "      <td>2018</td>\n",
       "      <td>122.0</td>\n",
       "      <td>Drama</td>\n",
       "      <td>6.9</td>\n",
       "      <td>4517</td>\n",
       "    </tr>\n",
       "    <tr>\n",
       "      <th>3</th>\n",
       "      <td>tt0069204</td>\n",
       "      <td>Sabse Bada Sukh</td>\n",
       "      <td>Sabse Bada Sukh</td>\n",
       "      <td>2018</td>\n",
       "      <td>NaN</td>\n",
       "      <td>Comedy,Drama</td>\n",
       "      <td>6.1</td>\n",
       "      <td>13</td>\n",
       "    </tr>\n",
       "    <tr>\n",
       "      <th>4</th>\n",
       "      <td>tt0100275</td>\n",
       "      <td>The Wandering Soap Opera</td>\n",
       "      <td>La Telenovela Errante</td>\n",
       "      <td>2017</td>\n",
       "      <td>80.0</td>\n",
       "      <td>Comedy,Drama,Fantasy</td>\n",
       "      <td>6.5</td>\n",
       "      <td>119</td>\n",
       "    </tr>\n",
       "  </tbody>\n",
       "</table>\n",
       "</div>"
      ],
      "text/plain": [
       "    movie_id                    primary_title              original_title  \\\n",
       "0  tt0063540                        Sunghursh                   Sunghursh   \n",
       "1  tt0066787  One Day Before the Rainy Season             Ashad Ka Ek Din   \n",
       "2  tt0069049       The Other Side of the Wind  The Other Side of the Wind   \n",
       "3  tt0069204                  Sabse Bada Sukh             Sabse Bada Sukh   \n",
       "4  tt0100275         The Wandering Soap Opera       La Telenovela Errante   \n",
       "\n",
       "   start_year  runtime_minutes                genres  averagerating  numvotes  \n",
       "0        2013            175.0    Action,Crime,Drama            7.0        77  \n",
       "1        2019            114.0       Biography,Drama            7.2        43  \n",
       "2        2018            122.0                 Drama            6.9      4517  \n",
       "3        2018              NaN          Comedy,Drama            6.1        13  \n",
       "4        2017             80.0  Comedy,Drama,Fantasy            6.5       119  "
      ]
     },
     "execution_count": 1098,
     "metadata": {},
     "output_type": "execute_result"
    }
   ],
   "source": [
    "# Merge the two datasets on the common column movie_id\n",
    "q = \"\"\"\n",
    "    SELECT \n",
    "        mb.movie_id,\n",
    "        mb.primary_title,\n",
    "        mb.original_title,\n",
    "        mb.start_year,\n",
    "        mb.runtime_minutes,\n",
    "        mb.genres,\n",
    "        mr.averagerating,\n",
    "        mr.numvotes\n",
    "    FROM movie_basics mb\n",
    "    INNER JOIN movie_ratings mr ON mb.movie_id = mr.movie_id;\n",
    "\"\"\"\n",
    "\n",
    "movies_df = pd.read_sql(q, conn)\n",
    "movies_df.head() "
   ]
  },
  {
   "cell_type": "code",
   "execution_count": 1099,
   "metadata": {},
   "outputs": [
    {
     "name": "stdout",
     "output_type": "stream",
     "text": [
      "The dataset contains 73856 rows and 8 columns\n"
     ]
    }
   ],
   "source": [
    "# Get new dataset shape\n",
    "print(f\"The dataset contains {movies_df.shape[0]} rows and {movies_df.shape[1]} columns\")"
   ]
  },
  {
   "cell_type": "code",
   "execution_count": 1100,
   "metadata": {},
   "outputs": [
    {
     "data": {
      "text/plain": [
       "Index(['movie_id', 'primary_title', 'original_title', 'start_year',\n",
       "       'runtime_minutes', 'genres', 'averagerating', 'numvotes'],\n",
       "      dtype='object')"
      ]
     },
     "execution_count": 1100,
     "metadata": {},
     "output_type": "execute_result"
    }
   ],
   "source": [
    "# Check column names\n",
    "movies_df.columns"
   ]
  },
  {
   "cell_type": "code",
   "execution_count": 1101,
   "metadata": {},
   "outputs": [
    {
     "name": "stdout",
     "output_type": "stream",
     "text": [
      "<class 'pandas.core.frame.DataFrame'>\n",
      "RangeIndex: 73856 entries, 0 to 73855\n",
      "Data columns (total 8 columns):\n",
      " #   Column           Non-Null Count  Dtype  \n",
      "---  ------           --------------  -----  \n",
      " 0   movie_id         73856 non-null  object \n",
      " 1   primary_title    73856 non-null  object \n",
      " 2   original_title   73856 non-null  object \n",
      " 3   start_year       73856 non-null  int64  \n",
      " 4   runtime_minutes  66236 non-null  float64\n",
      " 5   genres           73052 non-null  object \n",
      " 6   averagerating    73856 non-null  float64\n",
      " 7   numvotes         73856 non-null  int64  \n",
      "dtypes: float64(2), int64(2), object(4)\n",
      "memory usage: 4.5+ MB\n"
     ]
    }
   ],
   "source": [
    "# Get metadata\n",
    "movies_df.info()"
   ]
  },
  {
   "cell_type": "code",
   "execution_count": 1102,
   "metadata": {},
   "outputs": [
    {
     "data": {
      "text/html": [
       "<div>\n",
       "<style scoped>\n",
       "    .dataframe tbody tr th:only-of-type {\n",
       "        vertical-align: middle;\n",
       "    }\n",
       "\n",
       "    .dataframe tbody tr th {\n",
       "        vertical-align: top;\n",
       "    }\n",
       "\n",
       "    .dataframe thead th {\n",
       "        text-align: right;\n",
       "    }\n",
       "</style>\n",
       "<table border=\"1\" class=\"dataframe\">\n",
       "  <thead>\n",
       "    <tr style=\"text-align: right;\">\n",
       "      <th></th>\n",
       "      <th>count</th>\n",
       "      <th>mean</th>\n",
       "      <th>std</th>\n",
       "      <th>min</th>\n",
       "      <th>25%</th>\n",
       "      <th>50%</th>\n",
       "      <th>75%</th>\n",
       "      <th>max</th>\n",
       "    </tr>\n",
       "  </thead>\n",
       "  <tbody>\n",
       "    <tr>\n",
       "      <th>start_year</th>\n",
       "      <td>73856.0</td>\n",
       "      <td>2014.276132</td>\n",
       "      <td>2.614807</td>\n",
       "      <td>2010.0</td>\n",
       "      <td>2012.0</td>\n",
       "      <td>2014.0</td>\n",
       "      <td>2016.0</td>\n",
       "      <td>2019.0</td>\n",
       "    </tr>\n",
       "    <tr>\n",
       "      <th>runtime_minutes</th>\n",
       "      <td>66236.0</td>\n",
       "      <td>94.654040</td>\n",
       "      <td>208.574111</td>\n",
       "      <td>3.0</td>\n",
       "      <td>81.0</td>\n",
       "      <td>91.0</td>\n",
       "      <td>104.0</td>\n",
       "      <td>51420.0</td>\n",
       "    </tr>\n",
       "    <tr>\n",
       "      <th>averagerating</th>\n",
       "      <td>73856.0</td>\n",
       "      <td>6.332729</td>\n",
       "      <td>1.474978</td>\n",
       "      <td>1.0</td>\n",
       "      <td>5.5</td>\n",
       "      <td>6.5</td>\n",
       "      <td>7.4</td>\n",
       "      <td>10.0</td>\n",
       "    </tr>\n",
       "    <tr>\n",
       "      <th>numvotes</th>\n",
       "      <td>73856.0</td>\n",
       "      <td>3523.662167</td>\n",
       "      <td>30294.022971</td>\n",
       "      <td>5.0</td>\n",
       "      <td>14.0</td>\n",
       "      <td>49.0</td>\n",
       "      <td>282.0</td>\n",
       "      <td>1841066.0</td>\n",
       "    </tr>\n",
       "  </tbody>\n",
       "</table>\n",
       "</div>"
      ],
      "text/plain": [
       "                   count         mean           std     min     25%     50%  \\\n",
       "start_year       73856.0  2014.276132      2.614807  2010.0  2012.0  2014.0   \n",
       "runtime_minutes  66236.0    94.654040    208.574111     3.0    81.0    91.0   \n",
       "averagerating    73856.0     6.332729      1.474978     1.0     5.5     6.5   \n",
       "numvotes         73856.0  3523.662167  30294.022971     5.0    14.0    49.0   \n",
       "\n",
       "                    75%        max  \n",
       "start_year       2016.0     2019.0  \n",
       "runtime_minutes   104.0    51420.0  \n",
       "averagerating       7.4       10.0  \n",
       "numvotes          282.0  1841066.0  "
      ]
     },
     "execution_count": 1102,
     "metadata": {},
     "output_type": "execute_result"
    }
   ],
   "source": [
    "# Get basic statistical information for numeric columns\n",
    "movies_df.describe().T"
   ]
  },
  {
   "cell_type": "code",
   "execution_count": 1103,
   "metadata": {},
   "outputs": [
    {
     "data": {
      "text/html": [
       "<div>\n",
       "<style scoped>\n",
       "    .dataframe tbody tr th:only-of-type {\n",
       "        vertical-align: middle;\n",
       "    }\n",
       "\n",
       "    .dataframe tbody tr th {\n",
       "        vertical-align: top;\n",
       "    }\n",
       "\n",
       "    .dataframe thead th {\n",
       "        text-align: right;\n",
       "    }\n",
       "</style>\n",
       "<table border=\"1\" class=\"dataframe\">\n",
       "  <thead>\n",
       "    <tr style=\"text-align: right;\">\n",
       "      <th></th>\n",
       "      <th>count</th>\n",
       "      <th>unique</th>\n",
       "      <th>top</th>\n",
       "      <th>freq</th>\n",
       "    </tr>\n",
       "  </thead>\n",
       "  <tbody>\n",
       "    <tr>\n",
       "      <th>movie_id</th>\n",
       "      <td>73856</td>\n",
       "      <td>73856</td>\n",
       "      <td>tt9904820</td>\n",
       "      <td>1</td>\n",
       "    </tr>\n",
       "    <tr>\n",
       "      <th>primary_title</th>\n",
       "      <td>73856</td>\n",
       "      <td>69993</td>\n",
       "      <td>The Return</td>\n",
       "      <td>11</td>\n",
       "    </tr>\n",
       "    <tr>\n",
       "      <th>original_title</th>\n",
       "      <td>73856</td>\n",
       "      <td>71097</td>\n",
       "      <td>Lucky</td>\n",
       "      <td>9</td>\n",
       "    </tr>\n",
       "    <tr>\n",
       "      <th>genres</th>\n",
       "      <td>73052</td>\n",
       "      <td>923</td>\n",
       "      <td>Drama</td>\n",
       "      <td>11612</td>\n",
       "    </tr>\n",
       "  </tbody>\n",
       "</table>\n",
       "</div>"
      ],
      "text/plain": [
       "                count unique         top   freq\n",
       "movie_id        73856  73856   tt9904820      1\n",
       "primary_title   73856  69993  The Return     11\n",
       "original_title  73856  71097       Lucky      9\n",
       "genres          73052    923       Drama  11612"
      ]
     },
     "execution_count": 1103,
     "metadata": {},
     "output_type": "execute_result"
    }
   ],
   "source": [
    "# Get basic statistical information for categorical columns\n",
    "movies_df.describe(include = 'O').T"
   ]
  },
  {
   "cell_type": "code",
   "execution_count": 1104,
   "metadata": {},
   "outputs": [
    {
     "name": "stdout",
     "output_type": "stream",
     "text": [
      "Duplicates: 0\n",
      "\n",
      "Null Values:\n",
      " movie_id              0\n",
      "primary_title         0\n",
      "original_title        0\n",
      "start_year            0\n",
      "runtime_minutes    7620\n",
      "genres              804\n",
      "averagerating         0\n",
      "numvotes              0\n",
      "dtype: int64\n"
     ]
    }
   ],
   "source": [
    "# Get duplicate and null values counts\n",
    "print(\"Duplicates:\", movies_df.duplicated().sum())\n",
    "print(\"\\nNull Values:\\n\", movies_df.isna().sum())"
   ]
  },
  {
   "cell_type": "markdown",
   "metadata": {},
   "source": [
    "## OBSERVATIONS AND EARLY INSIGHTS\n",
    "\n",
    "We conducted an Initial Data Exploration (IDE) across the five key datasets powering our movie analytics project. The goal was to understand data structure, completeness, and quality before diving into cleaning or storytelling. Below is a summary of our early findings:\n",
    "\n",
    "### 1. **Movie Budgets Dataset**\n",
    "- **Shape**: 5,782 rows × 6 columns  \n",
    "- **Key Columns**: release_date, movie, production_budget, domestic_gross, worldwide_gross\n",
    "- **Highlights**:\n",
    "  - No missing values — dataset is fully complete.\n",
    "  - All monetary fields are stored as strings (e.g., \"$100,000,000\") and require conversion to numeric types.\n",
    "  - Over 500 movies show $0 in domestic_gross, and 367 in worldwide_gross. These likely indicate unreported or unavailable data.\n",
    "  - No duplicate entries found.\n",
    "\n",
    "### 2. **Gross Revenue Dataset**\n",
    "- **Shape**: 3,387 rows × 5 columns  \n",
    "- **Key Columns**: title, studio, domestic_gross, foreign_gross, year\n",
    "- **Highlights**:\n",
    "  - foreign_gross has 1,350 missing values — over one-third of the dataset.\n",
    "  - Minor missingness in studio (5 rows) and domestic_gross (28 rows).\n",
    "  - Monetary columns are stored as strings — will need cleaning for analysis.\n",
    "  - No duplicate rows detected.\n",
    "\n",
    "### 3. **TMDB Movies Dataset**\n",
    "- **Shape**: 26,517 rows × 9 columns  \n",
    "- **Key Columns**: genre_ids, original_title, popularity, vote_average, vote_count\n",
    "- **Highlights**:\n",
    "  - No missing values — data is complete.\n",
    "  - 1,020 duplicate entries found; will need deduplication.\n",
    "  - genre_ids are stored as stringified lists — need to be parsed for genre-level insights.\n",
    "  - Rich data on audience sentiment, popularity trends, and voting behavior.\n",
    "\n",
    "### 4. **IMDb Database (Merged: movie_basics + movie_ratings)**\n",
    "- **Shape**: 73,856 rows × 8 columns  \n",
    "- **Key Columns**: primary_title, original_title, start_year, runtime_minutes, genres, averagerating, numvotes\n",
    "- **Highlights**:\n",
    "  - runtime_minutes has 7,620 missing entries (~10% of data).\n",
    "  - genres missing in 804 rows.\n",
    "  - One extreme outlier in runtime_minutes (~51,420 mins) — needs capping or removal.\n",
    "  - No duplicate records.\n",
    "  - Ratings data is robust — average rating is ~6.3, normally distributed around 6.5.\n",
    "  - Voting counts vary drastically, with some titles exceeding 1.8M votes.\n",
    "  - Documentary is the most common genre.\n",
    "\n",
    "These insights help prioritize cleaning tasks and shape our storytelling strategy. We'll focus on handling missingness (especially runtimes and revenues), converting key fields to numeric types, and isolating outliers before diving into visual storytelling."
   ]
  },
  {
   "cell_type": "markdown",
   "metadata": {},
   "source": [
<<<<<<< HEAD
=======
    "## DATA WRANGLING\n",
    "\n",
    "To prepare the datasets for analysis, we perform a series of data cleaning and transformation steps across all sources:\n",
    "\n",
    "### Universal Cleaning Tasks\n",
    "- **Convert currency strings to numeric** in all budget and gross-related columns (e.g production_budget, domestic_gross, foreign_gross, etc.).\n",
    "- **Handle missing values**, particularly in:\n",
    "  - foreign_gross (Gross Revenue dataset)\n",
    "  - box_office and review fields (Rotten Tomatoes dataset)\n",
    "  - runtime_minutes and genres (IMDB)\n",
    "- **Drop duplicate entries**:\n",
    "  - TMDB Movies: 1,020 duplicates\n",
    "\n",
    "### Dataset-Specific Wrangling\n",
    "\n",
    "#### Dates & Titles\n",
    "- **Standardize movie titles and release dates** across all datasets to improve matchability.\n",
    "- Parse and convert date fields (e.g release_date, year, start_year) into consistent datetime formats.\n",
    "\n",
    "#### IMDB Tables\n",
    "- **Convert outliers and handle anomalies**:\n",
    "  - Address unrealistic values in runtime_minutes (e.g 51,420 minutes)\n",
    "- **Parse and standardize genre strings** from pipe-delimited format to lists or categories for analysis.\n",
    "- Ensure movie_id is consistently typed (object/string) across movie_basics and movie_ratings before merging."
   ]
  },
  {
   "cell_type": "markdown",
   "metadata": {},
   "source": [
>>>>>>> c2fd2596b9e978fac457a1f007fe7fb42a731927
    "### HANDLING NULL VALUES\n",
    "#### 1. GROSS DATASET"
   ]
  },
  {
<<<<<<< HEAD
=======
   "cell_type": "code",
   "execution_count": 1105,
   "metadata": {},
   "outputs": [
    {
     "name": "stdout",
     "output_type": "stream",
     "text": [
      "Missing Values Overview:\n",
      "\n",
      "                Null Count  Null Percentage (%)\n",
      "title                    0                 0.00\n",
      "studio                   5                 0.15\n",
      "domestic_gross          28                 0.83\n",
      "foreign_gross         1350                39.86\n",
      "year                     0                 0.00\n"
     ]
    }
   ],
   "source": [
    "null_counts = gross_df.isna().sum()\n",
    "null_percentages = (null_counts / len(gross_df)) * 100\n",
    "\n",
    "print(\"Missing Values Overview:\\n\")\n",
    "print(pd.concat([null_counts.rename(\"Null Count\"), null_percentages.round(2).rename(\"Null Percentage (%)\")], axis = 1))"
   ]
  },
  {
>>>>>>> c2fd2596b9e978fac457a1f007fe7fb42a731927
   "cell_type": "markdown",
   "metadata": {},
   "source": [
    "#### 'studio' Column"
   ]
  },
  {
   "cell_type": "code",
<<<<<<< HEAD
   "execution_count": 105,
=======
   "execution_count": 1106,
   "metadata": {},
   "outputs": [
    {
     "data": {
      "text/html": [
       "<div>\n",
       "<style scoped>\n",
       "    .dataframe tbody tr th:only-of-type {\n",
       "        vertical-align: middle;\n",
       "    }\n",
       "\n",
       "    .dataframe tbody tr th {\n",
       "        vertical-align: top;\n",
       "    }\n",
       "\n",
       "    .dataframe thead th {\n",
       "        text-align: right;\n",
       "    }\n",
       "</style>\n",
       "<table border=\"1\" class=\"dataframe\">\n",
       "  <thead>\n",
       "    <tr style=\"text-align: right;\">\n",
       "      <th></th>\n",
       "      <th>title</th>\n",
       "      <th>studio</th>\n",
       "      <th>domestic_gross</th>\n",
       "      <th>foreign_gross</th>\n",
       "      <th>year</th>\n",
       "    </tr>\n",
       "  </thead>\n",
       "  <tbody>\n",
       "    <tr>\n",
       "      <th>210</th>\n",
       "      <td>Outside the Law (Hors-la-loi)</td>\n",
       "      <td>NaN</td>\n",
       "      <td>96900.0</td>\n",
       "      <td>3300000</td>\n",
       "      <td>2010</td>\n",
       "    </tr>\n",
       "    <tr>\n",
       "      <th>555</th>\n",
       "      <td>Fireflies in the Garden</td>\n",
       "      <td>NaN</td>\n",
       "      <td>70600.0</td>\n",
       "      <td>3300000</td>\n",
       "      <td>2011</td>\n",
       "    </tr>\n",
       "    <tr>\n",
       "      <th>933</th>\n",
       "      <td>Keith Lemon: The Film</td>\n",
       "      <td>NaN</td>\n",
       "      <td>NaN</td>\n",
       "      <td>4000000</td>\n",
       "      <td>2012</td>\n",
       "    </tr>\n",
       "    <tr>\n",
       "      <th>1862</th>\n",
       "      <td>Plot for Peace</td>\n",
       "      <td>NaN</td>\n",
       "      <td>7100.0</td>\n",
       "      <td>NaN</td>\n",
       "      <td>2014</td>\n",
       "    </tr>\n",
       "    <tr>\n",
       "      <th>2825</th>\n",
       "      <td>Secret Superstar</td>\n",
       "      <td>NaN</td>\n",
       "      <td>NaN</td>\n",
       "      <td>122000000</td>\n",
       "      <td>2017</td>\n",
       "    </tr>\n",
       "  </tbody>\n",
       "</table>\n",
       "</div>"
      ],
      "text/plain": [
       "                              title studio  domestic_gross foreign_gross  year\n",
       "210   Outside the Law (Hors-la-loi)    NaN         96900.0       3300000  2010\n",
       "555         Fireflies in the Garden    NaN         70600.0       3300000  2011\n",
       "933           Keith Lemon: The Film    NaN             NaN       4000000  2012\n",
       "1862                 Plot for Peace    NaN          7100.0           NaN  2014\n",
       "2825               Secret Superstar    NaN             NaN     122000000  2017"
      ]
     },
     "execution_count": 1106,
     "metadata": {},
     "output_type": "execute_result"
    }
   ],
   "source": [
    "# Get rows with nulls\n",
    "gross_df.loc[gross_df['studio'].isna()]"
   ]
  },
  {
   "cell_type": "code",
   "execution_count": 1107,
>>>>>>> c2fd2596b9e978fac457a1f007fe7fb42a731927
   "metadata": {},
   "outputs": [
    {
     "name": "stdout",
     "output_type": "stream",
     "text": [
      "Null values after imputation: 0\n"
     ]
    }
   ],
   "source": [
    "# Impute nulls in studio column\n",
    "gross_df.loc[gross_df['title'] == 'Plot for Peace', 'studio'] = 'Trinity Films'\n",
    "gross_df.loc[gross_df['title'] == 'Fireflies in the Garden', 'studio'] = 'Senator Entertainmet Inc.'\n",
    "gross_df.loc[gross_df['title'] == 'Keith Lemon: The Film', 'studio'] = 'Lionsgate'\n",
    "gross_df.loc[gross_df['title'] == 'Secret Superstar', 'studio'] = 'Zee Studios'\n",
    "gross_df.loc[gross_df['title'] == 'Outside the Law (Hors-la-loi)', 'studio'] = 'StudioCanal'\n",
    "\n",
    "# Preview changes\n",
    "print(\"Null values after imputation:\", gross_df['studio'].isna().sum())"
   ]
  },
  {
   "cell_type": "code",
<<<<<<< HEAD
   "execution_count": 106,
=======
   "execution_count": 1108,
>>>>>>> c2fd2596b9e978fac457a1f007fe7fb42a731927
   "metadata": {},
   "outputs": [
    {
     "data": {
      "text/html": [
       "<div>\n",
       "<style scoped>\n",
       "    .dataframe tbody tr th:only-of-type {\n",
       "        vertical-align: middle;\n",
       "    }\n",
       "\n",
       "    .dataframe tbody tr th {\n",
       "        vertical-align: top;\n",
       "    }\n",
       "\n",
       "    .dataframe thead th {\n",
       "        text-align: right;\n",
       "    }\n",
       "</style>\n",
       "<table border=\"1\" class=\"dataframe\">\n",
       "  <thead>\n",
       "    <tr style=\"text-align: right;\">\n",
       "      <th></th>\n",
       "      <th>title</th>\n",
       "      <th>studio</th>\n",
       "      <th>domestic_gross</th>\n",
       "      <th>foreign_gross</th>\n",
       "      <th>year</th>\n",
       "    </tr>\n",
       "  </thead>\n",
       "  <tbody>\n",
       "    <tr>\n",
       "      <th>230</th>\n",
       "      <td>It's a Wonderful Afterlife</td>\n",
       "      <td>UTV</td>\n",
       "      <td>NaN</td>\n",
       "      <td>1300000</td>\n",
       "      <td>2010</td>\n",
       "    </tr>\n",
       "    <tr>\n",
       "      <th>298</th>\n",
       "      <td>Celine: Through the Eyes of the World</td>\n",
       "      <td>Sony</td>\n",
       "      <td>NaN</td>\n",
       "      <td>119000</td>\n",
       "      <td>2010</td>\n",
       "    </tr>\n",
       "    <tr>\n",
       "      <th>302</th>\n",
       "      <td>White Lion</td>\n",
       "      <td>Scre.</td>\n",
       "      <td>NaN</td>\n",
       "      <td>99600</td>\n",
       "      <td>2010</td>\n",
       "    </tr>\n",
       "    <tr>\n",
       "      <th>306</th>\n",
       "      <td>Badmaash Company</td>\n",
       "      <td>Yash</td>\n",
       "      <td>NaN</td>\n",
       "      <td>64400</td>\n",
       "      <td>2010</td>\n",
       "    </tr>\n",
       "    <tr>\n",
       "      <th>327</th>\n",
       "      <td>Aashayein (Wishes)</td>\n",
       "      <td>Relbig.</td>\n",
       "      <td>NaN</td>\n",
       "      <td>3800</td>\n",
       "      <td>2010</td>\n",
       "    </tr>\n",
       "  </tbody>\n",
       "</table>\n",
       "</div>"
      ],
      "text/plain": [
       "                                     title   studio  domestic_gross  \\\n",
       "230             It's a Wonderful Afterlife      UTV             NaN   \n",
       "298  Celine: Through the Eyes of the World     Sony             NaN   \n",
       "302                             White Lion    Scre.             NaN   \n",
       "306                       Badmaash Company     Yash             NaN   \n",
       "327                     Aashayein (Wishes)  Relbig.             NaN   \n",
       "\n",
       "    foreign_gross  year  \n",
       "230       1300000  2010  \n",
       "298        119000  2010  \n",
       "302         99600  2010  \n",
       "306         64400  2010  \n",
       "327          3800  2010  "
      ]
     },
<<<<<<< HEAD
     "execution_count": 106,
=======
     "execution_count": 1108,
>>>>>>> c2fd2596b9e978fac457a1f007fe7fb42a731927
     "metadata": {},
     "output_type": "execute_result"
    }
   ],
   "source": [
    "# Get rows with nulls\n",
    "gross_df.loc[gross_df['domestic_gross'].isna()].head()"
   ]
  },
  {
   "cell_type": "code",
<<<<<<< HEAD
   "execution_count": 107,
=======
   "execution_count": 1109,
   "metadata": {},
   "outputs": [
    {
     "name": "stdout",
     "output_type": "stream",
     "text": [
      "Null Values after imputation: 0\n"
     ]
    }
   ],
   "source": [
    "median_gross = gross_df['domestic_gross'].median()\n",
    "gross_df['domestic_gross'] = gross_df['domestic_gross'].fillna(median_gross)\n",
    "\n",
    "print(\"Null Values after imputation:\", gross_df['domestic_gross'].isna().sum())"
   ]
  },
  {
   "cell_type": "code",
   "execution_count": 1110,
>>>>>>> c2fd2596b9e978fac457a1f007fe7fb42a731927
   "metadata": {},
   "outputs": [
    {
     "data": {
<<<<<<< HEAD
      "image/png": "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",
=======
      "image/png": "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",
>>>>>>> c2fd2596b9e978fac457a1f007fe7fb42a731927
      "text/plain": [
       "<Figure size 1008x360 with 2 Axes>"
      ]
     },
     "metadata": {
      "needs_background": "light"
     },
     "output_type": "display_data"
    }
   ],
   "source": [
    "# Set up subplots\n",
    "fig, axes = plt.subplots(1, 2, figsize = (14, 5))\n",
    "\n",
    "# Boxplot\n",
    "sns.boxplot(data=gross_df, x='domestic_gross', ax = axes[0], color = 'skyblue')\n",
    "axes[0].set_title(\"Boxplot of Domestic Gross\")\n",
    "axes[0].set_xlabel(\"Domestic Gross\")\n",
    "\n",
    "# Histogram with KDE\n",
    "sns.histplot(data = gross_df, x = 'domestic_gross', bins=50, kde=True, ax = axes[1], color = 'lightgreen')\n",
    "axes[1].set_title(\"Histogram of Domestic Gross\")\n",
    "axes[1].set_xlabel(\"Domestic Gross Bins\")\n",
    "plt.tight_layout()\n",
    "plt.show()"
   ]
  },
  {
   "cell_type": "code",
<<<<<<< HEAD
   "execution_count": 108,
=======
   "execution_count": 1111,
>>>>>>> c2fd2596b9e978fac457a1f007fe7fb42a731927
   "metadata": {},
   "outputs": [
    {
     "data": {
      "text/html": [
       "<div>\n",
       "<style scoped>\n",
       "    .dataframe tbody tr th:only-of-type {\n",
       "        vertical-align: middle;\n",
       "    }\n",
       "\n",
       "    .dataframe tbody tr th {\n",
       "        vertical-align: top;\n",
       "    }\n",
       "\n",
       "    .dataframe thead th {\n",
       "        text-align: right;\n",
       "    }\n",
       "</style>\n",
       "<table border=\"1\" class=\"dataframe\">\n",
       "  <thead>\n",
       "    <tr style=\"text-align: right;\">\n",
       "      <th></th>\n",
       "      <th>title</th>\n",
       "      <th>studio</th>\n",
       "      <th>domestic_gross</th>\n",
       "      <th>foreign_gross</th>\n",
       "      <th>year</th>\n",
       "    </tr>\n",
       "  </thead>\n",
       "  <tbody>\n",
       "    <tr>\n",
       "      <th>222</th>\n",
       "      <td>Flipped</td>\n",
       "      <td>WB</td>\n",
       "      <td>1800000.0</td>\n",
       "      <td>NaN</td>\n",
       "      <td>2010</td>\n",
       "    </tr>\n",
       "    <tr>\n",
       "      <th>254</th>\n",
       "      <td>The Polar Express (IMAX re-issue 2010)</td>\n",
       "      <td>WB</td>\n",
       "      <td>673000.0</td>\n",
       "      <td>NaN</td>\n",
       "      <td>2010</td>\n",
       "    </tr>\n",
       "    <tr>\n",
       "      <th>267</th>\n",
       "      <td>Tiny Furniture</td>\n",
       "      <td>IFC</td>\n",
       "      <td>392000.0</td>\n",
       "      <td>NaN</td>\n",
       "      <td>2010</td>\n",
       "    </tr>\n",
       "    <tr>\n",
       "      <th>269</th>\n",
       "      <td>Grease (Sing-a-Long re-issue)</td>\n",
       "      <td>Par.</td>\n",
       "      <td>366000.0</td>\n",
       "      <td>NaN</td>\n",
       "      <td>2010</td>\n",
       "    </tr>\n",
       "    <tr>\n",
       "      <th>280</th>\n",
       "      <td>Last Train Home</td>\n",
       "      <td>Zeit.</td>\n",
       "      <td>288000.0</td>\n",
       "      <td>NaN</td>\n",
       "      <td>2010</td>\n",
       "    </tr>\n",
       "  </tbody>\n",
       "</table>\n",
       "</div>"
      ],
      "text/plain": [
       "                                      title studio  domestic_gross  \\\n",
       "222                                 Flipped     WB       1800000.0   \n",
       "254  The Polar Express (IMAX re-issue 2010)     WB        673000.0   \n",
       "267                          Tiny Furniture    IFC        392000.0   \n",
       "269           Grease (Sing-a-Long re-issue)   Par.        366000.0   \n",
       "280                         Last Train Home  Zeit.        288000.0   \n",
       "\n",
       "    foreign_gross  year  \n",
       "222           NaN  2010  \n",
       "254           NaN  2010  \n",
       "267           NaN  2010  \n",
       "269           NaN  2010  \n",
       "280           NaN  2010  "
      ]
     },
<<<<<<< HEAD
     "execution_count": 108,
=======
     "execution_count": 1111,
>>>>>>> c2fd2596b9e978fac457a1f007fe7fb42a731927
     "metadata": {},
     "output_type": "execute_result"
    }
   ],
   "source": [
    "# Preview rows with nulls in foreign_gross\n",
    "gross_df.loc[gross_df['foreign_gross'].isna()].head()"
   ]
  },
  {
   "cell_type": "code",
<<<<<<< HEAD
   "execution_count": 109,
=======
   "execution_count": 1112,
   "metadata": {},
   "outputs": [
    {
     "data": {
      "text/plain": [
       "array([nan, '1,131.6', '1,019.4', '1,163.0', '1,010.0', '1,369.5'],\n",
       "      dtype=object)"
      ]
     },
     "execution_count": 1112,
     "metadata": {},
     "output_type": "execute_result"
    }
   ],
   "source": [
    "# Inspect unique values in foreign_gross\n",
    "gross_df.loc[~gross_df['foreign_gross'].astype(str).str.replace(',', '').str.isnumeric(), 'foreign_gross'].unique()"
   ]
  },
  {
   "cell_type": "code",
   "execution_count": 1113,
>>>>>>> c2fd2596b9e978fac457a1f007fe7fb42a731927
   "metadata": {},
   "outputs": [
    {
     "name": "stdout",
     "output_type": "stream",
     "text": [
      "Null Values after imputation: 0\n"
     ]
    }
   ],
   "source": [
    "# Imputation strategy:\n",
    "\n",
    "# Coerce to numeric\n",
    "gross_df['foreign_gross'] = pd.to_numeric(gross_df['foreign_gross'], errors='coerce')\n",
    "\n",
    "# Impute median\n",
    "median_foreign_gross = gross_df['foreign_gross'].median()\n",
    "gross_df['foreign_gross'] = gross_df['foreign_gross'].fillna(median_foreign_gross)\n",
    "\n",
    "# Preview changes\n",
    "print(\"Null Values after imputation:\", gross_df['foreign_gross'].isna().sum())"
   ]
  },
  {
<<<<<<< HEAD
=======
   "cell_type": "code",
   "execution_count": 1114,
   "metadata": {},
   "outputs": [
    {
     "data": {
      "image/png": "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",
      "text/plain": [
       "<Figure size 1400x500 with 2 Axes>"
      ]
     },
     "metadata": {},
     "output_type": "display_data"
    }
   ],
   "source": [
    "# Set up subplots\n",
    "fig, axes = plt.subplots(1, 2, figsize = (14, 5))\n",
    "\n",
    "# Boxplot\n",
    "sns.boxplot(data=gross_df, x='foreign_gross', ax = axes[0], color = 'salmon')\n",
    "axes[0].set_title(\"Boxplot of Foreign Gross\")\n",
    "axes[0].set_xlabel(\"Foreign Gross\")\n",
    "\n",
    "# Histogram with KDE\n",
    "sns.histplot(data = gross_df, x = 'foreign_gross', bins = 50, kde = True, ax = axes[1], color = 'lightblue')\n",
    "axes[1].set_title(\"Histogram of Foreign Gross\")\n",
    "axes[1].set_xlabel(\"Foreign Gross Bins\")\n",
    "plt.tight_layout()\n",
    "plt.show()"
   ]
  },
  {
>>>>>>> c2fd2596b9e978fac457a1f007fe7fb42a731927
   "cell_type": "markdown",
   "metadata": {},
   "source": [
    "### OTLIER HANDLING IN GROSS DATASET"
   ]
  },
  {
<<<<<<< HEAD
=======
   "cell_type": "code",
   "execution_count": 1115,
   "metadata": {},
   "outputs": [
    {
     "data": {
      "image/png": "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",
      "text/plain": [
       "<Figure size 640x480 with 1 Axes>"
      ]
     },
     "metadata": {},
     "output_type": "display_data"
    }
   ],
   "source": [
    "sns.boxplot(gross_df);"
   ]
  },
  {
>>>>>>> c2fd2596b9e978fac457a1f007fe7fb42a731927
   "cell_type": "markdown",
   "metadata": {},
   "source": [
    "#### Comment on Outliers\n",
    "\n",
    "> The boxplots for both **domestic** and **foreign gross** clearly reveal the presence of extreme outliers - films that have earned substantially more than the majority. In the movie industry, these are typically blockbuster titles, franchise installments, or globally viral releases with massive marketing budgets and wide theatrical distribution. These high-grossing films, while statistically extreme, represent genuine and meaningful data points.\n",
    ">\n",
    "> **Removing these outliers would strip away the very success stories we aim to emulate**. Therefore, we will **retain the outliers** in our analysis to ensure we capture the full spectrum of market performance and derive actionable insights from the most profitable examples."
   ]
  },
  {
   "cell_type": "code",
<<<<<<< HEAD
   "execution_count": 110,
=======
   "execution_count": 1116,
>>>>>>> c2fd2596b9e978fac457a1f007fe7fb42a731927
   "metadata": {},
   "outputs": [
    {
     "name": "stdout",
     "output_type": "stream",
     "text": [
      "Missing Values Overview:\n",
      "\n",
      "              Null Count  Null Percentage (%)\n",
      "id                     0                 0.00\n",
      "synopsis              62                 3.97\n",
      "rating                 3                 0.19\n",
      "genre                  8                 0.51\n",
      "director             199                12.76\n",
      "writer               449                28.78\n",
      "theater_date         359                23.01\n",
      "dvd_date             359                23.01\n",
      "currency            1220                78.21\n",
      "box_office          1220                78.21\n",
      "runtime               30                 1.92\n",
      "studio              1066                68.33\n"
     ]
    }
   ],
   "source": [
    "null_counts = rt_movies_df.isna().sum()\n",
    "null_percentages = (null_counts / len(rt_movies_df)) * 100\n",
    "\n",
    "print(\"Missing Values Overview:\\n\")\n",
    "print(pd.concat([null_counts.rename(\"Null Count\"), null_percentages.round(2).rename(\"Null Percentage (%)\")], axis = 1))"
   ]
  },
  {
   "cell_type": "code",
<<<<<<< HEAD
   "execution_count": 111,
=======
   "execution_count": 1117,
   "metadata": {},
   "outputs": [
    {
     "data": {
      "text/html": [
       "<div>\n",
       "<style scoped>\n",
       "    .dataframe tbody tr th:only-of-type {\n",
       "        vertical-align: middle;\n",
       "    }\n",
       "\n",
       "    .dataframe tbody tr th {\n",
       "        vertical-align: top;\n",
       "    }\n",
       "\n",
       "    .dataframe thead th {\n",
       "        text-align: right;\n",
       "    }\n",
       "</style>\n",
       "<table border=\"1\" class=\"dataframe\">\n",
       "  <thead>\n",
       "    <tr style=\"text-align: right;\">\n",
       "      <th></th>\n",
       "      <th>id</th>\n",
       "      <th>synopsis</th>\n",
       "      <th>rating</th>\n",
       "      <th>genre</th>\n",
       "      <th>director</th>\n",
       "      <th>writer</th>\n",
       "      <th>theater_date</th>\n",
       "      <th>dvd_date</th>\n",
       "      <th>currency</th>\n",
       "      <th>box_office</th>\n",
       "      <th>runtime</th>\n",
       "      <th>studio</th>\n",
       "    </tr>\n",
       "  </thead>\n",
       "  <tbody>\n",
       "    <tr>\n",
       "      <th>10</th>\n",
       "      <td>17</td>\n",
       "      <td>NaN</td>\n",
       "      <td>NaN</td>\n",
       "      <td>NaN</td>\n",
       "      <td>NaN</td>\n",
       "      <td>NaN</td>\n",
       "      <td>NaN</td>\n",
       "      <td>NaN</td>\n",
       "      <td>NaN</td>\n",
       "      <td>NaN</td>\n",
       "      <td>NaN</td>\n",
       "      <td>NaN</td>\n",
       "    </tr>\n",
       "    <tr>\n",
       "      <th>131</th>\n",
       "      <td>167</td>\n",
       "      <td>NaN</td>\n",
       "      <td>NaN</td>\n",
       "      <td>NaN</td>\n",
       "      <td>NaN</td>\n",
       "      <td>NaN</td>\n",
       "      <td>NaN</td>\n",
       "      <td>NaN</td>\n",
       "      <td>NaN</td>\n",
       "      <td>NaN</td>\n",
       "      <td>NaN</td>\n",
       "      <td>NaN</td>\n",
       "    </tr>\n",
       "    <tr>\n",
       "      <th>222</th>\n",
       "      <td>289</td>\n",
       "      <td>NaN</td>\n",
       "      <td>NR</td>\n",
       "      <td>NaN</td>\n",
       "      <td>NaN</td>\n",
       "      <td>NaN</td>\n",
       "      <td>NaN</td>\n",
       "      <td>NaN</td>\n",
       "      <td>NaN</td>\n",
       "      <td>NaN</td>\n",
       "      <td>95 minutes</td>\n",
       "      <td>NaN</td>\n",
       "    </tr>\n",
       "    <tr>\n",
       "      <th>250</th>\n",
       "      <td>327</td>\n",
       "      <td>When a new robot, Raymond, defeats the three h...</td>\n",
       "      <td>NR</td>\n",
       "      <td>NaN</td>\n",
       "      <td>NaN</td>\n",
       "      <td>NaN</td>\n",
       "      <td>NaN</td>\n",
       "      <td>NaN</td>\n",
       "      <td>NaN</td>\n",
       "      <td>NaN</td>\n",
       "      <td>13 minutes</td>\n",
       "      <td>NaN</td>\n",
       "    </tr>\n",
       "    <tr>\n",
       "      <th>658</th>\n",
       "      <td>843</td>\n",
       "      <td>Miners want to drill for billions of dollars w...</td>\n",
       "      <td>NR</td>\n",
       "      <td>NaN</td>\n",
       "      <td>NaN</td>\n",
       "      <td>NaN</td>\n",
       "      <td>NaN</td>\n",
       "      <td>NaN</td>\n",
       "      <td>NaN</td>\n",
       "      <td>NaN</td>\n",
       "      <td>60 minutes</td>\n",
       "      <td>NaN</td>\n",
       "    </tr>\n",
       "    <tr>\n",
       "      <th>1082</th>\n",
       "      <td>1393</td>\n",
       "      <td>Steven Seagal plays an expert sniper on a spec...</td>\n",
       "      <td>R</td>\n",
       "      <td>NaN</td>\n",
       "      <td>Fred Olen Ray</td>\n",
       "      <td>Fred Olen Ray</td>\n",
       "      <td>NaN</td>\n",
       "      <td>NaN</td>\n",
       "      <td>NaN</td>\n",
       "      <td>NaN</td>\n",
       "      <td>84 minutes</td>\n",
       "      <td>NaN</td>\n",
       "    </tr>\n",
       "    <tr>\n",
       "      <th>1342</th>\n",
       "      <td>1736</td>\n",
       "      <td>NaN</td>\n",
       "      <td>NR</td>\n",
       "      <td>NaN</td>\n",
       "      <td>NaN</td>\n",
       "      <td>NaN</td>\n",
       "      <td>NaN</td>\n",
       "      <td>NaN</td>\n",
       "      <td>NaN</td>\n",
       "      <td>NaN</td>\n",
       "      <td>NaN</td>\n",
       "      <td>NaN</td>\n",
       "    </tr>\n",
       "    <tr>\n",
       "      <th>1543</th>\n",
       "      <td>1982</td>\n",
       "      <td>NaN</td>\n",
       "      <td>NaN</td>\n",
       "      <td>NaN</td>\n",
       "      <td>NaN</td>\n",
       "      <td>NaN</td>\n",
       "      <td>NaN</td>\n",
       "      <td>NaN</td>\n",
       "      <td>NaN</td>\n",
       "      <td>NaN</td>\n",
       "      <td>NaN</td>\n",
       "      <td>NaN</td>\n",
       "    </tr>\n",
       "  </tbody>\n",
       "</table>\n",
       "</div>"
      ],
      "text/plain": [
       "        id                                           synopsis rating genre  \\\n",
       "10      17                                                NaN    NaN   NaN   \n",
       "131    167                                                NaN    NaN   NaN   \n",
       "222    289                                                NaN     NR   NaN   \n",
       "250    327  When a new robot, Raymond, defeats the three h...     NR   NaN   \n",
       "658    843  Miners want to drill for billions of dollars w...     NR   NaN   \n",
       "1082  1393  Steven Seagal plays an expert sniper on a spec...      R   NaN   \n",
       "1342  1736                                                NaN     NR   NaN   \n",
       "1543  1982                                                NaN    NaN   NaN   \n",
       "\n",
       "           director         writer theater_date dvd_date currency box_office  \\\n",
       "10              NaN            NaN          NaN      NaN      NaN        NaN   \n",
       "131             NaN            NaN          NaN      NaN      NaN        NaN   \n",
       "222             NaN            NaN          NaN      NaN      NaN        NaN   \n",
       "250             NaN            NaN          NaN      NaN      NaN        NaN   \n",
       "658             NaN            NaN          NaN      NaN      NaN        NaN   \n",
       "1082  Fred Olen Ray  Fred Olen Ray          NaN      NaN      NaN        NaN   \n",
       "1342            NaN            NaN          NaN      NaN      NaN        NaN   \n",
       "1543            NaN            NaN          NaN      NaN      NaN        NaN   \n",
       "\n",
       "         runtime studio  \n",
       "10           NaN    NaN  \n",
       "131          NaN    NaN  \n",
       "222   95 minutes    NaN  \n",
       "250   13 minutes    NaN  \n",
       "658   60 minutes    NaN  \n",
       "1082  84 minutes    NaN  \n",
       "1342         NaN    NaN  \n",
       "1543         NaN    NaN  "
      ]
     },
     "execution_count": 1117,
     "metadata": {},
     "output_type": "execute_result"
    }
   ],
   "source": [
    "rt_movies_df.loc[rt_movies_df['genre'].isna()]"
   ]
  },
  {
   "cell_type": "code",
   "execution_count": 1118,
>>>>>>> c2fd2596b9e978fac457a1f007fe7fb42a731927
   "metadata": {},
   "outputs": [
    {
     "data": {
      "text/html": [
       "<div>\n",
       "<style scoped>\n",
       "    .dataframe tbody tr th:only-of-type {\n",
       "        vertical-align: middle;\n",
       "    }\n",
       "\n",
       "    .dataframe tbody tr th {\n",
       "        vertical-align: top;\n",
       "    }\n",
       "\n",
       "    .dataframe thead th {\n",
       "        text-align: right;\n",
       "    }\n",
       "</style>\n",
       "<table border=\"1\" class=\"dataframe\">\n",
       "  <thead>\n",
       "    <tr style=\"text-align: right;\">\n",
       "      <th></th>\n",
       "      <th>id</th>\n",
       "      <th>synopsis</th>\n",
       "      <th>rating</th>\n",
       "      <th>genre</th>\n",
       "      <th>director</th>\n",
       "      <th>writer</th>\n",
       "      <th>theater_date</th>\n",
       "      <th>dvd_date</th>\n",
       "      <th>currency</th>\n",
       "      <th>box_office</th>\n",
       "      <th>runtime</th>\n",
       "      <th>studio</th>\n",
       "    </tr>\n",
       "  </thead>\n",
       "  <tbody>\n",
       "    <tr>\n",
       "      <th>10</th>\n",
       "      <td>17</td>\n",
       "      <td>NaN</td>\n",
       "      <td>NaN</td>\n",
       "      <td>NaN</td>\n",
       "      <td>NaN</td>\n",
       "      <td>NaN</td>\n",
       "      <td>NaN</td>\n",
       "      <td>NaN</td>\n",
       "      <td>NaN</td>\n",
       "      <td>NaN</td>\n",
       "      <td>NaN</td>\n",
       "      <td>NaN</td>\n",
       "    </tr>\n",
       "    <tr>\n",
       "      <th>131</th>\n",
       "      <td>167</td>\n",
       "      <td>NaN</td>\n",
       "      <td>NaN</td>\n",
       "      <td>NaN</td>\n",
       "      <td>NaN</td>\n",
       "      <td>NaN</td>\n",
       "      <td>NaN</td>\n",
       "      <td>NaN</td>\n",
       "      <td>NaN</td>\n",
       "      <td>NaN</td>\n",
       "      <td>NaN</td>\n",
       "      <td>NaN</td>\n",
       "    </tr>\n",
       "    <tr>\n",
       "      <th>1543</th>\n",
       "      <td>1982</td>\n",
       "      <td>NaN</td>\n",
       "      <td>NaN</td>\n",
       "      <td>NaN</td>\n",
       "      <td>NaN</td>\n",
       "      <td>NaN</td>\n",
       "      <td>NaN</td>\n",
       "      <td>NaN</td>\n",
       "      <td>NaN</td>\n",
       "      <td>NaN</td>\n",
       "      <td>NaN</td>\n",
       "      <td>NaN</td>\n",
       "    </tr>\n",
       "  </tbody>\n",
       "</table>\n",
       "</div>"
      ],
      "text/plain": [
       "        id synopsis rating genre director writer theater_date dvd_date  \\\n",
       "10      17      NaN    NaN   NaN      NaN    NaN          NaN      NaN   \n",
       "131    167      NaN    NaN   NaN      NaN    NaN          NaN      NaN   \n",
       "1543  1982      NaN    NaN   NaN      NaN    NaN          NaN      NaN   \n",
       "\n",
       "     currency box_office runtime studio  \n",
       "10        NaN        NaN     NaN    NaN  \n",
       "131       NaN        NaN     NaN    NaN  \n",
       "1543      NaN        NaN     NaN    NaN  "
      ]
     },
<<<<<<< HEAD
     "execution_count": 111,
=======
     "execution_count": 1118,
>>>>>>> c2fd2596b9e978fac457a1f007fe7fb42a731927
     "metadata": {},
     "output_type": "execute_result"
    }
   ],
   "source": [
    "rt_movies_df.loc[rt_movies_df['rating'].isna()]"
   ]
  },
  {
   "cell_type": "code",
<<<<<<< HEAD
   "execution_count": 112,
=======
   "execution_count": 1119,
>>>>>>> c2fd2596b9e978fac457a1f007fe7fb42a731927
   "metadata": {},
   "outputs": [
    {
     "data": {
<<<<<<< HEAD
=======
      "text/html": [
       "<div>\n",
       "<style scoped>\n",
       "    .dataframe tbody tr th:only-of-type {\n",
       "        vertical-align: middle;\n",
       "    }\n",
       "\n",
       "    .dataframe tbody tr th {\n",
       "        vertical-align: top;\n",
       "    }\n",
       "\n",
       "    .dataframe thead th {\n",
       "        text-align: right;\n",
       "    }\n",
       "</style>\n",
       "<table border=\"1\" class=\"dataframe\">\n",
       "  <thead>\n",
       "    <tr style=\"text-align: right;\">\n",
       "      <th></th>\n",
       "      <th>id</th>\n",
       "      <th>synopsis</th>\n",
       "      <th>rating</th>\n",
       "      <th>genre</th>\n",
       "      <th>director</th>\n",
       "      <th>writer</th>\n",
       "      <th>theater_date</th>\n",
       "      <th>dvd_date</th>\n",
       "      <th>currency</th>\n",
       "      <th>box_office</th>\n",
       "      <th>runtime</th>\n",
       "      <th>studio</th>\n",
       "    </tr>\n",
       "  </thead>\n",
       "  <tbody>\n",
       "    <tr>\n",
       "      <th>10</th>\n",
       "      <td>17</td>\n",
       "      <td>NaN</td>\n",
       "      <td>NaN</td>\n",
       "      <td>NaN</td>\n",
       "      <td>NaN</td>\n",
       "      <td>NaN</td>\n",
       "      <td>NaN</td>\n",
       "      <td>NaN</td>\n",
       "      <td>NaN</td>\n",
       "      <td>NaN</td>\n",
       "      <td>NaN</td>\n",
       "      <td>NaN</td>\n",
       "    </tr>\n",
       "    <tr>\n",
       "      <th>11</th>\n",
       "      <td>18</td>\n",
       "      <td>In 1979, Bill Viola and Frank Caliguri dreamed...</td>\n",
       "      <td>NR</td>\n",
       "      <td>Documentary</td>\n",
       "      <td>NaN</td>\n",
       "      <td>Robert Zullo</td>\n",
       "      <td>NaN</td>\n",
       "      <td>NaN</td>\n",
       "      <td>NaN</td>\n",
       "      <td>NaN</td>\n",
       "      <td>NaN</td>\n",
       "      <td>Showtime Documentary Films</td>\n",
       "    </tr>\n",
       "    <tr>\n",
       "      <th>12</th>\n",
       "      <td>19</td>\n",
       "      <td>While Microsoft may be the biggest software co...</td>\n",
       "      <td>NR</td>\n",
       "      <td>Documentary|Special Interest</td>\n",
       "      <td>NaN</td>\n",
       "      <td>NaN</td>\n",
       "      <td>Aug 23, 2002</td>\n",
       "      <td>Sep 30, 2003</td>\n",
       "      <td>NaN</td>\n",
       "      <td>NaN</td>\n",
       "      <td>90 minutes</td>\n",
       "      <td>Seventh Art Releasing</td>\n",
       "    </tr>\n",
       "    <tr>\n",
       "      <th>16</th>\n",
       "      <td>23</td>\n",
       "      <td>A fictional film set in the alluring world of ...</td>\n",
       "      <td>R</td>\n",
       "      <td>Drama</td>\n",
       "      <td>NaN</td>\n",
       "      <td>NaN</td>\n",
       "      <td>Dec 20, 2013</td>\n",
       "      <td>Mar 18, 2014</td>\n",
       "      <td>$</td>\n",
       "      <td>99,165,609</td>\n",
       "      <td>129 minutes</td>\n",
       "      <td>Sony Pictures</td>\n",
       "    </tr>\n",
       "    <tr>\n",
       "      <th>20</th>\n",
       "      <td>27</td>\n",
       "      <td>NaN</td>\n",
       "      <td>NR</td>\n",
       "      <td>Musical and Performing Arts</td>\n",
       "      <td>NaN</td>\n",
       "      <td>NaN</td>\n",
       "      <td>NaN</td>\n",
       "      <td>NaN</td>\n",
       "      <td>NaN</td>\n",
       "      <td>NaN</td>\n",
       "      <td>NaN</td>\n",
       "      <td>NaN</td>\n",
       "    </tr>\n",
       "  </tbody>\n",
       "</table>\n",
       "</div>"
      ],
      "text/plain": [
       "    id                                           synopsis rating  \\\n",
       "10  17                                                NaN    NaN   \n",
       "11  18  In 1979, Bill Viola and Frank Caliguri dreamed...     NR   \n",
       "12  19  While Microsoft may be the biggest software co...     NR   \n",
       "16  23  A fictional film set in the alluring world of ...      R   \n",
       "20  27                                                NaN     NR   \n",
       "\n",
       "                           genre director        writer  theater_date  \\\n",
       "10                           NaN      NaN           NaN           NaN   \n",
       "11                   Documentary      NaN  Robert Zullo           NaN   \n",
       "12  Documentary|Special Interest      NaN           NaN  Aug 23, 2002   \n",
       "16                         Drama      NaN           NaN  Dec 20, 2013   \n",
       "20   Musical and Performing Arts      NaN           NaN           NaN   \n",
       "\n",
       "        dvd_date currency  box_office      runtime                      studio  \n",
       "10           NaN      NaN         NaN          NaN                         NaN  \n",
       "11           NaN      NaN         NaN          NaN  Showtime Documentary Films  \n",
       "12  Sep 30, 2003      NaN         NaN   90 minutes       Seventh Art Releasing  \n",
       "16  Mar 18, 2014        $  99,165,609  129 minutes               Sony Pictures  \n",
       "20           NaN      NaN         NaN          NaN                         NaN  "
      ]
     },
     "execution_count": 1119,
     "metadata": {},
     "output_type": "execute_result"
    }
   ],
   "source": [
    "rt_movies_df.loc[rt_movies_df['director'].isna()].head()"
   ]
  },
  {
   "cell_type": "code",
   "execution_count": 1120,
   "metadata": {},
   "outputs": [
    {
     "name": "stderr",
     "output_type": "stream",
     "text": [
      "C:\\Users\\lenovo\\AppData\\Local\\Temp\\ipykernel_22544\\2391267605.py:18: FutureWarning: A value is trying to be set on a copy of a DataFrame or Series through chained assignment using an inplace method.\n",
      "The behavior will change in pandas 3.0. This inplace method will never work because the intermediate object on which we are setting values always behaves as a copy.\n",
      "\n",
      "For example, when doing 'df[col].method(value, inplace=True)', try using 'df.method({col: value}, inplace=True)' or df[col] = df[col].method(value) instead, to perform the operation inplace on the original object.\n",
      "\n",
      "\n",
      "  rt_movies_df[col].fillna('Unknown', inplace = True)\n"
     ]
    },
    {
     "data": {
>>>>>>> c2fd2596b9e978fac457a1f007fe7fb42a731927
      "text/plain": [
       "id                 0\n",
       "maturity_rating    0\n",
       "genre              0\n",
       "director           0\n",
       "writer             0\n",
       "theater_date       0\n",
       "box_office         0\n",
       "runtime            0\n",
       "dtype: int64"
      ]
     },
<<<<<<< HEAD
     "execution_count": 112,
=======
     "execution_count": 1120,
>>>>>>> c2fd2596b9e978fac457a1f007fe7fb42a731927
     "metadata": {},
     "output_type": "execute_result"
    }
   ],
   "source": [
    "# Drop useless columns\n",
    "rt_movies_df = rt_movies_df.drop(columns = [\n",
    "    \"studio\",\n",
    "    \"dvd_date\",\n",
    "    \"currency\",\n",
    "    \"synopsis\",\n",
    "])\n",
    "\n",
    "rt_movies_df = rt_movies_df.rename(columns = {\"rating\": \"maturity_rating\"})\n",
    "\n",
    "# Drop useless rows\n",
    "rt_movies_df = rt_movies_df.dropna(subset = [\"maturity_rating\", \"genre\"])\n",
    "\n",
    "# Fill remaining categorical columns with 'unknows'\n",
    "cat_cols = rt_movies_df.select_dtypes(include = ['object']).columns\n",
    "\n",
    "for col in cat_cols:\n",
    "   rt_movies_df[col].fillna('Unknown', inplace = True)\n",
    "\n",
    "# Preview changes\n",
    "rt_movies_df.isna().sum()"
   ]
  },
  {
<<<<<<< HEAD
   "cell_type": "code",
   "execution_count": 113,
=======
   "cell_type": "markdown",
   "metadata": {},
   "source": [
    "### MERGED IMDB DATASET"
   ]
  },
  {
   "cell_type": "code",
   "execution_count": 1121,
   "metadata": {},
   "outputs": [
    {
     "name": "stdout",
     "output_type": "stream",
     "text": [
      "Missing Values Overview:\n",
      "\n",
      "                 Null Count  Null Percentage (%)\n",
      "movie_id                  0                 0.00\n",
      "primary_title             0                 0.00\n",
      "original_title            0                 0.00\n",
      "start_year                0                 0.00\n",
      "runtime_minutes        7620                10.32\n",
      "genres                  804                 1.09\n",
      "averagerating             0                 0.00\n",
      "numvotes                  0                 0.00\n"
     ]
    }
   ],
   "source": [
    "# Get null values percentage to guide on imputation\n",
    "null_counts = movies_df.isna().sum()\n",
    "null_percentages = (null_counts / len(movies_df)) * 100\n",
    "\n",
    "print(\"Missing Values Overview:\\n\")\n",
    "print(pd.concat([null_counts.rename(\"Null Count\"), null_percentages.round(2).rename(\"Null Percentage (%)\")], axis = 1))"
   ]
  },
  {
   "cell_type": "code",
   "execution_count": 1122,
   "metadata": {},
   "outputs": [
    {
     "name": "stdout",
     "output_type": "stream",
     "text": [
      "Missing Values after imputation:\n",
      " movie_id           0\n",
      "primary_title      0\n",
      "original_title     0\n",
      "start_year         0\n",
      "runtime_minutes    0\n",
      "genres             0\n",
      "averagerating      0\n",
      "numvotes           0\n",
      "dtype: int64\n",
      "\n",
      "The dataset now contains 73052 rows and 8 columns\n"
     ]
    }
   ],
   "source": [
    "# Impute missing values in runtime_minutes with median because it is more statistically sound\n",
    "median_runtime = movies_df['runtime_minutes'].median()\n",
    "movies_df['runtime_minutes'] = movies_df['runtime_minutes'].fillna(median_runtime)\n",
    "\n",
    "# Drop null values in 'genres'\n",
    "movies_df = movies_df.dropna(subset = ['genres'])\n",
    "\n",
    "# Preview changes\n",
    "print(\"Missing Values after imputation:\\n\", movies_df.isna().sum())\n",
    "\n",
    "# Check new shape\n",
    "print(f\"\\nThe dataset now contains {movies_df.shape[0]} rows and {movies_df.shape[1]} columns\")"
   ]
  },
  {
   "cell_type": "markdown",
   "metadata": {},
   "source": [
    "#### OUTLIER HANDLING FOR MERGED IMDB DATASET"
   ]
  },
  {
   "cell_type": "code",
   "execution_count": 1123,
   "metadata": {},
   "outputs": [
    {
     "data": {
      "image/png": "iVBORw0KGgoAAAANSUhEUgAAAiwAAAGsCAYAAAD+L/ysAAAAOnRFWHRTb2Z0d2FyZQBNYXRwbG90bGliIHZlcnNpb24zLjEwLjAsIGh0dHBzOi8vbWF0cGxvdGxpYi5vcmcvlHJYcgAAAAlwSFlzAAAPYQAAD2EBqD+naQAAR/BJREFUeJzt3XtcFPX+P/DXssqlFBQ0di1E1gsKiiJeQFP0lNcyqU5yLFHL8usPOnkpT0lJagV5zI6XkLSvSmqSx/BWqYmVixfypIJEKl5YxZQ9JCkrXhbd/fz+8MvEykUW0RmW1/Px2IfOzHtnP7MDOy8+M59ZlRBCgIiIiEjBnORuABEREdGdMLAQERGR4jGwEBERkeIxsBAREZHiMbAQERGR4jGwEBERkeIxsBAREZHiMbAQERGR4jGwEBERkeIxsBAREZHiOVxgSU9Px4gRI9CqVSuoVCps2rTJ7nUIIfDRRx+hQ4cOcHFxgY+PD+Lj4+u+sURERFQjjeRuQF27cuUKunbtihdffBHPPvtsrdYxefJk7NixAx999BG6dOmC4uJiXLhwoY5bSkRERDWlcuQvP1SpVNi4cSMiIiKkeaWlpXjnnXfwxRdf4NKlS+jcuTPmzp2LAQMGAACOHj2KoKAg5OTkwN/fX56GExERkQ2HOyV0Jy+++CL27t2LL7/8EtnZ2XjuuecwdOhQnDhxAgDw9ddfQ6fT4ZtvvoGfnx/atGmDl19+GX/88YfMLSciImq4GlRgOXXqFFJSUrB+/Xr069cPbdu2xRtvvIFHH30UK1euBADk5eXhzJkzWL9+PVatWoXk5GQcPHgQf/3rX2VuPRERUcPlcNewVOfQoUMQQqBDhw42881mM7y8vAAAVqsVZrMZq1atkuqWL1+OkJAQ5Obm8jQRERGRDBpUYLFarVCr1Th48CDUarXNsiZNmgAAtFotGjVqZBNqOnXqBADIz89nYCEiIpJBgwoswcHBsFgsKCwsRL9+/Sqt6du3L27evIlTp06hbdu2AIDjx48DAHx9fe9bW4mIiOhPDjdKqKSkBCdPngRwK6B8/PHHGDhwIDw9PdG6dWuMGTMGe/fuxfz58xEcHIwLFy7ghx9+QJcuXTB8+HBYrVb07NkTTZo0wYIFC2C1WhETEwN3d3fs2LFD5q0jIiJqmBwusOzatQsDBw6sMH/cuHFITk7GjRs38P7772PVqlU4d+4cvLy8EBYWhtmzZ6NLly4AgPPnz+Pvf/87duzYgQcffBDDhg3D/Pnz4enpeb83h4iIiOCAgYWIiIgcT4Ma1kxERET1EwMLERERKZ7DjBKyWq04f/48mjZtCpVKJXdziIiIqAaEELh8+TJatWoFJ6eq+1EcJrCcP38ePj4+cjeDiIiIauHs2bN45JFHqlzuMIGladOmAG5tsLu7u8ytISIiopowmUzw8fGRjuNVcZjAUnYayN3dnYGFiIionrnT5Ry86JaIiIgUj4GFiIiIFI+BhYiIiBSPgYWIiIgUj4GFiIiIFI+BhYiIiBSPgYWIiIgUj4GFiIiIFM9hbhxHRERUX1ksFmRnZ6OoqAheXl4ICgqCWq2Wu1mKwsBCREQkI71ej8TERBiNRmmeRqNBTEwMwsPDZWyZsvCUEBERkUz0ej3i4uKg0+mQlJSE7du3IykpCTqdDnFxcdDr9XI3UTFUQgghdyPqgslkgoeHB4qLi/ldQkREpHgWiwWjR4+GTqdDfHw8nJz+7EOwWq2IjY2FwWDA2rVrHfr0UE2P3+xhISIikkF2djaMRiOioqJswgoAODk5YcyYMSgoKEB2drZMLVQWBhYiIiIZFBUVAQD8/PwqXa7T6WzqGjoGFiIiIhl4eXkBAAwGQ6XL8/LybOoaOgYWIiIiGQQFBUGj0WD16tWwWq02y6xWK9asWQOtVougoCCZWqgsDCxEREQyUKvViImJQUZGBmJjY5GTk4OrV68iJycHsbGxyMjIQHR0tENfcGsPjhIiIiKSUWX3YdFqtYiOjm4Q92Gp6fGbgYWIiEhmDflOtzU9fvNOt0RERDJTq9UIDg6WuxmKxmtYiIiISPEYWIiIiEjxGFiIiIhI8RhYiIiISPEYWIiIiEjxGFiIiIhI8ewOLOnp6RgxYgRatWoFlUqFTZs2VVs/fvx4qFSqCo/AwECpJjk5udKa69ev271BRERE5HjsDixXrlxB165d8cknn9SofuHChSgoKJAeZ8+ehaenJ5577jmbOnd3d5u6goICuLq62ts8IiIickB23zhu2LBhGDZsWI3rPTw84OHhIU1v2rQJFy9exIsvvmhTp1KpoNFo7G0OERERNQD3/RqW5cuX4/HHH4evr6/N/JKSEvj6+uKRRx7Bk08+iczMzGrXYzabYTKZbB5ERETkmO5rYCkoKMC2bdvw8ssv28zv2LEjkpOTsWXLFqSkpMDV1RV9+/bFiRMnqlxXQkKC1Hvj4eEBHx+fe918IiIiksldffmhSqXCxo0bERERUaP6hIQEzJ8/H+fPn4ezs3OVdVarFd27d0f//v2xaNGiSmvMZjPMZrM0bTKZ4OPjwy8/JCIiqkcU9+WHQgisWLECUVFR1YYVAHByckLPnj2r7WFxcXGBi4tLXTeTiIiIFOi+nRLS6/U4efIkJkyYcMdaIQSysrKg1WrvQ8uIiIhI6ezuYSkpKcHJkyelaYPBgKysLHh6eqJ169aYMWMGzp07h1WrVtk8b/ny5ejduzc6d+5cYZ2zZ89GaGgo2rdvD5PJhEWLFiErKwuJiYm12CQiIiJyNHYHlgMHDmDgwIHS9LRp0wAA48aNQ3JyMgoKCpCfn2/znOLiYqSmpmLhwoWVrvPSpUuYOHEijEYjPDw8EBwcjPT0dPTq1cve5hEREZEDuquLbpWkphftEBERkXLU9PjN7xIiIiIixWNgISIiIsVjYCEiIiLFY2AhIiIixWNgISIiIsVjYCEiIiLFY2AhIiIixWNgISIiIsVjYCEiIiLFY2AhIiIixWNgISIiIsVjYCEiIiLFY2AhIiIixWNgISIiIsVjYCEiIiLFY2AhIiIixWNgISIiIsVjYCEiIiLFY2AhIiIixWNgISIiIsVjYCEiIiLFY2AhIiIixWNgISIiIsVjYCEiIiLFY2AhIiIixWNgISIiIsVjYCEiIiLFY2AhIiIixWNgISIiIsVjYCEiIiLFY2AhIiIixWNgISIiIsVjYCEiIiLFY2AhIiIixWNgISIiIsWzO7Ckp6djxIgRaNWqFVQqFTZt2lRt/a5du6BSqSo8jh07ZlOXmpqKgIAAuLi4ICAgABs3brS3aUREROSg7A4sV65cQdeuXfHJJ5/Y9bzc3FwUFBRIj/bt20vLMjIyEBkZiaioKBw+fBhRUVEYNWoU9u/fb2/ziIiIyAGphBCi1k9WqbBx40ZERERUWbNr1y4MHDgQFy9eRLNmzSqtiYyMhMlkwrZt26R5Q4cORfPmzZGSklKjtphMJnh4eKC4uBju7u72bAYRERHJpKbH7/t2DUtwcDC0Wi0ee+wx/PjjjzbLMjIyMHjwYJt5Q4YMwb59+6pcn9lshslksnkQERGRY7rngUWr1WLZsmVITU3Fhg0b4O/vj8ceewzp6elSjdFohLe3t83zvL29YTQaq1xvQkICPDw8pIePj8892wYiIiKSV6N7/QL+/v7w9/eXpsPCwnD27Fl89NFH6N+/vzRfpVLZPE8IUWFeeTNmzMC0adOkaZPJxNBCRETkoGQZ1hwaGooTJ05I0xqNpkJvSmFhYYVel/JcXFzg7u5u8yAiIiLHJEtgyczMhFarlabDwsKQlpZmU7Njxw706dPnfjeNiIiIFMjuU0IlJSU4efKkNG0wGJCVlQVPT0+0bt0aM2bMwLlz57Bq1SoAwIIFC9CmTRsEBgaitLQUa9asQWpqKlJTU6V1TJ48Gf3798fcuXMxcuRIbN68GTt37sSePXvqYBOJiIiovrM7sBw4cAADBw6UpsuuIxk3bhySk5NRUFCA/Px8aXlpaSneeOMNnDt3Dm5ubggMDMS3336L4cOHSzV9+vTBl19+iXfeeQczZ85E27ZtsW7dOvTu3ftuto2IiIgcxF3dh0VJeB8WIiKi+kdx92EhIiIiqi0GFiIiIlI8BhYiIiJSPAYWIiIiUjwGFiIiIlI8BhYiIiJSPAYWIiIiUjwGFiIiIlK8e/5tzURERFQ9i8WC7OxsFBUVwcvLC0FBQVCr1XI3S1EYWIiIiGSk1+uRmJgIo9EozdNoNIiJiUF4eLiMLVMWnhIiIiKSiV6vR1xcHHQ6HZKSkrB9+3YkJSVBp9MhLi4Oer1e7iYqBr9LiIiISAYWiwWjR4+GTqdDfHw8nJz+7EOwWq2IjY2FwWDA2rVrHfr0EL9LiIiISMGys7NhNBoRFRVlE1YAwMnJCWPGjEFBQQGys7NlaqGyMLAQERHJoKioCADg5+dX6XKdTmdT19AxsBAREcnAy8sLAGAwGCpdnpeXZ1PX0DGwEBERySAoKAgajQarV6+G1Wq1WWa1WrFmzRpotVoEBQXJ1EJlYWAhIiKSgVqtRkxMDDIyMhAbG4ucnBxcvXoVOTk5iI2NRUZGBqKjox36glt7cJQQERGRjCq7D4tWq0V0dHSDuA9LTY/fDCxEREQya8h3uq3p8Zt3uiUiIpKZWq1GcHCw3M1QNF7DQkRERIrHwEJERESKx8BCREREisfAQkRERIrHi26JiIhk1pBHCdUUAwsREZGMKrsPi0ajQUxMTIO4D0tN8ZQQERGRTPR6PeLi4qDT6ZCUlITt27cjKSkJOp0OcXFx0Ov1cjdRMXjjOCIiIhlYLBaMHj0aOp0O8fHxcHL6sw/BarUiNjYWBoMBa9eudejTQzU9frOHhYiISAbZ2dkwGo2IioqyCSsA4OTkhDFjxqCgoADZ2dkytVBZGFiIiIhkUFRUBADw8/OrdLlOp7Opa+gYWIiIiGTg5eUFADAYDJUuz8vLs6lr6BhYiIiIZBAUFASNRoPVq1fDarXaLLNarVizZg20Wi2CgoJkaqGyMLAQERHJQK1WIyYmBhkZGYiNjUVOTg6uXr2KnJwcxMbGIiMjA9HR0Q59wa09OEqIiIhIRpXdh0Wr1SI6OrpB3Iflno0SSk9Px4gRI9CqVSuoVCps2rSp2voNGzZg0KBBaNmyJdzd3REWFobvvvvOpiY5ORkqlarC4/r16/Y2j4iIqF4JDw9HSkoKFi5ciLi4OCxcuBBr165tEGHFHnbf6fbKlSvo2rUrXnzxRTz77LN3rE9PT8egQYMQHx+PZs2aYeXKlRgxYgT279+P4OBgqc7d3R25ubk2z3V1dbW3eURERPWOWq22OSZSRXYHlmHDhmHYsGE1rl+wYIHNdHx8PDZv3oyvv/7aZueoVCpoNBp7m0NEREQNwH2/6NZqteLy5cvw9PS0mV9SUgJfX1888sgjePLJJ5GZmVntesxmM0wmk82DiIiIHNN9Dyzz58/HlStXMGrUKGlex44dkZycjC1btiAlJQWurq7o27cvTpw4UeV6EhIS4OHhIT18fHzuR/OJiIhIBnc1SkilUmHjxo2IiIioUX1KSgpefvllbN68GY8//niVdVarFd27d0f//v2xaNGiSmvMZjPMZrM0bTKZ4OPjw1FCRERE9UhNRwnZfQ1Lba1btw4TJkzA+vXrqw0rwK3vUOjZs2e1PSwuLi5wcXGp62YSERHddxaLBdnZ2SgqKoKXlxeCgoJ4/5Xb3JfAkpKSgpdeegkpKSl44okn7lgvhEBWVha6dOlyH1pHREQkn8ruw6LRaBATE8OhzeXYfQ1LSUkJsrKykJWVBeDWdyBkZWUhPz8fADBjxgyMHTtWqk9JScHYsWMxf/58hIaGwmg0wmg0ori4WKqZPXs2vvvuO+Tl5SErKwsTJkxAVlYWJk2adJebR0REpFx6vR5xcXHQ6XRISkrC9u3bkZSUBJ1Oh7i4OOj1ermbqBh2X8Oya9cuDBw4sML8cePGITk5GePHj8fp06exa9cuAMCAAQMqfcPL6gFg6tSp2LBhA4xGIzw8PBAcHIxZs2YhLCysxu3inW6JiKg+sVgsGD16NHQ6HeLj4+Hk9GcfgtVqRWxsLAwGA9auXevQp4dqevzmrfmJiIhkkJmZicmTJyMpKQmBgYEVlufk5CA6OhoLFy506JvKKe6iWyIiIvpTUVERAMDPz6/Si251Op1NXUPHwEJERCQDLy8vALe+c2/Lli0VLrodMWKETV1Dx8BCREQkg6CgIDRr1gzLli1DWFgY3n33Xfj5+cFgMGDVqlX47LPP0Lx5cwQFBcndVEW473e6JSIiIlsqlQpll5QKIaBSqaT/0y3sYSEiIpJBdnY2Ll26hIkTJ2LLli2Ijo6Wlmm1Wrzyyiv47LPPkJ2d7dAX3dYUAwsREZEMyi6mfeaZZzB69OgKF92azWZ89tlnvOj2/zCwEBERyaDsYlqDwYDAwMAKvSh5eXk2dQ0dr2EhIiKSQVBQEDQaDVavXg2r1WqzzGq1Ys2aNdBqtbzo9v8wsBAREclArVYjJiYGGRkZiI2NRU5ODq5evYqcnBzExsYiIyMD0dHRDn2XW3vwTrdEREQyquzLD7VaLaKjoxvElx/y1vxERET1RGV3um0oPSu8NT8REVE9oVarOXT5DngNCxERESkeAwsREREpHgMLERERKR4DCxERESkeAwsREREpHgMLERERKR4DCxERESkeAwsREREpHgMLERERKR4DCxERESkeAwsREREpHgMLERERKR4DCxERESkeAwsREREpHgMLERERKV4juRtARETU0FksFmRnZ6OoqAheXl4ICgqCWq2Wu1mKwsBCREQkI71ej8TERBiNRmmeRqNBTEwMwsPDZWyZsvCUEBERkUz0ej3i4uKg0+mQlJSE7du3IykpCTqdDnFxcdDr9XI3UTFUQgghdyPqgslkgoeHB4qLi+Hu7i53c4iIiKplsVgwevRo6HQ6xMfHw8npzz4Eq9WK2NhYGAwGrF271qFPD9X0+M0eFiIiIhlkZ2fDaDQiKirKJqwAgJOTE8aMGYOCggJkZ2fL1EJlYWAhIiKSQVFREQDAz8+v0uU6nc6mrqHjRbdEREQy8PLyAgAYDAZ07NixwiihvLw8m7qGjoGFiIhIBkFBQdBoNFiwYAGKi4srjBLy8PCAVqtFUFCQjK1UDrtPCaWnp2PEiBFo1aoVVCoVNm3adMfn6PV6hISEwNXVFTqdDp9++mmFmtTUVAQEBMDFxQUBAQHYuHGjvU0jIiKqN9RqNQYMGIDc3FyYzWZMnz4dGzduxPTp02E2m5Gbm4vw8HCHvuDWHnYHlitXrqBr16745JNPalRvMBgwfPhw9OvXD5mZmYiNjcVrr72G1NRUqSYjIwORkZGIiorC4cOHERUVhVGjRmH//v32No+IiKhesFgs2LVrF/z9/eHs7Ix58+bh6aefxrx58+Di4gJ/f3/o9XpYLBa5m6oIdzWsWaVSYePGjYiIiKiy5s0338SWLVtw9OhRad6kSZNw+PBhZGRkAAAiIyNhMpmwbds2qWbo0KFo3rw5UlJSatQWDmsmIqL6JDMzE5MnT0ZSUlKl17AcPXoU0dHRWLhwIYKDg+Vu7j1T0+P3Pb+GJSMjA4MHD7aZN2TIECxfvhw3btxA48aNkZGRgalTp1aoWbBgQZXrNZvNMJvN0rTJZKrTdhMREd1L5UcJqdXqCqGEo4Rs3fNhzUajEd7e3jbzvL29cfPmTVy4cKHamvIXIN0uISEBHh4e0sPHx6fuG09ERHSPlB8lVBmOErJ1X+7DolKpbKbLzkKVn19Zze3zypsxYwaKi4ulx9mzZ+uwxURERPdW2Sih1atXw2q12iyzWq1Ys2YNRwmVc88Di0ajqdBTUlhYiEaNGkmpsaqa23tdynNxcYG7u7vNg4iIqL5Qq9WIiYlBRkYGYmNjkZOTg6tXryInJwexsbHIyMhAdHQ0Rwn9n3seWMLCwpCWlmYzb8eOHejRowcaN25cbU2fPn3udfOIiIhkEx4ejjlz5iAvLw/R0dEYOnQooqOjYTAYMGfOHH5bczl2X3RbUlKCkydPStMGgwFZWVnw9PRE69atMWPGDJw7dw6rVq0CcGtE0CeffIJp06bhlVdeQUZGBpYvX24z+mfy5Mno378/5s6di5EjR2Lz5s3YuXMn9uzZUwebSEREpFzh4eEICwvDpk2bcP78ebRq1QoRERFwdnaWu2mKYvew5l27dmHgwIEV5o8bNw7JyckYP348Tp8+jV27dknL9Ho9pk6dil9//RWtWrXCm2++iUmTJtk8/6uvvsI777yDvLw8tG3bFh988AGeeeaZGreLw5qJiKg+0uv1SExMrHCn25iYmAbRw1LT4/dd3YdFSRhYiIiovtHr9YiLi0NYWBiioqLg5+cHg8GA1atXIyMjo0GcFmJgISIiUjCLxYLRo0dDp9MhPj4eTk5/XlZqtVoRGxsLg8GAtWvXOvSFtzU9ft+XYc1ERERkKzs7G0ajEVFRUTZhBQCcnJwwZswYFBQUIDs7W6YWKgsDCxERkQzK3+m2MrzTrS0GFiIiIhnwTrf2YWAhIiKSAe90ax8GFiIiIhnwTrf24SghIiIiGVV2HxatVovo6GiHH9IMcFiz3M0hIiKqMYvFguzsbBQVFcHLywtBQUENpmelpsdvu2/NT0RERHVLrVYjODhY7mYoGq9hISIiIsVjYCEiIiLFY2AhIiIixWNgISIiIsVjYCEiIiLFY2AhIiIixWNgISIiIsVjYCEiIiLFY2AhIiIixWNgISIiIsVjYCEiIiLFY2AhIiIixeOXHxIREcmsIX9bc00xsBAREclIr9cjMTERRqNRmqfRaBATE4Pw8HAZW6YsPCVEREQkE71ej7i4OOh0OiQlJWH79u1ISkqCTqdDXFwc9Hq93E1UDJUQQsjdiLpgMpng4eGB4uJiuLu7y90cIiKialksFowePRo6nQ7x8fFwcvqzD8FqtSI2NhYGgwFr16516NNDNT1+s4eFiIhIBtnZ2TAajYiKioIQApmZmdi5cycyMzMhhMCYMWNQUFCA7OxsuZuqCLyGhYiISAZFRUUAgHPnzmH27NkVrmF5+eWXbeoaOgYWIiIiGXh5eQEA3n//fYSFhWH06NFwdnZGaWkpfvrpJ7z//vs2dQ0dAwsREZEMAgMDoVar4erqCoPBgIyMDGmZRqPBgw8+iOvXryMwMFDGVioHr2EhIiKSwa+//gqLxYIrV66gsLDQZllhYSGuXLkCi8WCX3/9VaYWKgsDCxERkQx+//136f+NGtme8Cg/Xb6uIeMpISIiIhlcvHgRANC2bVskJSVhy5YtOH/+PFq1aoWnnnoKkyZNQl5enlTX0DGwEBERycBkMgEAzGYzxo4dazNK6KuvvpJ6WcrqGjqeEiIiIpKBSqUCAPz2228wm82YPn06Nm7ciOnTp8NsNuO3336zqWvo2MNCREQkg65duwIA3Nzc0LhxY8ybN09a5u3tDTc3N1y7dk2qa+hq1cOyZMkS+Pn5wdXVFSEhIdi9e3eVtePHj4dKparwKD9MKzk5udKa69ev16Z5REREild2K/5r166hbdu2mDJlCt58801MmTIFOp0O165ds6lr6OzuYVm3bh2mTJmCJUuWoG/fvli6dCmGDRuGI0eOoHXr1hXqFy5ciA8//FCavnnzJrp27YrnnnvOps7d3R25ubk281xdXe1tHhERUb1Q/mLaQ4cO2dyHxcXFpdK6hszu2Pbxxx9jwoQJePnll9GpUycsWLAAPj4+SEpKqrTew8MDGo1Gehw4cAAXL17Eiy++aFOnUqls6jQaTbXtMJvNMJlMNg8iIqL6ouwOthMnTkSzZs1sljVv3hyvvPKKTV1DZ1cPS2lpKQ4ePIi33nrLZv7gwYOxb9++Gq1j+fLlePzxx+Hr62szv6SkBL6+vrBYLOjWrRvee+89BAcHV7mehIQEzJ49257mExERKUZQUBA0Gg1ycnKwdu1a5OTkoKioCF5eXujcuTNmzpwJrVaLoKAguZuqCHb1sFy4cAEWiwXe3t428729vW2GY1WloKAA27Ztk77QqUzHjh2RnJyMLVu2ICUlBa6urujbty9OnDhR5bpmzJiB4uJi6XH27Fl7NoWIiEhWarUaMTExyMjIwMyZM2EwGGA2m2EwGDBz5kxkZGQgOjoaarVa7qYqQq1GCd0+xEoIUaNhV8nJyWjWrBkiIiJs5oeGhiI0NFSa7tu3L7p3747Fixdj0aJFla7LxcXF5hwfERFRfRMeHo7IyEisX7/e5kyFWq1GZGQkwsPDZWydstgVWFq0aAG1Wl2hN6WwsLBCr8vthBBYsWIFoqKi4OzsXG2tk5MTevbsWW0PCxERUX2n1+uxbt069O7dG4888gjMZjNcXFzw22+/Yd26dQgMDGRo+T92BRZnZ2eEhIQgLS0NTz/9tDQ/LS0NI0eOrPa5er0eJ0+exIQJE+74OkIIZGVloUuXLvY0j4iIqN6wWCxITExEhw4dcPr0afz000/SMo1Ggw4dOmDJkiV49NFHeVoItTglNG3aNERFRaFHjx4ICwvDsmXLkJ+fj0mTJgG4dW3JuXPnsGrVKpvnLV++HL1790bnzp0rrHP27NkIDQ1F+/btYTKZsGjRImRlZSExMbGWm0VERKRs2dnZMBqN+O9//4uwsDC8++678PPzg8FgwOrVq5GRkQEhBLKzs6sdhNJQ2B1YIiMjUVRUhDlz5qCgoACdO3fG1q1bpVE/BQUFyM/Pt3lOcXExUlNTsXDhwkrXeenSJUycOBFGoxEeHh4IDg5Geno6evXqVYtNIiIiUr6yb2Hu1asXZs2ahS1btiAtLQ2tWrXCrFmzMHPmTOzfv5/f1vx/VEIIIXcj6oLJZIKHhweKi4vh7u4ud3OIiIiq9e9//xuffPIJevbsiUOHDsFisUjL1Go1goODceDAAbz66qsYNWqUjC29t2p6/OZ3CREREcmg7GZxP//8M5o1a4Y2bdpIy06fPo0DBw7Y1DV0DCxEREQyKB9ELl26hKysrDvWNWT8RiUiIiIZ5OXl1Wmdo2NgISIiksFvv/1Wp3WOjoGFiIhIBqdOnarTOkfHwEJERCQDs9lcp3WOjhfdEhERyeDatWvS/9VqNYKCgtCiRQtcuHAB2dnZ0jDn8nUNGQMLERGRDBo1+vMQbLFYkJmZece6hoynhIiIiGSgUqlspn18fNC/f3/4+PhUW9dQMbYRERHJwM/PD6dPn5amz549i7Nnz1ZaR+xhISIikkXTpk3rtM7RMbAQERHJQK1W12mdo2NgISIikoFWq63TOkfHwEJERCQDnU5Xp3WOjoGFiIhIBoWFhXVa5+gYWIiIiGTw7bff1mmdo2NgISIiksGFCxcAAE5OTti0aRP69u0LnU6Hvn37YtOmTXBycrKpa+h4HxYiIiIZlN1632q1IiIiQpqfl5eHvXv3Vqhr6NjDQkREJIP27dvXaZ2jY2AhIiKSQVBQUJ3WOToGFiIiIhmUXaNSV3WOju8CERGRDIxGY53WOToGFiIiIhncuHGjTuscHQMLERGRDM6fPy/9X6VS2SwrP12+riFjYCEiIpJBSUmJ9H8hhM2y8tPl6xoyBhYiIiIZNGpUs1uh1bTO0TGwEBERycDd3b1O6xwdAwsREZEM/vjjjzqtc3QMLERERDLw8vKq0zpHx8BCREQkA6vVWqd1jo6BhYiISAa5ubl1WufoGFiIiIhkcPny5Tqtc3QMLERERKR4HNxNREQkg6ZNm+LSpUvS/x966CHcuHEDjRs3RmFhodSz0rRpUxlbqRy16mFZsmQJ/Pz84OrqipCQEOzevbvK2l27dkGlUlV4HDt2zKYuNTUVAQEBcHFxQUBAADZu3FibphEREdUL5S+mvXz5Mk6dOoX8/HycOnXK5jQQL7q9xe7Asm7dOkyZMgVvv/02MjMz0a9fPwwbNgz5+fnVPi83NxcFBQXSo3379tKyjIwMREZGIioqCocPH0ZUVBRGjRqF/fv3279FRERE9cDt3x90t3WOTiVu/wKDO+jduze6d++OpKQkaV6nTp0QERGBhISECvW7du3CwIEDcfHiRTRr1qzSdUZGRsJkMmHbtm3SvKFDh6J58+ZISUmpUbtMJhM8PDxQXFzMuwISEZHiTZo0CUeOHLljXUBAAD799NP70CJ51PT4bVcPS2lpKQ4ePIjBgwfbzB88eDD27dtX7XODg4Oh1Wrx2GOP4ccff7RZlpGRUWGdQ4YMqXadZrMZJpPJ5kFERFRf9OrVq07rHJ1dgeXChQuwWCzw9va2me/t7Q2j0Vjpc7RaLZYtW4bU1FRs2LAB/v7+eOyxx5Ceni7VGI1Gu9YJAAkJCfDw8JAePj4+9mwKERGRrA4cOFCndY6uVqOEbj+fJoSo8hybv78//P39pemwsDCcPXsWH330Efr371+rdQLAjBkzMG3aNGnaZDIxtBARUb3B+7DYx64elhYtWkCtVlfo+SgsLKzQQ1Kd0NBQnDhxQprWaDR2r9PFxQXu7u42DyIiovqiUaOa9RnUtM7R2RVYnJ2dERISgrS0NJv5aWlp6NOnT43Xk5mZCa1WK02HhYVVWOeOHTvsWicREVF9YrFY6rTO0dkd26ZNm4aoqCj06NEDYWFhWLZsGfLz8zFp0iQAt07VnDt3DqtWrQIALFiwAG3atEFgYCBKS0uxZs0apKamIjU1VVrn5MmT0b9/f8ydOxcjR47E5s2bsXPnTuzZs6eONpOIiEhZajpI187BvA7L7sASGRmJoqIizJkzBwUFBejcuTO2bt0KX19fAEBBQYHNPVlKS0vxxhtv4Ny5c3Bzc0NgYCC+/fZbDB8+XKrp06cPvvzyS7zzzjuYOXMm2rZti3Xr1qF37951sIlERETKw1NC9rH7PixKxfuwEBFRfRIVFYUzZ87csc7X1xerV6++Dy2Sxz25DwsRERHVDd7p1j4MLERERDJQq9V1WufoGFiIiIhkUNM7tPNO7rcwsBAREcng2rVrdVrn6BhYiIiIZFBaWlqndY6OgYWIiIgUj4GFiIhIBrxxnH0YWIiIiGTwwAMP1Gmdo2NgISIikkFNvzTYni8XdmQMLERERDJ4+umn67TO0TGwEBERyWDp0qV1WufoGFiIiIhkcOnSpTqtc3QMLERERKR4DCxERESkeAwsREREMnByqtkhuKZ1jo7vAhERkQxcXFzqtM7RMbAQERHJwGq11mmdo2NgISIikgG//NA+DCxEREQy4HcJ2YeBhYiIiBSPgYWIiIgUj4GFiIhIBmq1uk7rHB0DCxERkQxUKlWd1jk6BhYiIiIZ8KJb+zCwEBERycBisdRpnaNjYCEiIiLFY2AhIiIixWNgISIiIsVjYCEiIiLFY2AhIiIixWNgISIiIsVjYCEiIpJBo0aN6rTO0TGwEBERyeDmzZt1WufoGFiIiIhI8RhYiIiISPFqFViWLFkCPz8/uLq6IiQkBLt3766ydsOGDRg0aBBatmwJd3d3hIWF4bvvvrOpSU5OhkqlqvC4fv16bZpHREREDsbuwLJu3TpMmTIFb7/9NjIzM9GvXz8MGzYM+fn5ldanp6dj0KBB2Lp1Kw4ePIiBAwdixIgRyMzMtKlzd3dHQUGBzcPV1bV2W0VEREQORSXs/BrI3r17o3v37khKSpLmderUCREREUhISKjROgIDAxEZGYm4uDgAt3pYpkyZgkuXLtnTFBsmkwkeHh4oLi6Gu7t7rddDRER0P/Tv37/Gtenp6fewJfKq6fHbrh6W0tJSHDx4EIMHD7aZP3jwYOzbt69G67Barbh8+TI8PT1t5peUlMDX1xePPPIInnzyyQo9MLczm80wmUw2DyIiInJMdgWWCxcuwGKxwNvb22a+t7c3jEZjjdYxf/58XLlyBaNGjZLmdezYEcnJydiyZQtSUlLg6uqKvn374sSJE1WuJyEhAR4eHtLDx8fHnk0hIiKieqRWF92qVCqbaSFEhXmVSUlJwaxZs7Bu3To89NBD0vzQ0FCMGTMGXbt2Rb9+/fDvf/8bHTp0wOLFi6tc14wZM1BcXCw9zp49W5tNISIionrArtvntWjRAmq1ukJvSmFhYYVel9utW7cOEyZMwPr16/H4449XW+vk5ISePXtW28Pi4uICFxeXmjeeiIiI6i27elicnZ0REhKCtLQ0m/lpaWno06dPlc9LSUnB+PHjsXbtWjzxxBN3fB0hBLKysqDVau1pHhERETkou7+gYNq0aYiKikKPHj0QFhaGZcuWIT8/H5MmTQJw61TNuXPnsGrVKgC3wsrYsWOxcOFChIaGSr0zbm5u8PDwAADMnj0boaGhaN++PUwmExYtWoSsrCwkJibW1XYSERFRPWZ3YImMjERRURHmzJmDgoICdO7cGVu3boWvry8AoKCgwOaeLEuXLsXNmzcRExODmJgYaf64ceOQnJwMALh06RImTpwIo9EIDw8PBAcHIz09Hb169brLzSMiIiJHYPd9WJSK92EhIqL6hPdhueWe3IeFiIiISA4MLERERKR4DCxERESkeAwsREREpHgMLERERKR4DCxERESkeAwsREREpHgMLERERKR4DCxERESkeAwsREREpHgMLERERKR4DCxERESkeAwsREREpHgMLERERKR4DCxERESkeAwsREREpHgMLERERKR4DCxERESkeAwsREREpHgMLERERKR4DCxERESkeAwsREREpHgMLERERKR4DCxERESkeI3kbgAR1YzFYkF2djaKiorg5eWFoKAgqNVquZtFRHRfMLAQ1QN6vR6JiYkwGo3SPI1Gg5iYGISHh8vYMiKi+4OnhIgUTq/XIy4uDjqdDklJSdi+fTuSkpKg0+kQFxcHvV4vdxOJiO45BhYiBbNYLEhMTERYWBji4+MRGBiIBx54AIGBgYiPj0dYWBiWLFkCi8Uid1OJiO4pBhYiBcvOzobRaERUVBScnGx/XZ2cnDBmzBgUFBQgOztbphYSEd0fDCxEClZUVAQA8PPzq3S5TqezqSMiclQMLEQK5uXlBQAwGAyVLs/Ly7OpIyJyVAwsRAoWFBQEjUaD1atX48aNG8jMzMTOnTuRmZmJGzduYM2aNdBqtQgKCpK7qURE9xSHNRMpmFqtRkxMDOLi4jB8+HCYzWZpmYuLC0pLSzFnzhzej4WIHB4DC1E9IISwCSsAKkyTY+nfv3+Feenp6TK0hEgZanVKaMmSJfDz84OrqytCQkKwe/fuauv1ej1CQkLg6uoKnU6HTz/9tEJNamoqAgIC4OLigoCAAGzcuLE2TSNyKGXDmqvDYc2Op7KwUt18oobA7sCybt06TJkyBW+//TYyMzPRr18/DBs2DPn5+ZXWGwwGDB8+HP369UNmZiZiY2Px2muvITU1VarJyMhAZGQkoqKicPjwYURFRWHUqFHYv39/7beMyAGUDWuuDoc1O5Y7hRKGFmqoVEIIYc8Tevfuje7duyMpKUma16lTJ0RERCAhIaFC/ZtvvoktW7bg6NGj0rxJkybh8OHDyMjIAABERkbCZDJh27ZtUs3QoUPRvHlzpKSk1KhdJpMJHh4eKC4uhru7uz2bRKRYtx+cyp8SqG4Z1U/c3w2LPeHTkfd3TY/fdl3DUlpaioMHD+Ktt96ymT948GDs27ev0udkZGRg8ODBNvOGDBmC5cuX48aNG2jcuDEyMjIwderUCjULFiyosi1ms9nmHL7JZLJnUwAAx48fx+nTp+1+Xk1dvXoVp06dumfrv9/atm2LBx544J6su02bNujQocM9WXeZ+r6/R44cifnz59tMb968WZouv6wucH9Xj/u75ri/7x73t52B5cKFC7BYLPD29raZ7+3tXWW3tdForLT+5s2buHDhArRabZU11XWFJyQkYPbs2fY0v4LFixfj8OHDd7UOqhtdu3bF4sWL7+lr1Pf9Xf5gVZvlSsL9fWfc3/ap7/v7Tri/azlKSKVS2UwLISrMu1P97fPtXeeMGTMwbdo0adpkMsHHx+fOjS/n73//u0Mn8rp2rxP5vVYf93f5DymNRoP27dujadOmuHz5Mk6cOGET6keOHFmnr839Xb17vb8r2593Wn43uL+rd6/3951wf9sZWFq0aAG1Wl2h56OwsLBCD0kZjUZTaX2jRo2ku3NWVVPVOoFb96BwcXGxp/kVdOjQ4Z53U5Jy1Mf9Xf4DzWg0Vtvr+Prrr9+PJtUb9X1/b968udprWLi/bdX3/X0n3N92jhJydnZGSEgI0tLSbOanpaWhT58+lT4nLCysQv2OHTvQo0cPNG7cuNqaqtZJ1FDU9EI7R74gryG5fT/2799felRXR/UTf7/tY/ew5mnTpuF///d/sWLFChw9ehRTp05Ffn4+Jk2aBODWqZqxY8dK9ZMmTcKZM2cwbdo0HD16FCtWrMDy5cvxxhtvSDWTJ0/Gjh07MHfuXBw7dgxz587Fzp07MWXKlLvfQqJ67k4fVvwwcyzc3w0L93fN2R1YIiMjsWDBAsyZMwfdunVDeno6tm7dCl9fXwC37glR/p4sfn5+2Lp1K3bt2oVu3brhvffew6JFi/Dss89KNX369MGXX36JlStXIigoCMnJyVi3bh169+5dB5tIVP9V9aHFDzPHxP3dsHB/14zd92FRKt6HhYiIqP6p6fGb39ZMREREisfAQkRERIrHwEJERESKx8BCREREisfAQkRERIrHwEJERESKx8BCREREisfAQkRERIrHwEJERESKZ9e3NStZ2Q17TSaTzC0hIiKimio7bt/pxvsOE1guX74MAPDx8ZG5JURERGSvy5cvw8PDo8rlDvNdQlarFefPn0fTpk2hUqnkbs59YzKZ4OPjg7Nnz/I7lBoA7u+Ghfu7YWmo+1sIgcuXL6NVq1Zwcqr6ShWH6WFxcnLCI488InczZOPu7t6gfsAbOu7vhoX7u2FpiPu7up6VMrzoloiIiBSPgYWIiIgUj4GlnnNxccG7774LFxcXuZtC9wH3d8PC/d2wcH9Xz2EuuiUiIiLHxR4WIiIiUjwGFiIiIlI8BhYiIiJSPAYWIiKSDBgwAFOmTJG7GUQVMLDcA+PHj0dERESdrY8fIMqkUqmwadMmuZtht7r++aT6adeuXVCpVLh06ZLN/A0bNuC9996Tp1FUa/X188geDCwKduPGDbmbYJfS0lK5m3BPzJo1C926daswv6CgAMOGDbv/DbpLCxcuRHJycp2us6qDX0NksVhgtVple/27/T309PRE06ZN66g1RHWHgeUufPXVV+jSpQvc3Nzg5eWFxx9/HNOnT8fnn3+OzZs3Q6VSQaVSYdeuXQCAN998Ex06dMADDzwAnU6HmTNn2oSSsgPjihUroNPp4OLignHjxkGv12PhwoXS+k6fPl1lm4QQaNeuHT766COb+Tk5OXBycsKpU6cAAMXFxZg4cSIeeughuLu74y9/+QsOHz4s1Z86dQojR46Et7c3mjRpgp49e2Lnzp0262zTpg3ef/99jB8/Hh4eHnjllVfu8h2tW/c6QGk0mnp5vwQPDw80a9ZM7mbcN9u3b8ejjz6KZs2awcvLC08++aT0exAWFoa33nrLpv73339H48aN8eOPPwK49XP0j3/8Aw8//DAefPBB9O7dW/qdBoDk5GQ0a9YM33zzDQICAuDi4oIzZ87g559/xqBBg9CiRQt4eHggPDwchw4dsnmtY8eO4dFHH4WrqysCAgKwc+fOCn8pnzt3DpGRkWjevDm8vLwwcuRIm8+Ash6zhIQEtGrVCh06dAAArFmzBj169EDTpk2h0Wjw/PPPo7CwEABw+vRpDBw4EADQvHlzqFQqjB8/HkDFHt02bdogPj4eL730Epo2bYrWrVtj2bJlNtuxb98+dOvWDa6urujRowc2bdoElUqFrKwsu/aV3AYMGIDXXnsN//jHP+Dp6QmNRoNZs2YBuPWe3b5Nly5dsvmMLwvu3333HYKDg+Hm5oa//OUvKCwsxLZt29CpUye4u7tj9OjRuHr1KgBg6dKlePjhhyuE3Keeegrjxo2TppOSktC2bVs4OzvD398fq1evlpa1adMGAPD0009DpVJJ0wDw9ddfIyQkBK6urtDpdJg9ezZu3rwpLZ81axZat24NFxcXtGrVCq+99lodvJP3iKBaOX/+vGjUqJH4+OOPhcFgENnZ2SIxMVFcvnxZjBo1SgwdOlQUFBSIgoICYTabhRBCvPfee2Lv3r3CYDCILVu2CG9vbzF37lxpne+++6548MEHxZAhQ8ShQ4fE4cOHxaVLl0RYWJh45ZVXpPXdvHmz2rZ98MEHIiAgwGbe1KlTRf/+/YUQQlitVtG3b18xYsQI8fPPP4vjx4+L119/XXh5eYmioiIhhBBZWVni008/FdnZ2eL48ePi7bffFq6uruLMmTPSOn19fYW7u7uYN2+eOHHihDhx4kSdvLe1FR4eLmJiYsTUqVOFl5eXaN26tQAgMjMzpZqLFy8KAOLHH38UQgjx448/CgBi586dIiQkRLi5uYmwsDBx7NgxIYQQK1euFABsHitXrhRCCAFAbNy4UQghhMFgEADEunXrxKOPPipcXV1Fjx49RG5urvjPf/4jQkJCpH1bWFho0+4VK1aIjh07ChcXF+Hv7y8SExNrtL21fc1x48aJkSNH2rxvf//738X06dNF8+bNhbe3t3j33XcrvE5V72PZ8vKPcePGCSFu/azNnTtX+Pn5CVdXVxEUFCTWr18vreePP/4Qzz//vGjRooVwdXUV7dq1EytWrKjR9tfUV199JVJTU8Xx48dFZmamGDFihOjSpYuwWCxi8eLFonXr1sJqtUr1ixcvFg8//LCwWCxCCCGef/550adPH5Geni5Onjwp5s2bJ1xcXMTx48eFELd+Rho3biz69Okj9u7dK44dOyZKSkrE999/L1avXi2OHDkijhw5IiZMmCC8vb2FyWQSQghhsViEv7+/GDRokMjKyhK7d+8WvXr1svm5unLlimjfvr146aWXRHZ2tjhy5Ih4/vnnhb+/v/S5Mm7cONGkSRMRFRUlcnJyxC+//CKEEGL58uVi69at4tSpUyIjI0OEhoaKYcOGCSGEuHnzpkhNTRUARG5urigoKBCXLl0SQtz6eZg8ebL0fvj6+gpPT0+RmJgoTpw4IRISEoSTk5M4evSoEEIIk8kkPD09xZgxY8Svv/4qtm7dKjp06FDhZ6Y+CA8PF+7u7mLWrFni+PHj4vPPPxcqlUrs2LHjjr8HQvz5eRIaGir27NkjDh06JNq1ayfCw8PF4MGDxaFDh0R6errw8vISH374oRBCiKKiIuHs7Cx27twprfePP/4Qzs7O4rvvvhNCCLFhwwbRuHFjkZiYKHJzc8X8+fOFWq0WP/zwgxBCiMLCQumzqaCgQPp93759u3B3dxfJycni1KlTYseOHaJNmzZi1qxZQggh1q9fL9zd3cXWrVvFmTNnxP79+8WyZcvu9dtcawwstXTw4EEBQJw+fbrCstsPCFX55z//KUJCQqTpd999VzRu3LjCAe32D5A7OX/+vFCr1WL//v1CCCFKS0tFy5YtRXJyshBCiO+//164u7uL69ev2zyvbdu2YunSpVWuNyAgQCxevFia9vX1FRERETVu170WHh4umjRpIqZPny6OHTsmjh49WuMPmN69e4tdu3aJX3/9VfTr10/06dNHCCHE1atXxeuvvy4CAwOlwHj16lUhROWBpWPHjmL79u3iyJEjIjQ0VHTv3l0MGDDA5sNr0qRJUnuWLVsmtFqtSE1NFXl5eSI1NVV4enpK+6o6tX3NygJLVR/S5V+nqvexuoNfbGys1L5Tp06JlStXChcXF7Fr1y4hhBAxMTGiW7du4ueffxYGg0GkpaWJLVu21GyH11LZh/svv/wiCgsLRaNGjUR6erq0PCwsTEyfPl0IIcTJkyeFSqUS586ds1nHY489JmbMmCGE+DPUZmVlVfu6N2/eFE2bNhVff/21EEKIbdu2iUaNGomCggKpJi0tzebnavny5cLf398mUJnNZuHm5iYdzMaNGye8vb2lAFOV//znPwKAuHz5shDiz5/9ixcv2tRVFljGjBkjTVutVvHQQw+JpKQkIYQQSUlJwsvLS1y7dk2q+eyzz+ptYHn00Udt5vXs2VO8+eabdgWW8uEjISFBABCnTp2S5v3P//yPGDJkiDT91FNPiZdeekmaXrp0qdBoNNIfp3369BGvvPKKTbuee+45MXz4cGm6/M9NmX79+on4+HibeatXrxZarVYIIcT8+fNFhw4dRGlp6Z3eGkVwmG9rvt+6du2Kxx57DF26dMGQIUMwePBg/PWvf0Xz5s2rfM5XX32FBQsW4OTJkygpKcHNmzcrfCOnr68vWrZseVdt02q1eOKJJ7BixQr06tUL33zzDa5fv47nnnsOAHDw4EGUlJTAy8vL5nnXrl2TusqvXLmC2bNn45tvvsH58+dx8+ZNXLt2Dfn5+TbP6dGjx121ta61a9cO//znPwGg2lNnt/vggw8QHh4OAHjrrbfwxBNP4Pr163Bzc0OTJk3QqFEjaDSaO67njTfewJAhQwAAkydPxujRo/H999+jb9++AIAJEybYXD/y3nvvYf78+XjmmWcAAH5+fjhy5AiWLl1q0x1cl69ZmaCgILz77rsAgPbt2+OTTz7B999/j0GDBt3x9dVqNTw9PQEADz30kHS66cqVK/j444/xww8/ICwsDACg0+mwZ88eLF26FOHh4cjPz0dwcLD0c1S+K7uunDp1CjNnzsRPP/2ECxcuSF3v+fn56Ny5MwYNGoQvvvgC/fr1g8FgQEZGBpKSkgAAhw4dghBCOs1Sxmw22/z+ODs7IygoyKamsLAQcXFx+OGHH/Df//4XFosFV69elX6HcnNz4ePjY/Nz1atXL5t1HDx4ECdPnqxwTcn169el31UA6NKlC5ydnW1qMjMzMWvWLGRlZeGPP/6w2e6AgICav4GAzbapVCpoNBrp9FJubi6CgoLg6upa5XbUJ7fvR61WK21rbdbh7e0tXQZQft5//vMfafqFF17AxIkTsWTJEri4uOCLL77A3/72N6jVagDA0aNHMXHiRJvX6Nu3LxYuXFhtOw4ePIiff/4ZH3zwgTTPYrHg+vXruHr1Kp577jksWLAAOp0OQ4cOxfDhwzFixAg0aqTMaKDMVtUDarUaaWlp2LdvH3bs2IHFixfj7bffxv79+yut/+mnn/C3v/0Ns2fPxpAhQ+Dh4YEvv/wS8+fPt6l78MEH66R9L7/8MqKiovCvf/0LK1euRGRkJB544AEAgNVqhVartTkPX6bsYDN9+nR89913+Oijj9CuXTu4ubnhr3/9a4XrQuqqvXWltgGq/AeMVqsFcOuA07p161qvx9vbG8Ctg0n5eWUffr///jvOnj2LCRMm2Fz/c/PmzRp91XptXrMm6wBq9yF9uyNHjuD69esVQk9paSmCg4MBAP/v//0/PPvsszh06BAGDx6MiIgI9OnT565e93YjRoyAj48PPvvsM7Rq1QpWqxWdO3eWfpZfeOEFTJ48GYsXL8batWsRGBiIrl27Arj1u6JWq3Hw4EHp4FGmSZMm0v/d3NygUqlslo8fPx6///47FixYAF9fX7i4uCAsLEx6XSFEhefczmq1IiQkBF988UWFZeX/sLn99/DKlSsYPHgwBg8ejDVr1qBly5bIz8/HkCFDanVtV+PGjW2mVSqVFIAq2w5Rj7/xpaptdXK6dcln+W2ramBE+XWoVKpq3z/g1s+o1WrFt99+i549e2L37t34+OOPKzynvJr+/MyePVv6g6g8V1dX+Pj4IDc3F2lpadi5cyeio6Mxb9486PX6Cm1WAgaWu6BSqdC3b1/07dsXcXFx8PX1xcaNG+Hs7AyLxWJTu3fvXvj6+uLtt9+W5p05c6ZGr1PZ+u5k+PDhePDBB5GUlIRt27YhPT1dWta9e3cYjUY0atSoyr9od+/ejfHjx+Ppp58GAJSUlNjVYyGX8h/cd/MBA6BWIz0qW8/t88rWW/bvZ599ht69e9us5/aDY129Zk3Wcftz7Hkfyyt7/rfffouHH37YZlnZxcrDhg3DmTNn8O2332Lnzp147LHHEBMTU+Gi8doqKirC0aNHsXTpUvTr1w8AsGfPHpuaiIgI/M///A+2b9+OtWvXIioqSloWHBwMi8WCwsJC6fk1tXv3bixZsgTDhw8HAJw9exYXLlyQlnfs2BH5+fn473//KwXNn3/+2WYd3bt3x7p166SL42vq2LFjuHDhAj788EP4+PgAAA4cOGBTU9YjY+9ny+06duyIL774AmazWdqvt7+WIygLiAUFBVLgrquLit3c3PDMM8/giy++wMmTJ9GhQweEhIRIyzt16oQ9e/Zg7Nix0rx9+/ahU6dO0nTjxo0r7Mvu3bsjNzcX7dq1q/a1n3rqKTz11FOIiYlBx44d8csvv6B79+51sm11iaOEamn//v2Ij4/HgQMHkJ+fjw0bNuD3339Hp06d0KZNG2RnZyM3NxcXLlzAjRs30K5dO+Tn5+PLL7/EqVOnsGjRImzcuLFGr9WmTRvs378fp0+ftunSro5arcb48eMxY8YMtGvXTuqSB4DHH38cYWFhiIiIwHfffYfTp09j3759eOedd6QPmnbt2mHDhg3IysrC4cOH8fzzz8s6VLM2yn/AlKnNB0xtAmNNeHt74+GHH0ZeXh7atWtn8/Dz86vz16utmryPlR38ykbM5OfnV9i+soNo2frHjx+PNWvWYMGCBRVGoNyNspE1y5Ytw8mTJ/HDDz9g2rRpNjUPPvggRo4ciZkzZ+Lo0aN4/vnnpWUdOnTACy+8gLFjx2LDhg0wGAz4+eefMXfuXGzdurXa127Xrh1Wr16No0ePYv/+/XjhhRfg5uYmLR80aBDatm2LcePGITs7G3v37pX+oCkLni+88AJatGiBkSNHYvfu3TAYDNDr9Zg8eTJ+++23Kl+7devWcHZ2xuLFi5GXl4ctW7ZUuLeKr68vVCoVvvnmG/z+++8oKSmp2Zt6m7LPhokTJ+Lo0aNSz2z57XAEbm5uCA0NxYcffogjR44gPT0d77zzTp2t/4UXXsC3336LFStWYMyYMTbLpk+fjuTkZHz66ac4ceIEPv74Y2zYsAFvvPGGVNOmTRt8//33MBqNuHjxIgAgLi4Oq1atwqxZs/Drr7/i6NGjWLdundTu5ORkLF++HDk5OcjLy8Pq1avh5uYGX1/fOtuuusTAUkvu7u5IT0/H8OHD0aFDB7zzzjuYP38+hg0bhldeeQX+/v7o0aMHWrZsib1792LkyJGYOnUqXn31VXTr1g379u3DzJkza/Rab7zxBtRqNQICAqSu3ZqYMGECSktL8dJLL9nMV6lU2Lp1K/r374+XXnoJHTp0wN/+9jecPn1a+kvvX//6F5o3b44+ffpgxIgRGDJkiCITd3Xq6gOmTZs2MBgMyMrKwoULF2A2m+usjbNmzUJCQgIWLlyI48eP45dffsHKlSsrdAfLqSbvY2UHv6ZNm+KNN97A1KlT8fnnn+PUqVPIzMxEYmIiPv/8cwC3PlA3b96MkydP4tdff8U333xj81fj3XJycsKXX36JgwcPonPnzpg6dSrmzZtXoe6FF17A4cOH0a9fvwqnAVeuXImxY8fi9ddfh7+/P5566ins37/fJnRVZsWKFbh48SKCg4MRFRWF1157DQ899JC0XK1WY9OmTSgpKUHPnj3x8ssvS+9r2fUgDzzwANLT09G6dWs888wz6NSpE1566SVcu3at2h6Xli1bIjk5GevXr0dAQAA+/PDDCr1WDz/8MGbPno233noL3t7eePXVV6t/M6vg7u6Or7/+GllZWejWrRvefvttxMXF2WyHo1ixYgVu3LiBHj16YPLkyXj//ffrbN1/+ctf4OnpidzcXJvQDNzqBVy4cCHmzZuHwMBALF26FCtXrsSAAQOkmvnz5yMtLQ0+Pj5SD9CQIUPwzTffIC0tDT179kRoaCg+/vhjKZA0a9YMn332Gfr27YugoCB8//33+Prrrytc36gY8l3vS/fanj17RKNGjYTRaJS7KfdFZaOpykbOuLm5iW7duokdO3ZUelV/+ZESmZmZAoAwGAxCCCGuX78unn32WdGsWbM7DmsuP4KgsnWvXLlSeHh42LTxiy++EN26dRPOzs6iefPmon///mLDhg133N7avmZlo4Ruf99GjhwpDU0W4s7voxBCzJkzR2g0GqFSqWyGNS9cuFD4+/uLxo0bi5YtW4ohQ4YIvV4vhLg11L9Tp07Czc1NeHp6ipEjR4q8vLw7bruj2rNnjwAgTp48KXdT7sqaNWtE48aNpRF1RHVBJUQ9vjqKKmU2m3H27FlMnDgRWq220gv2iEh+GzduRJMmTdC+fXucPHkSkydPRvPmzStcZ6N0q1atgk6nw8MPP4zDhw/j1VdfxYABA7BmzRq5m0YOhBfd1kOTJk2q8oNgzJgxCA0NxYQJE9CtWzebuyESkbJcvnwZ//jHP3D27Fm0aNECjz/+eIWRg/WB0WhEXFwcjEYjtFotnnvuOZuhtER1gT0s9VBhYSFMJlOly9zd3W3Ok1P9FR8fj/j4+EqX9evXD9u2bbvPLSIikg8DC5FC/fHHH/jjjz8qXebm5lZhqDARkSNjYCEiIiLF47BmIiIiUjwGFiIiIlI8BhYiIiJSPAYWIiIiUjwGFiIiIlI8BhYiIiJSPAYWIiIiUrz/DwROGeDK/AYnAAAAAElFTkSuQmCC",
      "text/plain": [
       "<Figure size 640x480 with 1 Axes>"
      ]
     },
     "metadata": {},
     "output_type": "display_data"
    }
   ],
   "source": [
    "sns.boxplot(movies_df);"
   ]
  },
  {
   "cell_type": "markdown",
   "metadata": {},
   "source": [
    "### Outlier Commentary\n",
    "\n",
    "The boxplot reveals clear outliers across multiple numeric columns:\n",
    "\n",
    "- **runtime_minutes**: Several films significantly exceed the typical range, likely due to special formats (e.g director’s cuts, miniseries logged as films) or data entry errors. These extreme values are sparse but can skew distribution-based analyses like mean runtime or standard deviation.\n",
    "\n",
    "- **numvotes**: This variable exhibits extreme right-skewness, with a small subset of movies receiving disproportionately high votes - likely blockbusters or cult classics. These outliers are *genuine signals*, not noise, and provide valuable insight into popularity dynamics. However, log-transforming or binning may be helpful if modeling or clustering is later considered.\n",
    "\n",
    "- **averagerating** and **start_year**: Outliers here are less severe. A few ratings may hit extreme values (e.g unusually low or high), but IMDb caps the rating scale, so distortion is limited. For start_year, occasional anomalies (e.g pre-1900 entries or far-future entries) may be metadata quirks or special historical/fictional content.\n",
    "\n",
    "**Takeaway**: Most outliers are *contextual* - they often carry meaning rather than being simple anomalies. Thus, should not be dropped blindly. Instead, they offer rich angles for narrative exploration, especially when highlighting patterns in niche genres, cult films, or legacy cinema."
   ]
  },
  {
   "cell_type": "markdown",
   "metadata": {},
   "source": [
    "### HANDLING DUPLICATES \n",
    "#### 1. TMDB MOVIES"
   ]
  },
  {
   "cell_type": "code",
   "execution_count": 1124,
>>>>>>> c2fd2596b9e978fac457a1f007fe7fb42a731927
   "metadata": {},
   "outputs": [
    {
     "name": "stdout",
     "output_type": "stream",
     "text": [
      "Duplicates before imputation: 1020\n",
      "\n",
      "Duplicates after imputation: 0\n"
     ]
    }
   ],
   "source": [
    "print(\"Duplicates before imputation:\", tmdb_df.duplicated().sum())\n",
    "\n",
    "tmdb_df = tmdb_df.drop_duplicates()\n",
    "print(\"\\nDuplicates after imputation:\", tmdb_df.duplicated().sum())"
   ]
  },
  {
   "cell_type": "markdown",
   "metadata": {},
   "source": [
<<<<<<< HEAD
=======
    "### HANDLING CATEGORICAL VARIABLES\n",
    "\n",
>>>>>>> c2fd2596b9e978fac457a1f007fe7fb42a731927
    "#### BUDGET DATASET"
   ]
  },
  {
   "cell_type": "code",
<<<<<<< HEAD
   "execution_count": 114,
=======
   "execution_count": 1125,
   "metadata": {},
   "outputs": [
    {
     "name": "stdout",
     "output_type": "stream",
     "text": [
      "<class 'pandas.core.frame.DataFrame'>\n",
      "RangeIndex: 5782 entries, 0 to 5781\n",
      "Data columns (total 6 columns):\n",
      " #   Column             Non-Null Count  Dtype \n",
      "---  ------             --------------  ----- \n",
      " 0   id                 5782 non-null   int64 \n",
      " 1   release_date       5782 non-null   object\n",
      " 2   movie              5782 non-null   object\n",
      " 3   production_budget  5782 non-null   object\n",
      " 4   domestic_gross     5782 non-null   object\n",
      " 5   worldwide_gross    5782 non-null   object\n",
      "dtypes: int64(1), object(5)\n",
      "memory usage: 271.2+ KB\n"
     ]
    }
   ],
   "source": [
    "budget_df.info()"
   ]
  },
  {
   "cell_type": "code",
   "execution_count": 1126,
>>>>>>> c2fd2596b9e978fac457a1f007fe7fb42a731927
   "metadata": {},
   "outputs": [
    {
     "data": {
      "text/html": [
       "<div>\n",
       "<style scoped>\n",
       "    .dataframe tbody tr th:only-of-type {\n",
       "        vertical-align: middle;\n",
       "    }\n",
       "\n",
       "    .dataframe tbody tr th {\n",
       "        vertical-align: top;\n",
       "    }\n",
       "\n",
       "    .dataframe thead th {\n",
       "        text-align: right;\n",
       "    }\n",
       "</style>\n",
       "<table border=\"1\" class=\"dataframe\">\n",
       "  <thead>\n",
       "    <tr style=\"text-align: right;\">\n",
       "      <th></th>\n",
       "      <th>id</th>\n",
       "      <th>release_date</th>\n",
       "      <th>movie</th>\n",
       "      <th>production_budget</th>\n",
       "      <th>domestic_gross</th>\n",
       "      <th>worldwide_gross</th>\n",
       "    </tr>\n",
       "  </thead>\n",
       "  <tbody>\n",
       "    <tr>\n",
       "      <th>0</th>\n",
       "      <td>1</td>\n",
       "      <td>Dec 18, 2009</td>\n",
       "      <td>Avatar</td>\n",
       "      <td>425000000.0</td>\n",
       "      <td>760507625.0</td>\n",
       "      <td>2.776345e+09</td>\n",
       "    </tr>\n",
       "    <tr>\n",
       "      <th>1</th>\n",
       "      <td>2</td>\n",
       "      <td>May 20, 2011</td>\n",
       "      <td>Pirates of the Caribbean: On Stranger Tides</td>\n",
       "      <td>410600000.0</td>\n",
       "      <td>241063875.0</td>\n",
       "      <td>1.045664e+09</td>\n",
       "    </tr>\n",
       "    <tr>\n",
       "      <th>2</th>\n",
       "      <td>3</td>\n",
       "      <td>Jun 7, 2019</td>\n",
       "      <td>Dark Phoenix</td>\n",
       "      <td>350000000.0</td>\n",
       "      <td>42762350.0</td>\n",
       "      <td>1.497624e+08</td>\n",
       "    </tr>\n",
       "    <tr>\n",
       "      <th>3</th>\n",
       "      <td>4</td>\n",
       "      <td>May 1, 2015</td>\n",
       "      <td>Avengers: Age of Ultron</td>\n",
       "      <td>330600000.0</td>\n",
       "      <td>459005868.0</td>\n",
       "      <td>1.403014e+09</td>\n",
       "    </tr>\n",
       "    <tr>\n",
       "      <th>4</th>\n",
       "      <td>5</td>\n",
       "      <td>Dec 15, 2017</td>\n",
       "      <td>Star Wars Ep. VIII: The Last Jedi</td>\n",
       "      <td>317000000.0</td>\n",
       "      <td>620181382.0</td>\n",
       "      <td>1.316722e+09</td>\n",
       "    </tr>\n",
       "  </tbody>\n",
       "</table>\n",
       "</div>"
      ],
      "text/plain": [
       "   id  release_date                                        movie  \\\n",
       "0   1  Dec 18, 2009                                       Avatar   \n",
       "1   2  May 20, 2011  Pirates of the Caribbean: On Stranger Tides   \n",
       "2   3   Jun 7, 2019                                 Dark Phoenix   \n",
       "3   4   May 1, 2015                      Avengers: Age of Ultron   \n",
       "4   5  Dec 15, 2017            Star Wars Ep. VIII: The Last Jedi   \n",
       "\n",
       "   production_budget  domestic_gross  worldwide_gross  \n",
       "0        425000000.0     760507625.0     2.776345e+09  \n",
       "1        410600000.0     241063875.0     1.045664e+09  \n",
       "2        350000000.0      42762350.0     1.497624e+08  \n",
       "3        330600000.0     459005868.0     1.403014e+09  \n",
       "4        317000000.0     620181382.0     1.316722e+09  "
      ]
     },
<<<<<<< HEAD
     "execution_count": 114,
=======
     "execution_count": 1126,
>>>>>>> c2fd2596b9e978fac457a1f007fe7fb42a731927
     "metadata": {},
     "output_type": "execute_result"
    }
   ],
   "source": [
    "cols_to_clean = ['production_budget', 'domestic_gross', 'worldwide_gross']\n",
    "\n",
    "for col in cols_to_clean:\n",
    "    budget_df[col] = (\n",
    "        budget_df[col]\n",
    "        .str.replace(r'[\\$,]', '', regex = True) \n",
    "        .astype(float)                          \n",
    "    )\n",
    "\n",
    "budget_df.head()"
   ]
  },
  {
<<<<<<< HEAD
=======
   "cell_type": "code",
   "execution_count": 1127,
   "metadata": {},
   "outputs": [
    {
     "name": "stdout",
     "output_type": "stream",
     "text": [
      "<class 'pandas.core.frame.DataFrame'>\n",
      "RangeIndex: 5782 entries, 0 to 5781\n",
      "Data columns (total 6 columns):\n",
      " #   Column             Non-Null Count  Dtype  \n",
      "---  ------             --------------  -----  \n",
      " 0   id                 5782 non-null   int64  \n",
      " 1   release_date       5782 non-null   object \n",
      " 2   movie              5782 non-null   object \n",
      " 3   production_budget  5782 non-null   float64\n",
      " 4   domestic_gross     5782 non-null   float64\n",
      " 5   worldwide_gross    5782 non-null   float64\n",
      "dtypes: float64(3), int64(1), object(2)\n",
      "memory usage: 271.2+ KB\n"
     ]
    }
   ],
   "source": [
    "budget_df.info()"
   ]
  },
  {
>>>>>>> c2fd2596b9e978fac457a1f007fe7fb42a731927
   "cell_type": "markdown",
   "metadata": {},
   "source": [
    "### GROSS DATASET"
   ]
  },
  {
<<<<<<< HEAD
   "cell_type": "markdown",
   "metadata": {},
   "source": [
    "## IM.DB DATASET"
   ]
  },
  {
   "cell_type": "code",
   "execution_count": 115,
   "metadata": {},
   "outputs": [],
   "source": [
    "conn = sqlite3.connect(r'..\\Raw_Data\\im.db') \n",
    "cur = conn.cursor() "
   ]
  },
  {
   "cell_type": "code",
   "execution_count": 116,
   "metadata": {},
   "outputs": [
    {
     "data": {
      "text/html": [
       "<div>\n",
       "<style scoped>\n",
       "    .dataframe tbody tr th:only-of-type {\n",
       "        vertical-align: middle;\n",
       "    }\n",
       "\n",
       "    .dataframe tbody tr th {\n",
       "        vertical-align: top;\n",
       "    }\n",
       "\n",
       "    .dataframe thead th {\n",
       "        text-align: right;\n",
       "    }\n",
       "</style>\n",
       "<table border=\"1\" class=\"dataframe\">\n",
       "  <thead>\n",
       "    <tr style=\"text-align: right;\">\n",
       "      <th></th>\n",
       "      <th>movie_id</th>\n",
       "      <th>primary_title</th>\n",
       "      <th>original_title</th>\n",
       "      <th>start_year</th>\n",
       "      <th>runtime_minutes</th>\n",
       "      <th>genres</th>\n",
       "    </tr>\n",
       "  </thead>\n",
       "  <tbody>\n",
       "    <tr>\n",
       "      <th>0</th>\n",
       "      <td>tt0063540</td>\n",
       "      <td>Sunghursh</td>\n",
       "      <td>Sunghursh</td>\n",
       "      <td>2013</td>\n",
       "      <td>175.0</td>\n",
       "      <td>Action,Crime,Drama</td>\n",
       "    </tr>\n",
       "    <tr>\n",
       "      <th>1</th>\n",
       "      <td>tt0066787</td>\n",
       "      <td>One Day Before the Rainy Season</td>\n",
       "      <td>Ashad Ka Ek Din</td>\n",
       "      <td>2019</td>\n",
       "      <td>114.0</td>\n",
       "      <td>Biography,Drama</td>\n",
       "    </tr>\n",
       "    <tr>\n",
       "      <th>2</th>\n",
       "      <td>tt0069049</td>\n",
       "      <td>The Other Side of the Wind</td>\n",
       "      <td>The Other Side of the Wind</td>\n",
       "      <td>2018</td>\n",
       "      <td>122.0</td>\n",
       "      <td>Drama</td>\n",
       "    </tr>\n",
       "    <tr>\n",
       "      <th>3</th>\n",
       "      <td>tt0069204</td>\n",
       "      <td>Sabse Bada Sukh</td>\n",
       "      <td>Sabse Bada Sukh</td>\n",
       "      <td>2018</td>\n",
       "      <td>NaN</td>\n",
       "      <td>Comedy,Drama</td>\n",
       "    </tr>\n",
       "    <tr>\n",
       "      <th>4</th>\n",
       "      <td>tt0100275</td>\n",
       "      <td>The Wandering Soap Opera</td>\n",
       "      <td>La Telenovela Errante</td>\n",
       "      <td>2017</td>\n",
       "      <td>80.0</td>\n",
       "      <td>Comedy,Drama,Fantasy</td>\n",
       "    </tr>\n",
       "    <tr>\n",
       "      <th>...</th>\n",
       "      <td>...</td>\n",
       "      <td>...</td>\n",
       "      <td>...</td>\n",
       "      <td>...</td>\n",
       "      <td>...</td>\n",
       "      <td>...</td>\n",
       "    </tr>\n",
       "    <tr>\n",
       "      <th>146139</th>\n",
       "      <td>tt9916538</td>\n",
       "      <td>Kuambil Lagi Hatiku</td>\n",
       "      <td>Kuambil Lagi Hatiku</td>\n",
       "      <td>2019</td>\n",
       "      <td>123.0</td>\n",
       "      <td>Drama</td>\n",
       "    </tr>\n",
       "    <tr>\n",
       "      <th>146140</th>\n",
       "      <td>tt9916622</td>\n",
       "      <td>Rodolpho Teóphilo - O Legado de um Pioneiro</td>\n",
       "      <td>Rodolpho Teóphilo - O Legado de um Pioneiro</td>\n",
       "      <td>2015</td>\n",
       "      <td>NaN</td>\n",
       "      <td>Documentary</td>\n",
       "    </tr>\n",
       "    <tr>\n",
       "      <th>146141</th>\n",
       "      <td>tt9916706</td>\n",
       "      <td>Dankyavar Danka</td>\n",
       "      <td>Dankyavar Danka</td>\n",
       "      <td>2013</td>\n",
       "      <td>NaN</td>\n",
       "      <td>Comedy</td>\n",
       "    </tr>\n",
       "    <tr>\n",
       "      <th>146142</th>\n",
       "      <td>tt9916730</td>\n",
       "      <td>6 Gunn</td>\n",
       "      <td>6 Gunn</td>\n",
       "      <td>2017</td>\n",
       "      <td>116.0</td>\n",
       "      <td>None</td>\n",
       "    </tr>\n",
       "    <tr>\n",
       "      <th>146143</th>\n",
       "      <td>tt9916754</td>\n",
       "      <td>Chico Albuquerque - Revelações</td>\n",
       "      <td>Chico Albuquerque - Revelações</td>\n",
       "      <td>2013</td>\n",
       "      <td>NaN</td>\n",
       "      <td>Documentary</td>\n",
       "    </tr>\n",
       "  </tbody>\n",
       "</table>\n",
       "<p>146144 rows × 6 columns</p>\n",
       "</div>"
      ],
      "text/plain": [
       "         movie_id                                primary_title  \\\n",
       "0       tt0063540                                    Sunghursh   \n",
       "1       tt0066787              One Day Before the Rainy Season   \n",
       "2       tt0069049                   The Other Side of the Wind   \n",
       "3       tt0069204                              Sabse Bada Sukh   \n",
       "4       tt0100275                     The Wandering Soap Opera   \n",
       "...           ...                                          ...   \n",
       "146139  tt9916538                          Kuambil Lagi Hatiku   \n",
       "146140  tt9916622  Rodolpho Teóphilo - O Legado de um Pioneiro   \n",
       "146141  tt9916706                              Dankyavar Danka   \n",
       "146142  tt9916730                                       6 Gunn   \n",
       "146143  tt9916754               Chico Albuquerque - Revelações   \n",
       "\n",
       "                                     original_title  start_year  \\\n",
       "0                                         Sunghursh        2013   \n",
       "1                                   Ashad Ka Ek Din        2019   \n",
       "2                        The Other Side of the Wind        2018   \n",
       "3                                   Sabse Bada Sukh        2018   \n",
       "4                             La Telenovela Errante        2017   \n",
       "...                                             ...         ...   \n",
       "146139                          Kuambil Lagi Hatiku        2019   \n",
       "146140  Rodolpho Teóphilo - O Legado de um Pioneiro        2015   \n",
       "146141                              Dankyavar Danka        2013   \n",
       "146142                                       6 Gunn        2017   \n",
       "146143               Chico Albuquerque - Revelações        2013   \n",
       "\n",
       "        runtime_minutes                genres  \n",
       "0                 175.0    Action,Crime,Drama  \n",
       "1                 114.0       Biography,Drama  \n",
       "2                 122.0                 Drama  \n",
       "3                   NaN          Comedy,Drama  \n",
       "4                  80.0  Comedy,Drama,Fantasy  \n",
       "...                 ...                   ...  \n",
       "146139            123.0                 Drama  \n",
       "146140              NaN           Documentary  \n",
       "146141              NaN                Comedy  \n",
       "146142            116.0                  None  \n",
       "146143              NaN           Documentary  \n",
       "\n",
       "[146144 rows x 6 columns]"
      ]
     },
     "execution_count": 116,
     "metadata": {},
     "output_type": "execute_result"
    }
   ],
   "source": [
    "moviebasics_df = pd.read_sql(\"\"\"SELECT * FROM movie_basics\"\"\", conn)\n",
    "moviebasics_df "
   ]
  },
  {
   "cell_type": "code",
   "execution_count": 117,
   "metadata": {},
   "outputs": [
    {
     "data": {
      "text/plain": [
       "(146144, 6)"
      ]
     },
     "execution_count": 117,
     "metadata": {},
     "output_type": "execute_result"
    }
   ],
   "source": [
    "# Get the number of rows and columns \n",
    "moviebasics_df.shape"
   ]
  },
  {
   "cell_type": "code",
   "execution_count": 118,
   "metadata": {},
   "outputs": [
    {
     "data": {
      "text/plain": [
       "movie_id            object\n",
       "primary_title       object\n",
       "original_title      object\n",
       "start_year           int64\n",
       "runtime_minutes    float64\n",
       "genres              object\n",
       "dtype: object"
      ]
     },
     "execution_count": 118,
     "metadata": {},
     "output_type": "execute_result"
    }
   ],
   "source": [
    "# Get the data types\n",
    "moviebasics_df.dtypes"
   ]
  },
  {
   "cell_type": "code",
   "execution_count": 119,
   "metadata": {},
   "outputs": [
    {
     "data": {
      "text/html": [
       "<div>\n",
       "<style scoped>\n",
       "    .dataframe tbody tr th:only-of-type {\n",
       "        vertical-align: middle;\n",
       "    }\n",
       "\n",
       "    .dataframe tbody tr th {\n",
       "        vertical-align: top;\n",
       "    }\n",
       "\n",
       "    .dataframe thead th {\n",
       "        text-align: right;\n",
       "    }\n",
       "</style>\n",
       "<table border=\"1\" class=\"dataframe\">\n",
       "  <thead>\n",
       "    <tr style=\"text-align: right;\">\n",
       "      <th></th>\n",
       "      <th>count</th>\n",
       "      <th>unique</th>\n",
       "      <th>top</th>\n",
       "      <th>freq</th>\n",
       "    </tr>\n",
       "  </thead>\n",
       "  <tbody>\n",
       "    <tr>\n",
       "      <th>movie_id</th>\n",
       "      <td>146144</td>\n",
       "      <td>146144</td>\n",
       "      <td>tt3652200</td>\n",
       "      <td>1</td>\n",
       "    </tr>\n",
       "    <tr>\n",
       "      <th>primary_title</th>\n",
       "      <td>146144</td>\n",
       "      <td>136071</td>\n",
       "      <td>Home</td>\n",
       "      <td>24</td>\n",
       "    </tr>\n",
       "    <tr>\n",
       "      <th>original_title</th>\n",
       "      <td>146123</td>\n",
       "      <td>137773</td>\n",
       "      <td>Broken</td>\n",
       "      <td>19</td>\n",
       "    </tr>\n",
       "    <tr>\n",
       "      <th>genres</th>\n",
       "      <td>140736</td>\n",
       "      <td>1085</td>\n",
       "      <td>Documentary</td>\n",
       "      <td>32185</td>\n",
       "    </tr>\n",
       "  </tbody>\n",
       "</table>\n",
       "</div>"
      ],
      "text/plain": [
       "                 count  unique          top   freq\n",
       "movie_id        146144  146144    tt3652200      1\n",
       "primary_title   146144  136071         Home     24\n",
       "original_title  146123  137773       Broken     19\n",
       "genres          140736    1085  Documentary  32185"
      ]
     },
     "execution_count": 119,
     "metadata": {},
     "output_type": "execute_result"
    }
   ],
   "source": [
    "# Categorical Summary \n",
    "moviebasics_df.describe(include = 'O').T"
   ]
  },
  {
   "cell_type": "code",
   "execution_count": 120,
   "metadata": {},
   "outputs": [
    {
     "data": {
      "text/html": [
       "<div>\n",
       "<style scoped>\n",
       "    .dataframe tbody tr th:only-of-type {\n",
       "        vertical-align: middle;\n",
       "    }\n",
       "\n",
       "    .dataframe tbody tr th {\n",
       "        vertical-align: top;\n",
       "    }\n",
       "\n",
       "    .dataframe thead th {\n",
       "        text-align: right;\n",
       "    }\n",
       "</style>\n",
       "<table border=\"1\" class=\"dataframe\">\n",
       "  <thead>\n",
       "    <tr style=\"text-align: right;\">\n",
       "      <th></th>\n",
       "      <th>movie_id</th>\n",
       "      <th>primary_title</th>\n",
       "      <th>original_title</th>\n",
       "      <th>start_year</th>\n",
       "      <th>runtime_minutes</th>\n",
       "      <th>genres</th>\n",
       "    </tr>\n",
       "  </thead>\n",
       "  <tbody>\n",
       "    <tr>\n",
       "      <th>39095</th>\n",
       "      <td>tt2397619</td>\n",
       "      <td>Woody Allen: A Documentary</td>\n",
       "      <td>None</td>\n",
       "      <td>2012</td>\n",
       "      <td>195.0</td>\n",
       "      <td>None</td>\n",
       "    </tr>\n",
       "    <tr>\n",
       "      <th>58624</th>\n",
       "      <td>tt3414266</td>\n",
       "      <td>The Outer Loop</td>\n",
       "      <td>None</td>\n",
       "      <td>2013</td>\n",
       "      <td>78.0</td>\n",
       "      <td>None</td>\n",
       "    </tr>\n",
       "    <tr>\n",
       "      <th>62944</th>\n",
       "      <td>tt3616658</td>\n",
       "      <td>The Hangman</td>\n",
       "      <td>None</td>\n",
       "      <td>2017</td>\n",
       "      <td>NaN</td>\n",
       "      <td>None</td>\n",
       "    </tr>\n",
       "    <tr>\n",
       "      <th>79274</th>\n",
       "      <td>tt4548042</td>\n",
       "      <td>Urban Legend: The Blind Side Strangler</td>\n",
       "      <td>None</td>\n",
       "      <td>2016</td>\n",
       "      <td>NaN</td>\n",
       "      <td>None</td>\n",
       "    </tr>\n",
       "    <tr>\n",
       "      <th>80116</th>\n",
       "      <td>tt4599436</td>\n",
       "      <td>Please Don't Eat the Pansies</td>\n",
       "      <td>None</td>\n",
       "      <td>2016</td>\n",
       "      <td>NaN</td>\n",
       "      <td>None</td>\n",
       "    </tr>\n",
       "    <tr>\n",
       "      <th>82058</th>\n",
       "      <td>tt4715728</td>\n",
       "      <td>Regen</td>\n",
       "      <td>None</td>\n",
       "      <td>2016</td>\n",
       "      <td>NaN</td>\n",
       "      <td>None</td>\n",
       "    </tr>\n",
       "    <tr>\n",
       "      <th>82308</th>\n",
       "      <td>tt4732998</td>\n",
       "      <td>Limbo</td>\n",
       "      <td>None</td>\n",
       "      <td>2017</td>\n",
       "      <td>NaN</td>\n",
       "      <td>None</td>\n",
       "    </tr>\n",
       "    <tr>\n",
       "      <th>85353</th>\n",
       "      <td>tt4940426</td>\n",
       "      <td>OldZilla</td>\n",
       "      <td>None</td>\n",
       "      <td>2018</td>\n",
       "      <td>NaN</td>\n",
       "      <td>None</td>\n",
       "    </tr>\n",
       "    <tr>\n",
       "      <th>104040</th>\n",
       "      <td>tt6092540</td>\n",
       "      <td>Rangreza</td>\n",
       "      <td>None</td>\n",
       "      <td>2017</td>\n",
       "      <td>NaN</td>\n",
       "      <td>None</td>\n",
       "    </tr>\n",
       "    <tr>\n",
       "      <th>104418</th>\n",
       "      <td>tt6107024</td>\n",
       "      <td>The Cage</td>\n",
       "      <td>None</td>\n",
       "      <td>2017</td>\n",
       "      <td>NaN</td>\n",
       "      <td>None</td>\n",
       "    </tr>\n",
       "    <tr>\n",
       "      <th>107378</th>\n",
       "      <td>tt6288348</td>\n",
       "      <td>Deadly Affection</td>\n",
       "      <td>None</td>\n",
       "      <td>2017</td>\n",
       "      <td>NaN</td>\n",
       "      <td>None</td>\n",
       "    </tr>\n",
       "    <tr>\n",
       "      <th>108971</th>\n",
       "      <td>tt6403090</td>\n",
       "      <td>What It Takes to Win</td>\n",
       "      <td>None</td>\n",
       "      <td>2017</td>\n",
       "      <td>NaN</td>\n",
       "      <td>None</td>\n",
       "    </tr>\n",
       "    <tr>\n",
       "      <th>108983</th>\n",
       "      <td>tt6404278</td>\n",
       "      <td>Over Nor Out</td>\n",
       "      <td>None</td>\n",
       "      <td>2018</td>\n",
       "      <td>NaN</td>\n",
       "      <td>None</td>\n",
       "    </tr>\n",
       "    <tr>\n",
       "      <th>111377</th>\n",
       "      <td>tt6509234</td>\n",
       "      <td>Samurai Cop 3</td>\n",
       "      <td>None</td>\n",
       "      <td>2019</td>\n",
       "      <td>NaN</td>\n",
       "      <td>None</td>\n",
       "    </tr>\n",
       "    <tr>\n",
       "      <th>111899</th>\n",
       "      <td>tt6543294</td>\n",
       "      <td>The Work</td>\n",
       "      <td>None</td>\n",
       "      <td>2017</td>\n",
       "      <td>NaN</td>\n",
       "      <td>None</td>\n",
       "    </tr>\n",
       "    <tr>\n",
       "      <th>112608</th>\n",
       "      <td>tt6603544</td>\n",
       "      <td>Utopians</td>\n",
       "      <td>None</td>\n",
       "      <td>2015</td>\n",
       "      <td>NaN</td>\n",
       "      <td>None</td>\n",
       "    </tr>\n",
       "    <tr>\n",
       "      <th>115131</th>\n",
       "      <td>tt6823030</td>\n",
       "      <td>Hilfe, ich hab meine Eltern geschrumpft</td>\n",
       "      <td>None</td>\n",
       "      <td>2018</td>\n",
       "      <td>NaN</td>\n",
       "      <td>Adventure</td>\n",
       "    </tr>\n",
       "    <tr>\n",
       "      <th>115934</th>\n",
       "      <td>tt6877572</td>\n",
       "      <td>X A 7</td>\n",
       "      <td>None</td>\n",
       "      <td>2020</td>\n",
       "      <td>NaN</td>\n",
       "      <td>None</td>\n",
       "    </tr>\n",
       "    <tr>\n",
       "      <th>115983</th>\n",
       "      <td>tt6882442</td>\n",
       "      <td>Hirugao: Love Affairs in the Afternoon</td>\n",
       "      <td>None</td>\n",
       "      <td>2017</td>\n",
       "      <td>125.0</td>\n",
       "      <td>Romance</td>\n",
       "    </tr>\n",
       "    <tr>\n",
       "      <th>116205</th>\n",
       "      <td>tt6900940</td>\n",
       "      <td>Hasan Minhaj: Homecoming King</td>\n",
       "      <td>None</td>\n",
       "      <td>2017</td>\n",
       "      <td>NaN</td>\n",
       "      <td>None</td>\n",
       "    </tr>\n",
       "    <tr>\n",
       "      <th>116350</th>\n",
       "      <td>tt6911842</td>\n",
       "      <td>Senioritus</td>\n",
       "      <td>None</td>\n",
       "      <td>2017</td>\n",
       "      <td>75.0</td>\n",
       "      <td>None</td>\n",
       "    </tr>\n",
       "  </tbody>\n",
       "</table>\n",
       "</div>"
      ],
      "text/plain": [
       "         movie_id                            primary_title original_title  \\\n",
       "39095   tt2397619               Woody Allen: A Documentary           None   \n",
       "58624   tt3414266                           The Outer Loop           None   \n",
       "62944   tt3616658                              The Hangman           None   \n",
       "79274   tt4548042   Urban Legend: The Blind Side Strangler           None   \n",
       "80116   tt4599436             Please Don't Eat the Pansies           None   \n",
       "82058   tt4715728                                    Regen           None   \n",
       "82308   tt4732998                                    Limbo           None   \n",
       "85353   tt4940426                                 OldZilla           None   \n",
       "104040  tt6092540                                 Rangreza           None   \n",
       "104418  tt6107024                                 The Cage           None   \n",
       "107378  tt6288348                         Deadly Affection           None   \n",
       "108971  tt6403090                     What It Takes to Win           None   \n",
       "108983  tt6404278                             Over Nor Out           None   \n",
       "111377  tt6509234                            Samurai Cop 3           None   \n",
       "111899  tt6543294                                 The Work           None   \n",
       "112608  tt6603544                                 Utopians           None   \n",
       "115131  tt6823030  Hilfe, ich hab meine Eltern geschrumpft           None   \n",
       "115934  tt6877572                                    X A 7           None   \n",
       "115983  tt6882442   Hirugao: Love Affairs in the Afternoon           None   \n",
       "116205  tt6900940            Hasan Minhaj: Homecoming King           None   \n",
       "116350  tt6911842                               Senioritus           None   \n",
       "\n",
       "        start_year  runtime_minutes     genres  \n",
       "39095         2012            195.0       None  \n",
       "58624         2013             78.0       None  \n",
       "62944         2017              NaN       None  \n",
       "79274         2016              NaN       None  \n",
       "80116         2016              NaN       None  \n",
       "82058         2016              NaN       None  \n",
       "82308         2017              NaN       None  \n",
       "85353         2018              NaN       None  \n",
       "104040        2017              NaN       None  \n",
       "104418        2017              NaN       None  \n",
       "107378        2017              NaN       None  \n",
       "108971        2017              NaN       None  \n",
       "108983        2018              NaN       None  \n",
       "111377        2019              NaN       None  \n",
       "111899        2017              NaN       None  \n",
       "112608        2015              NaN       None  \n",
       "115131        2018              NaN  Adventure  \n",
       "115934        2020              NaN       None  \n",
       "115983        2017            125.0    Romance  \n",
       "116205        2017              NaN       None  \n",
       "116350        2017             75.0       None  "
      ]
     },
     "execution_count": 120,
     "metadata": {},
     "output_type": "execute_result"
    }
   ],
   "source": [
    "# Viewing null values in 'original_title'\n",
    "moviebasics_df.loc[moviebasics_df['original_title'].isna()]"
   ]
  },
  {
   "cell_type": "code",
   "execution_count": 121,
   "metadata": {},
   "outputs": [
    {
     "data": {
      "text/html": [
       "<div>\n",
       "<style scoped>\n",
       "    .dataframe tbody tr th:only-of-type {\n",
       "        vertical-align: middle;\n",
       "    }\n",
       "\n",
       "    .dataframe tbody tr th {\n",
       "        vertical-align: top;\n",
       "    }\n",
       "\n",
       "    .dataframe thead th {\n",
       "        text-align: right;\n",
       "    }\n",
       "</style>\n",
       "<table border=\"1\" class=\"dataframe\">\n",
       "  <thead>\n",
       "    <tr style=\"text-align: right;\">\n",
       "      <th></th>\n",
       "      <th>movie_id</th>\n",
       "      <th>primary_title</th>\n",
       "      <th>original_title</th>\n",
       "      <th>start_year</th>\n",
       "      <th>runtime_minutes</th>\n",
       "      <th>genres</th>\n",
       "    </tr>\n",
       "  </thead>\n",
       "  <tbody>\n",
       "    <tr>\n",
       "      <th>3</th>\n",
       "      <td>tt0069204</td>\n",
       "      <td>Sabse Bada Sukh</td>\n",
       "      <td>Sabse Bada Sukh</td>\n",
       "      <td>2018</td>\n",
       "      <td>NaN</td>\n",
       "      <td>Comedy,Drama</td>\n",
       "    </tr>\n",
       "    <tr>\n",
       "      <th>6</th>\n",
       "      <td>tt0112502</td>\n",
       "      <td>Bigfoot</td>\n",
       "      <td>Bigfoot</td>\n",
       "      <td>2017</td>\n",
       "      <td>NaN</td>\n",
       "      <td>Horror,Thriller</td>\n",
       "    </tr>\n",
       "    <tr>\n",
       "      <th>8</th>\n",
       "      <td>tt0139613</td>\n",
       "      <td>O Silêncio</td>\n",
       "      <td>O Silêncio</td>\n",
       "      <td>2012</td>\n",
       "      <td>NaN</td>\n",
       "      <td>Documentary,History</td>\n",
       "    </tr>\n",
       "    <tr>\n",
       "      <th>16</th>\n",
       "      <td>tt0187902</td>\n",
       "      <td>How Huang Fei-hong Rescued the Orphan from the...</td>\n",
       "      <td>How Huang Fei-hong Rescued the Orphan from the...</td>\n",
       "      <td>2011</td>\n",
       "      <td>NaN</td>\n",
       "      <td>None</td>\n",
       "    </tr>\n",
       "    <tr>\n",
       "      <th>21</th>\n",
       "      <td>tt0250404</td>\n",
       "      <td>Godfather</td>\n",
       "      <td>Godfather</td>\n",
       "      <td>2012</td>\n",
       "      <td>NaN</td>\n",
       "      <td>Crime,Drama</td>\n",
       "    </tr>\n",
       "    <tr>\n",
       "      <th>...</th>\n",
       "      <td>...</td>\n",
       "      <td>...</td>\n",
       "      <td>...</td>\n",
       "      <td>...</td>\n",
       "      <td>...</td>\n",
       "      <td>...</td>\n",
       "    </tr>\n",
       "    <tr>\n",
       "      <th>146131</th>\n",
       "      <td>tt9915790</td>\n",
       "      <td>Bobbyr Bondhura</td>\n",
       "      <td>Bobbyr Bondhura</td>\n",
       "      <td>2019</td>\n",
       "      <td>NaN</td>\n",
       "      <td>Family</td>\n",
       "    </tr>\n",
       "    <tr>\n",
       "      <th>146138</th>\n",
       "      <td>tt9916428</td>\n",
       "      <td>The Secret of China</td>\n",
       "      <td>The Secret of China</td>\n",
       "      <td>2019</td>\n",
       "      <td>NaN</td>\n",
       "      <td>Adventure,History,War</td>\n",
       "    </tr>\n",
       "    <tr>\n",
       "      <th>146140</th>\n",
       "      <td>tt9916622</td>\n",
       "      <td>Rodolpho Teóphilo - O Legado de um Pioneiro</td>\n",
       "      <td>Rodolpho Teóphilo - O Legado de um Pioneiro</td>\n",
       "      <td>2015</td>\n",
       "      <td>NaN</td>\n",
       "      <td>Documentary</td>\n",
       "    </tr>\n",
       "    <tr>\n",
       "      <th>146141</th>\n",
       "      <td>tt9916706</td>\n",
       "      <td>Dankyavar Danka</td>\n",
       "      <td>Dankyavar Danka</td>\n",
       "      <td>2013</td>\n",
       "      <td>NaN</td>\n",
       "      <td>Comedy</td>\n",
       "    </tr>\n",
       "    <tr>\n",
       "      <th>146143</th>\n",
       "      <td>tt9916754</td>\n",
       "      <td>Chico Albuquerque - Revelações</td>\n",
       "      <td>Chico Albuquerque - Revelações</td>\n",
       "      <td>2013</td>\n",
       "      <td>NaN</td>\n",
       "      <td>Documentary</td>\n",
       "    </tr>\n",
       "  </tbody>\n",
       "</table>\n",
       "<p>31739 rows × 6 columns</p>\n",
       "</div>"
      ],
      "text/plain": [
       "         movie_id                                      primary_title  \\\n",
       "3       tt0069204                                    Sabse Bada Sukh   \n",
       "6       tt0112502                                            Bigfoot   \n",
       "8       tt0139613                                         O Silêncio   \n",
       "16      tt0187902  How Huang Fei-hong Rescued the Orphan from the...   \n",
       "21      tt0250404                                          Godfather   \n",
       "...           ...                                                ...   \n",
       "146131  tt9915790                                    Bobbyr Bondhura   \n",
       "146138  tt9916428                                The Secret of China   \n",
       "146140  tt9916622        Rodolpho Teóphilo - O Legado de um Pioneiro   \n",
       "146141  tt9916706                                    Dankyavar Danka   \n",
       "146143  tt9916754                     Chico Albuquerque - Revelações   \n",
       "\n",
       "                                           original_title  start_year  \\\n",
       "3                                         Sabse Bada Sukh        2018   \n",
       "6                                                 Bigfoot        2017   \n",
       "8                                              O Silêncio        2012   \n",
       "16      How Huang Fei-hong Rescued the Orphan from the...        2011   \n",
       "21                                              Godfather        2012   \n",
       "...                                                   ...         ...   \n",
       "146131                                    Bobbyr Bondhura        2019   \n",
       "146138                                The Secret of China        2019   \n",
       "146140        Rodolpho Teóphilo - O Legado de um Pioneiro        2015   \n",
       "146141                                    Dankyavar Danka        2013   \n",
       "146143                     Chico Albuquerque - Revelações        2013   \n",
       "\n",
       "        runtime_minutes                 genres  \n",
       "3                   NaN           Comedy,Drama  \n",
       "6                   NaN        Horror,Thriller  \n",
       "8                   NaN    Documentary,History  \n",
       "16                  NaN                   None  \n",
       "21                  NaN            Crime,Drama  \n",
       "...                 ...                    ...  \n",
       "146131              NaN                 Family  \n",
       "146138              NaN  Adventure,History,War  \n",
       "146140              NaN            Documentary  \n",
       "146141              NaN                 Comedy  \n",
       "146143              NaN            Documentary  \n",
       "\n",
       "[31739 rows x 6 columns]"
      ]
     },
     "execution_count": 121,
     "metadata": {},
     "output_type": "execute_result"
    }
   ],
   "source": [
    "# View null values in run_time_minutes\n",
    "moviebasics_df.loc[moviebasics_df['runtime_minutes'].isna()]"
   ]
  },
  {
   "cell_type": "code",
   "execution_count": 122,
   "metadata": {},
   "outputs": [],
   "source": [
    "# eplace Null in genres with unknown\n",
    "moviebasics_df['genres'] = moviebasics_df['genres'].fillna('Unknown')"
   ]
  },
  {
   "cell_type": "code",
   "execution_count": 123,
   "metadata": {},
   "outputs": [
    {
     "data": {
      "text/html": [
       "<div>\n",
       "<style scoped>\n",
       "    .dataframe tbody tr th:only-of-type {\n",
       "        vertical-align: middle;\n",
       "    }\n",
       "\n",
       "    .dataframe tbody tr th {\n",
       "        vertical-align: top;\n",
       "    }\n",
       "\n",
       "    .dataframe thead th {\n",
       "        text-align: right;\n",
       "    }\n",
       "</style>\n",
       "<table border=\"1\" class=\"dataframe\">\n",
       "  <thead>\n",
       "    <tr style=\"text-align: right;\">\n",
       "      <th></th>\n",
       "      <th>movie_id</th>\n",
       "      <th>averagerating</th>\n",
       "      <th>numvotes</th>\n",
       "    </tr>\n",
       "  </thead>\n",
       "  <tbody>\n",
       "    <tr>\n",
       "      <th>0</th>\n",
       "      <td>tt10356526</td>\n",
       "      <td>8.3</td>\n",
       "      <td>31</td>\n",
       "    </tr>\n",
       "    <tr>\n",
       "      <th>1</th>\n",
       "      <td>tt10384606</td>\n",
       "      <td>8.9</td>\n",
       "      <td>559</td>\n",
       "    </tr>\n",
       "    <tr>\n",
       "      <th>2</th>\n",
       "      <td>tt1042974</td>\n",
       "      <td>6.4</td>\n",
       "      <td>20</td>\n",
       "    </tr>\n",
       "    <tr>\n",
       "      <th>3</th>\n",
       "      <td>tt1043726</td>\n",
       "      <td>4.2</td>\n",
       "      <td>50352</td>\n",
       "    </tr>\n",
       "    <tr>\n",
       "      <th>4</th>\n",
       "      <td>tt1060240</td>\n",
       "      <td>6.5</td>\n",
       "      <td>21</td>\n",
       "    </tr>\n",
       "    <tr>\n",
       "      <th>...</th>\n",
       "      <td>...</td>\n",
       "      <td>...</td>\n",
       "      <td>...</td>\n",
       "    </tr>\n",
       "    <tr>\n",
       "      <th>73851</th>\n",
       "      <td>tt9805820</td>\n",
       "      <td>8.1</td>\n",
       "      <td>25</td>\n",
       "    </tr>\n",
       "    <tr>\n",
       "      <th>73852</th>\n",
       "      <td>tt9844256</td>\n",
       "      <td>7.5</td>\n",
       "      <td>24</td>\n",
       "    </tr>\n",
       "    <tr>\n",
       "      <th>73853</th>\n",
       "      <td>tt9851050</td>\n",
       "      <td>4.7</td>\n",
       "      <td>14</td>\n",
       "    </tr>\n",
       "    <tr>\n",
       "      <th>73854</th>\n",
       "      <td>tt9886934</td>\n",
       "      <td>7.0</td>\n",
       "      <td>5</td>\n",
       "    </tr>\n",
       "    <tr>\n",
       "      <th>73855</th>\n",
       "      <td>tt9894098</td>\n",
       "      <td>6.3</td>\n",
       "      <td>128</td>\n",
       "    </tr>\n",
       "  </tbody>\n",
       "</table>\n",
       "<p>73856 rows × 3 columns</p>\n",
       "</div>"
      ],
      "text/plain": [
       "         movie_id  averagerating  numvotes\n",
       "0      tt10356526            8.3        31\n",
       "1      tt10384606            8.9       559\n",
       "2       tt1042974            6.4        20\n",
       "3       tt1043726            4.2     50352\n",
       "4       tt1060240            6.5        21\n",
       "...           ...            ...       ...\n",
       "73851   tt9805820            8.1        25\n",
       "73852   tt9844256            7.5        24\n",
       "73853   tt9851050            4.7        14\n",
       "73854   tt9886934            7.0         5\n",
       "73855   tt9894098            6.3       128\n",
       "\n",
       "[73856 rows x 3 columns]"
      ]
     },
     "execution_count": 123,
     "metadata": {},
     "output_type": "execute_result"
    }
   ],
   "source": [
    "# Load movie_ratings table \n",
    "movieratings_df = pd.read_sql(\"\"\"SELECT * FROM movie_ratings\"\"\", conn)\n",
    "movieratings_df"
   ]
  },
  {
   "cell_type": "code",
   "execution_count": 124,
   "metadata": {},
   "outputs": [
    {
     "data": {
      "text/plain": [
       "Index(['movie_id', 'averagerating', 'numvotes'], dtype='object')"
      ]
     },
     "execution_count": 124,
     "metadata": {},
     "output_type": "execute_result"
    }
   ],
   "source": [
    "# Check for column names\n",
    "movieratings_df.columns"
   ]
  },
  {
   "cell_type": "code",
   "execution_count": 125,
   "metadata": {},
   "outputs": [
    {
     "data": {
      "text/html": [
       "<div>\n",
       "<style scoped>\n",
       "    .dataframe tbody tr th:only-of-type {\n",
       "        vertical-align: middle;\n",
       "    }\n",
       "\n",
       "    .dataframe tbody tr th {\n",
       "        vertical-align: top;\n",
       "    }\n",
       "\n",
       "    .dataframe thead th {\n",
       "        text-align: right;\n",
       "    }\n",
       "</style>\n",
       "<table border=\"1\" class=\"dataframe\">\n",
       "  <thead>\n",
       "    <tr style=\"text-align: right;\">\n",
       "      <th></th>\n",
       "      <th>count</th>\n",
       "      <th>mean</th>\n",
       "      <th>std</th>\n",
       "      <th>min</th>\n",
       "      <th>25%</th>\n",
       "      <th>50%</th>\n",
       "      <th>75%</th>\n",
       "      <th>max</th>\n",
       "    </tr>\n",
       "  </thead>\n",
       "  <tbody>\n",
       "    <tr>\n",
       "      <th>averagerating</th>\n",
       "      <td>73856.0</td>\n",
       "      <td>6.332729</td>\n",
       "      <td>1.474978</td>\n",
       "      <td>1.0</td>\n",
       "      <td>5.5</td>\n",
       "      <td>6.5</td>\n",
       "      <td>7.4</td>\n",
       "      <td>10.0</td>\n",
       "    </tr>\n",
       "    <tr>\n",
       "      <th>numvotes</th>\n",
       "      <td>73856.0</td>\n",
       "      <td>3523.662167</td>\n",
       "      <td>30294.022971</td>\n",
       "      <td>5.0</td>\n",
       "      <td>14.0</td>\n",
       "      <td>49.0</td>\n",
       "      <td>282.0</td>\n",
       "      <td>1841066.0</td>\n",
       "    </tr>\n",
       "  </tbody>\n",
       "</table>\n",
       "</div>"
      ],
      "text/plain": [
       "                 count         mean           std  min   25%   50%    75%  \\\n",
       "averagerating  73856.0     6.332729      1.474978  1.0   5.5   6.5    7.4   \n",
       "numvotes       73856.0  3523.662167  30294.022971  5.0  14.0  49.0  282.0   \n",
       "\n",
       "                     max  \n",
       "averagerating       10.0  \n",
       "numvotes       1841066.0  "
      ]
     },
     "execution_count": 125,
     "metadata": {},
     "output_type": "execute_result"
    }
   ],
   "source": [
    "# Statistical summary\n",
    "movieratings_df.describe().T"
   ]
  },
  {
   "cell_type": "code",
   "execution_count": 126,
   "metadata": {},
   "outputs": [
    {
     "data": {
      "text/plain": [
       "movie_id         0\n",
       "averagerating    0\n",
       "numvotes         0\n",
       "dtype: int64"
      ]
     },
     "execution_count": 126,
     "metadata": {},
     "output_type": "execute_result"
    }
   ],
   "source": [
    "# Check for null values \n",
    "movieratings_df.isna().sum()"
   ]
  },
  {
   "cell_type": "code",
   "execution_count": 127,
   "metadata": {},
   "outputs": [
    {
     "name": "stdout",
     "output_type": "stream",
     "text": [
      "Index(['movie_id', 'averagerating', 'numvotes'], dtype='object')\n"
     ]
    }
   ],
   "source": [
    "print(movieratings_df.columns)"
   ]
  },
  {
   "cell_type": "code",
   "execution_count": 128,
   "metadata": {},
   "outputs": [
    {
     "data": {
      "text/plain": [
       "0    tt0063540\n",
       "1    tt0066787\n",
       "2    tt0069049\n",
       "3    tt0069204\n",
       "4    tt0100275\n",
       "Name: movie_id, dtype: object"
      ]
     },
     "execution_count": 128,
     "metadata": {},
     "output_type": "execute_result"
    }
   ],
   "source": [
    "moviebasics_df['movie_id'].head()"
   ]
  },
  {
   "cell_type": "code",
   "execution_count": 129,
   "metadata": {},
   "outputs": [
    {
     "data": {
      "text/html": [
       "<div>\n",
       "<style scoped>\n",
       "    .dataframe tbody tr th:only-of-type {\n",
       "        vertical-align: middle;\n",
       "    }\n",
       "\n",
       "    .dataframe tbody tr th {\n",
       "        vertical-align: top;\n",
       "    }\n",
       "\n",
       "    .dataframe thead th {\n",
       "        text-align: right;\n",
       "    }\n",
       "</style>\n",
       "<table border=\"1\" class=\"dataframe\">\n",
       "  <thead>\n",
       "    <tr style=\"text-align: right;\">\n",
       "      <th></th>\n",
       "      <th>movie_id</th>\n",
       "      <th>primary_title</th>\n",
       "      <th>original_title</th>\n",
       "      <th>start_year</th>\n",
       "      <th>runtime_minutes</th>\n",
       "      <th>genres</th>\n",
       "      <th>averagerating</th>\n",
       "      <th>numvotes</th>\n",
       "    </tr>\n",
       "  </thead>\n",
       "  <tbody>\n",
       "    <tr>\n",
       "      <th>0</th>\n",
       "      <td>tt0063540</td>\n",
       "      <td>Sunghursh</td>\n",
       "      <td>Sunghursh</td>\n",
       "      <td>2013</td>\n",
       "      <td>175.0</td>\n",
       "      <td>Action,Crime,Drama</td>\n",
       "      <td>7.0</td>\n",
       "      <td>77</td>\n",
       "    </tr>\n",
       "    <tr>\n",
       "      <th>1</th>\n",
       "      <td>tt0066787</td>\n",
       "      <td>One Day Before the Rainy Season</td>\n",
       "      <td>Ashad Ka Ek Din</td>\n",
       "      <td>2019</td>\n",
       "      <td>114.0</td>\n",
       "      <td>Biography,Drama</td>\n",
       "      <td>7.2</td>\n",
       "      <td>43</td>\n",
       "    </tr>\n",
       "    <tr>\n",
       "      <th>2</th>\n",
       "      <td>tt0069049</td>\n",
       "      <td>The Other Side of the Wind</td>\n",
       "      <td>The Other Side of the Wind</td>\n",
       "      <td>2018</td>\n",
       "      <td>122.0</td>\n",
       "      <td>Drama</td>\n",
       "      <td>6.9</td>\n",
       "      <td>4517</td>\n",
       "    </tr>\n",
       "    <tr>\n",
       "      <th>3</th>\n",
       "      <td>tt0069204</td>\n",
       "      <td>Sabse Bada Sukh</td>\n",
       "      <td>Sabse Bada Sukh</td>\n",
       "      <td>2018</td>\n",
       "      <td>NaN</td>\n",
       "      <td>Comedy,Drama</td>\n",
       "      <td>6.1</td>\n",
       "      <td>13</td>\n",
       "    </tr>\n",
       "    <tr>\n",
       "      <th>4</th>\n",
       "      <td>tt0100275</td>\n",
       "      <td>The Wandering Soap Opera</td>\n",
       "      <td>La Telenovela Errante</td>\n",
       "      <td>2017</td>\n",
       "      <td>80.0</td>\n",
       "      <td>Comedy,Drama,Fantasy</td>\n",
       "      <td>6.5</td>\n",
       "      <td>119</td>\n",
       "    </tr>\n",
       "  </tbody>\n",
       "</table>\n",
       "</div>"
      ],
      "text/plain": [
       "    movie_id                    primary_title              original_title  \\\n",
       "0  tt0063540                        Sunghursh                   Sunghursh   \n",
       "1  tt0066787  One Day Before the Rainy Season             Ashad Ka Ek Din   \n",
       "2  tt0069049       The Other Side of the Wind  The Other Side of the Wind   \n",
       "3  tt0069204                  Sabse Bada Sukh             Sabse Bada Sukh   \n",
       "4  tt0100275         The Wandering Soap Opera       La Telenovela Errante   \n",
       "\n",
       "   start_year  runtime_minutes                genres  averagerating  numvotes  \n",
       "0        2013            175.0    Action,Crime,Drama            7.0        77  \n",
       "1        2019            114.0       Biography,Drama            7.2        43  \n",
       "2        2018            122.0                 Drama            6.9      4517  \n",
       "3        2018              NaN          Comedy,Drama            6.1        13  \n",
       "4        2017             80.0  Comedy,Drama,Fantasy            6.5       119  "
      ]
     },
     "execution_count": 129,
     "metadata": {},
     "output_type": "execute_result"
    }
   ],
   "source": [
    "q = \"\"\"\n",
    "SELECT \n",
    "    mb.movie_id,\n",
    "    mb.primary_title,\n",
    "    mb.original_title,\n",
    "    mb.start_year,\n",
    "    mb.runtime_minutes,\n",
    "    mb.genres,\n",
    "    mr.averagerating,\n",
    "    mr.numvotes\n",
    "FROM movie_basics mb\n",
    "INNER JOIN movie_ratings mr ON mb.movie_id = mr.movie_id;\n",
    "\"\"\"\n",
    "\n",
    "movies_df = pd.read_sql(q, conn)\n",
    "movies_df.head() "
   ]
  },
  {
   "cell_type": "code",
   "execution_count": 130,
   "metadata": {},
   "outputs": [
    {
     "name": "stdout",
     "output_type": "stream",
     "text": [
      "                 Null Count  Null Percentage (%)\n",
      "movie_id                  0                 0.00\n",
      "primary_title             0                 0.00\n",
      "original_title            0                 0.00\n",
      "start_year                0                 0.00\n",
      "runtime_minutes        7620                10.32\n",
      "genres                  804                 1.09\n",
      "averagerating             0                 0.00\n",
      "numvotes                  0                 0.00\n"
     ]
    }
   ],
   "source": [
    "null_counts = movies_df.isna().sum()\n",
    "null_percentages = (null_counts / len(movies_df)) * 100\n",
    "\n",
    "null_df = pd.DataFrame({\n",
    "    'Null Count': null_counts,\n",
    "    'Null Percentage (%)': null_percentages.round(2)\n",
    "})\n",
    "\n",
    "print(null_df)"
   ]
  },
  {
   "cell_type": "code",
   "execution_count": 131,
   "metadata": {},
   "outputs": [
    {
     "data": {
      "text/plain": [
       "movie_id              0\n",
       "primary_title         0\n",
       "original_title        0\n",
       "start_year            0\n",
       "runtime_minutes    7332\n",
       "genres                0\n",
       "averagerating         0\n",
       "numvotes              0\n",
       "dtype: int64"
      ]
     },
     "execution_count": 131,
     "metadata": {},
     "output_type": "execute_result"
    }
   ],
   "source": [
    "# Drop null values in 'genres'\n",
    "movies_df = movies_df.dropna(subset=['genres'])\n",
    "\n",
    "# Preview changes\n",
    "movies_df.isna().sum()"
=======
   "cell_type": "code",
   "execution_count": 1128,
   "metadata": {},
   "outputs": [
    {
     "name": "stdout",
     "output_type": "stream",
     "text": [
      "<class 'pandas.core.frame.DataFrame'>\n",
      "RangeIndex: 3387 entries, 0 to 3386\n",
      "Data columns (total 5 columns):\n",
      " #   Column          Non-Null Count  Dtype  \n",
      "---  ------          --------------  -----  \n",
      " 0   title           3387 non-null   object \n",
      " 1   studio          3387 non-null   object \n",
      " 2   domestic_gross  3387 non-null   float64\n",
      " 3   foreign_gross   3387 non-null   float64\n",
      " 4   year            3387 non-null   int64  \n",
      "dtypes: float64(2), int64(1), object(2)\n",
      "memory usage: 132.4+ KB\n"
     ]
    }
   ],
   "source": [
    "gross_df.info()"
   ]
  },
  {
   "cell_type": "markdown",
   "metadata": {},
   "source": [
    "## EXPLORATORY DATA ANALYSIS"
>>>>>>> c2fd2596b9e978fac457a1f007fe7fb42a731927
   ]
  },
  {
   "cell_type": "markdown",
   "metadata": {},
   "source": [
    "### CONVERT DATE COLUMNS TO DATETIME"
   ]
  },
  {
   "cell_type": "markdown",
   "metadata": {},
   "source": [
    "Univariate analysis\n"
   ]
<<<<<<< HEAD
  },
  {
   "cell_type": "markdown",
   "metadata": {},
   "source": [
    "What budget ranges do most movies fall into?\n",
    "\n",
    "Which genres dominate the movie industry?\n",
    "\n",
    "What revenue patterns can we expect?\n",
    "\n",
    "How do audiences rate movies typically?\n",
    "\n",
    "Which studios are the major players?\n",
    "\n",
    "Are movie releases increasing over time?"
   ]
  },
  {
   "cell_type": "markdown",
   "metadata": {},
   "source": [
    "### 1. FINANCIAL METRICS ANALYSIS"
   ]
  },
  {
   "cell_type": "code",
   "execution_count": 132,
   "metadata": {},
   "outputs": [
    {
     "name": "stdout",
     "output_type": "stream",
     "text": [
      "<25M        3452\n",
      "25–50M      1122\n",
      "50–75M       536\n",
      "75–100M      266\n",
      "100–150M     211\n",
      "150–200M     132\n",
      "Name: budget_bin, dtype: int64\n"
     ]
    },
    {
     "data": {
      "image/png": "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",
      "text/plain": [
       "<Figure size 720x432 with 1 Axes>"
      ]
     },
     "metadata": {
      "needs_background": "light"
     },
     "output_type": "display_data"
    }
   ],
   "source": [
    "\n",
    "# Assuming budget_df['production_budget'] is already cleaned and numeric\n",
    "\n",
    "# Define bins and labels\n",
    "bins = [0, 25_000_000, 50_000_000, 75_000_000, 100_000_000, 150_000_000, 200_000_000]\n",
    "labels = ['<25M', '25–50M', '50–75M', '75–100M', '100–150M', '150–200M']\n",
    "\n",
    "# Create bin column\n",
    "budget_df['budget_bin'] = pd.cut(budget_df['production_budget'], bins=bins, labels=labels, right=False)\n",
    "\n",
    "# Count per bin\n",
    "bin_counts = budget_df['budget_bin'].value_counts().sort_index()\n",
    "print (bin_counts)\n",
    "# Plot\n",
    "plt.figure(figsize =(10,6))\n",
    "bin_counts.plot(kind='bar', color='skyblue', edgecolor='black')\n",
    "plt.title('Production Budget Bins')\n",
    "plt.xlabel('Budget Range')\n",
    "plt.ylabel('Number of Films')\n",
    "plt.tight_layout()\n",
    "plt.show()\n",
    "\n",
    "\n"
   ]
  },
  {
   "cell_type": "code",
   "execution_count": 133,
   "metadata": {},
   "outputs": [
    {
     "name": "stdout",
     "output_type": "stream",
     "text": [
      "<class 'pandas.core.frame.DataFrame'>\n",
      "RangeIndex: 5782 entries, 0 to 5781\n",
      "Data columns (total 7 columns):\n",
      " #   Column             Non-Null Count  Dtype   \n",
      "---  ------             --------------  -----   \n",
      " 0   id                 5782 non-null   int64   \n",
      " 1   release_date       5782 non-null   object  \n",
      " 2   movie              5782 non-null   object  \n",
      " 3   production_budget  5782 non-null   float64 \n",
      " 4   domestic_gross     5782 non-null   float64 \n",
      " 5   worldwide_gross    5782 non-null   float64 \n",
      " 6   budget_bin         5719 non-null   category\n",
      "dtypes: category(1), float64(3), int64(1), object(2)\n",
      "memory usage: 277.0+ KB\n"
     ]
    }
   ],
   "source": [
    "budget_df.info()"
   ]
  },
  {
   "cell_type": "code",
   "execution_count": 134,
   "metadata": {},
   "outputs": [
    {
     "name": "stdout",
     "output_type": "stream",
     "text": [
      "domestic_gross    float64\n",
      "dtype: object\n"
     ]
    }
   ],
   "source": [
    "budget_df['domestic_gross'] = pd.to_numeric(budget_df['domestic_gross'], errors = 'coerce')\n",
    "print(budget_df[['domestic_gross']].dtypes)"
   ]
  },
  {
   "cell_type": "code",
   "execution_count": 135,
   "metadata": {},
   "outputs": [
    {
     "name": "stdout",
     "output_type": "stream",
     "text": [
      "<25M        3298\n",
      "25–50M       958\n",
      "50–75M       545\n",
      "75–100M      273\n",
      "100–150M     348\n",
      "150–200M     155\n",
      "Name: domestic_bin, dtype: int64\n"
     ]
    },
    {
     "data": {
      "image/png": "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",
      "text/plain": [
       "<Figure size 720x432 with 1 Axes>"
      ]
     },
     "metadata": {
      "needs_background": "light"
     },
     "output_type": "display_data"
    }
   ],
   "source": [
    "\n",
    "# Assuming budget_df['production_budget'] is already cleaned and numeric\n",
    "\n",
    "# Define bins and labels\n",
    "bins = [0, 25_000_000, 50_000_000, 75_000_000, 100_000_000, 150_000_000, 200_000_000]\n",
    "labels = ['<25M', '25–50M', '50–75M', '75–100M', '100–150M', '150–200M']\n",
    "\n",
    "# Create bin column\n",
    "budget_df['domestic_bin'] = pd.cut(budget_df['domestic_gross'], bins=bins, labels=labels, right=False)\n",
    "\n",
    "# Count per bin\n",
    "bin_counts = budget_df['domestic_bin'].value_counts().sort_index()\n",
    "print (bin_counts)\n",
    "# Plot\n",
    "plt.figure(figsize =(10,6))\n",
    "bin_counts.plot(kind='bar', color='skyblue', edgecolor='black')\n",
    "plt.title('Domestic Gross Bins')\n",
    "plt.xlabel('Domestic Gross Range')\n",
    "plt.ylabel('Number of Films')\n",
    "plt.tight_layout()\n",
    "plt.show()\n",
    "\n",
    "\n"
   ]
  },
  {
   "cell_type": "code",
   "execution_count": 136,
   "metadata": {},
   "outputs": [
    {
     "name": "stdout",
     "output_type": "stream",
     "text": [
      "worldwide_gross    float64\n",
      "dtype: object\n"
     ]
    }
   ],
   "source": [
    "budget_df['worldwide_gross'] = pd.to_numeric(budget_df['worldwide_gross'], errors = 'coerce')\n",
    "print(budget_df[['worldwide_gross']].dtypes)"
   ]
  },
  {
   "cell_type": "code",
   "execution_count": 137,
   "metadata": {},
   "outputs": [
    {
     "data": {
      "image/png": "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",
      "text/plain": [
       "<Figure size 720x432 with 1 Axes>"
      ]
     },
     "metadata": {
      "needs_background": "light"
     },
     "output_type": "display_data"
    }
   ],
   "source": [
    "import pandas as pd\n",
    "import matplotlib.pyplot as plt\n",
    "\n",
    "# Clean and convert worldwide_gross to numeric\n",
    "cleaned_gross = budget_df['worldwide_gross'].replace('[\\$,]', '', regex=True).astype(float)\n",
    "\n",
    "# Define bin edges and labels\n",
    "bins = [0, 50_000_000, 100_000_000, 200_000_000, 500_000_000, 1_000_000_000, float('inf')]\n",
    "labels = ['<50M', '50–100M', '100–200M', '200–500M', '500M–1B', '>1B']\n",
    "\n",
    "# Bin values and count frequencies\n",
    "bin_counts = pd.cut(cleaned_gross, bins=bins, labels=labels, right=False).value_counts().sort_index()\n",
    "\n",
    "# Plot\n",
    "plt.figure(figsize=(10, 6))\n",
    "ax = bin_counts.plot(kind='bar', color='skyblue', edgecolor='black')\n",
    "plt.title('Worldwide Gross Distribution')\n",
    "plt.xlabel('Worldwide Gross Range')\n",
    "plt.ylabel('Number of Films')\n",
    "\n",
    "# Add count labels on top of bars\n",
    "for i, count in enumerate(bin_counts):\n",
    "    ax.text(i, count + 1, str(count), ha='center', va='bottom')\n",
    "\n",
    "plt.tight_layout()\n",
    "plt.show()\n"
   ]
  },
  {
   "cell_type": "markdown",
   "metadata": {},
   "source": [
    "### 2. RATINGS AND POPULARITY ANALYSIS"
   ]
  },
  {
   "cell_type": "code",
   "execution_count": 138,
   "metadata": {},
   "outputs": [
    {
     "data": {
      "image/png": "iVBORw0KGgoAAAANSUhEUgAAAsgAAAGoCAYAAABbtxOxAAAAOXRFWHRTb2Z0d2FyZQBNYXRwbG90bGliIHZlcnNpb24zLjMuMSwgaHR0cHM6Ly9tYXRwbG90bGliLm9yZy/d3fzzAAAACXBIWXMAAAsTAAALEwEAmpwYAAAp9klEQVR4nO3de7xdZX3v+89XglxEVCThEpBgS7WRlyhESre2IniJ1Qiya8VaCTaFbrd33UfBarU9pZt9Tmsru9UWxAa8QFFRwC1ukRYvZ4MYUUEuVgiLEENYUasES0Ho7/wxRuRhsVbWCpkzcyX5vF+v+ZpjPnOMZ/zmBfJdz3zGGKkqJEmSJHUeNeoCJEmSpNnEgCxJkiQ1DMiSJElSw4AsSZIkNQzIkiRJUsOALEmSJDUMyJIGLsnfJXnPgPp6UpK7k+zQP74iyR8Mou++v0uTLB1Uf5uw3z9L8sMka7f0vjV4Sd6V5MOjrkPSYBiQJW2SJGNJ7kmyPslPkvyfJP8lyS/+f1JV/6Wq/u8Z9vX8ja1TVauqareqemAAtb8vyccm9P/iqjpnc/vexDr2B94OLKyqvSd5/sgkq5vHVySpJIdMWO+zffuR/eP3Jfl5/9msT/IvSf4myT4T+v6P/o+Ou5P8IMmfzKDmx/Trf/6Rv/LZo39P/71/TT9McmH7Pk2z7UM+H4Cq+vOqGtgfbpJGy4As6ZFYUlWPBQ4ATgfeCZw96J0kmTPoPmeJA4AfVdX4JmzzL8AJGx4keSJwBLBuwnr/2H82ewAvB/YGvjkh/K3p/+jYDXgOsCzJsdPs/7eBe4EXzjRIbooRfdZv6N+DXwZ2A/5iBDVImoUMyJIesar6aVVdDLwSWJrkYIAky5P8Wb+8Z5LP9aPNP07y1SSPSvJR4EnAJf0o3juSLOhHRJclWQX8U9PWBqhfSnJ1kp8muSjJHv2+Hjayt2GUOsli4F3AK/v9fad//hdTNvq63p3ktiTjSc5N8rj+uQ11LE2yqh91/KOp3pskj+u3X9f39+6+/+cDlwH79nUsn+Hb/fG+9h36x68CPgPcN8Vn8/Oqur7/bNbRjVhPtt6twP8BFk6z/6XA3wHXAq/uX+MRSdY2NZHk5Umu7ZcfleSUJLck+VGSC5rP6mGfdd/+yb7Pnyb5SpKnNX0/McklSe5K8o1001S+1jz/1CSX9d+z7yX5nWle04b34CfAZ4FnNH29NsmN/Uj8yiR/2Lc/BriUBz+/u5Psm+bXiem+K0l2SXJOkn/t9/GOPPQXg3emG9lf37+Oo2fyOiQNjgFZ0marqquB1cBvTPL02/vn5gJ70YXUqqrXAKvoRqN3q6r/p9nmucCvAi+aYpcnAL8P7AvcD5wxgxq/APw53QjrblV1yCSrndjfngc8mW5U8W8mrPMc4CnA0cAfJ/nVKXb5P4HH9f08t6/5tVX1JeDFPDiKe+J0tffWADcAL+wfnwCcO91G/dSUi5j8syHJQcCzgaum6iPJk4Aj6UL6x/t9U1VXAT8DjmpW/13gE/3ym4Bj6V7/vsC/An87ofuJn/WlwEHAPOCafn8b/G2/v73pAvsv5o73wfWyft/z6P6A+GAbsDfy+p4IHAfc3DSPAy8FdgdeC/xVkkOr6mc89PPbrarWTNH1VN+V9wIL6L4bLwB+r6nlKcAbgGf1vwS8CBib7jVIGiwDsqRBWUP3s/5EPwf2AQ7oRzW/WlU1TV/vq6qfVdU9Uzz/0ar6bh9W3gP8TjuKuRleDby/qlZW1d3AqcDxE0av/6Sq7qmq7wDfAR4WtPtaXgmcWlXrq2oM+EvgNZtZ37nACX2IenxVXTnD7SZ+NvumG9G/i27qxteBr026ZecE4NqqugE4D3hakmf2z51HF0ZJ8ljgt/o2gD8E/qiqVlfVvcD7gN+e8H4+5LOuqo/079mG9Q/pR+N3AP4z8N6q+re+lnbu+EuBsar6h6q6v6quAT5NNzVkKmck+SnwQ2BP4I0bnqiq/1VVt1Tny8AXmeKPjI2Y6rvyO8CfV9W/VtVqHvoH3gPATsDCJDtW1VhV3bKJ+5W0mQzIkgZlPvDjSdr/X7qRuS/2P1WfMoO+bt+E528DdqQLOJtr376/tu85dCPfG7Rnnfg3ulHmifYEHj1JX/M3s74L6UZr3wh8dBO2m/jZrKmqx1fV7sDjgXt4aNic6AT6kdx+tPTLPDh6+wnguCQ70Y3CXlNVG173AcBn+jD+E+BGugDYvp+/+CyT7JDk9H5Kxl08OHK6J90vEHN46GffLh8A/NqGffX7ezXdaPNU3lRVjwOeDjwB2K+p5cVJruqna/yELvhv6ndsqu/KvlO9jqq6GXgL3R8H40nOT7LvJu5X0mYyIEvabEmeRRfCHjYK2Y8Gvr2qngwsAd7WzKmcaiR5uhHm/ZvlJ9GNUv+Q7uf3XZu6dqALVjPtdw1d0Gr7vh+4c5rtJvphX9PEvn6wif08RFX9G90UhNcxw4Cc7uwiS4CvTtHnT+lC7pIptv9PdFMeTu3nBq8Ffg14VZI5/UjubXTTDtrpFdAFvxf3YXzDbeeqat+H9jP5XeAY4Pl001MWbCiDbh71/TQhlod+D24HvjxhX7tV1esmf2ce8h5cB/wZ8Lfp7EQ3+vwXwF5V9Xjg830dE2t+JO7YyOugqj5RVc+h+/4U8D82c3+SNpEBWdIjlmT3JC8Fzgc+1geNieu8NMkvJwlwF90I4oZTtt1JNw9zU/1ekoVJdgX+FPhUP9f2X4Cdk7wkyY7Au+l+rt7gTmBBmlPSTXAe8NYkBybZjQfnLN+/KcX1tVwAnJbksUkOAN4GfGzjW87Iu4Dn9tM2ppRkx37O63l0o6jvn2K93YDjgeun6Gop3dzehXQHsT0DOJjuD5EX9+t8gm6+8W8Cn2y2/Tu69+CAfl9zkxyzkbIfS3emjB/1/f/5hif69/RC4H1Jdk3yVJqzegCfA34lyWv6175jkmdtZI74ROfQzV1+Gd3o/070oTzJi3lw7jd036Mnpj+A8xG4gO4PjickmU835xjo5iAnOaoP6f9ON7q/2ac4lLRpDMiSHolLkqynG7X7I7rw9dop1j0I+BJwN3Al8MGquqJ/7r8D7+5/Ev9vm7D/jwLL6X7C3pkunG0YDf2vwIfpRmt/RneA4AYbwtuPklwzSb8f6fv+CnArXUB54yTrzcQb+/2vpBtZ/0Tf/2apqjVVtbH5wq9McjfwE+BiurB52IQDyX5xBga60d896M9M0UqyM9182f9ZVWub261079OGaRbn0R3E909V9cOmiw/0NXyx/75cRTf6PJVz+3p+QHdA4sQDB99AN7K8tt//eXSBmqpaTxdij6f7JWAt3cjrTsxAVd1HNxf4PX1fb6ILsv9KN7J9cbPuTf2+V/bf3U2dAvGndN/LW+n+2/jUhtfR13s63a8Qa+lC+7s2sX9JmynTHysjSdLsk+R/AHtX1Ra/EuIgJXkdcHxVPXfUtUjqOIIsSdoqpDvP8dP7ecKHA8vozgW9VUmyT5JnpztP9FPoToW41b0OaVu2rV6lSpK07Xks3dSGfenOU/yXdOd43to8Gvh74EC6qTDnAx8cZUGSHsopFpIkSVLDKRaSJElSY5udYrHnnnvWggULRl2GJEmSZqlvfvObP6yquRPbt9mAvGDBAlasWDHqMiRJkjRLJbltsnanWEiSJEkNA7IkSZLUMCBLkiRJDQOyJEmS1DAgS5IkSQ0DsiRJktQwIEuSJEkNA7IkSZLUMCBLkiRJDQOyJEmS1DAgS5IkSQ0DsiRJktQwIEuSJEkNA7IkSZLUMCBLkiRJDQOyJEmS1Jgz6gIkSRq0ZScex/jasYH1N2/vBZy9/MKB9SdpdjMgS5K2OeNrx7jkrPkD62/JSWMD60vS7OcUC0mSJKlhQJYkSZIaBmRJkiSp4RxkSZK2IA8glGY/A7IkSVuQBxBKs59TLCRJkqSGAVmSJElqGJAlSZKkhgFZkiRJahiQJUmSpIYBWZIkSWoYkCVJkqSGAVmSJElqGJAlSZKkhgFZkiRJahiQJUmSpIYBWZIkSWoYkCVJkqTGnFEXIEnSbHfLypUsWXzoQPq6bdVKYP5A+pI0HAZkSZKmU/dxyVmDCbULj7ppIP1IGh6nWEiSJEkNA7IkSZLUMCBLkiRJDQOyJEmS1DAgS5IkSY2hBuQkj0/yqSQ3Jbkxya8n2SPJZUm+398/oVn/1CQ3J/lekhc17Yclua5/7owkGWbdkiRJ2n4NewT5A8AXquqpwCHAjcApwOVVdRBwef+YJAuB44GnAYuBDybZoe/nQ8DJwEH9bfGQ65YkSdJ2amjnQU6yO/CbwIkAVXUfcF+SY4Aj+9XOAa4A3gkcA5xfVfcCtya5GTg8yRiwe1Vd2fd7LnAscOmwapckbVnLTjyO8bVjA+vPi3FI2hzDvFDIk4F1wD8kOQT4JvBmYK+qugOgqu5IMq9ffz5wVbP96r7t5/3yxPaHSXIy3UgzT3rSkwb3SiRJQzW+dmxgF+IAL8YhafMMc4rFHOBQ4ENV9UzgZ/TTKaYw2bzi2kj7wxurzqyqRVW1aO7cuZtaryRJkjTUgLwaWF1VX+8ff4ouMN+ZZB+A/n68WX//Zvv9gDV9+36TtEuSJEkDN7SAXFVrgduTPKVvOhq4AbgYWNq3LQUu6pcvBo5PslOSA+kOxru6n46xPskR/dkrTmi2kSRJkgZqmHOQAd4IfDzJo4GVwGvpQvkFSZYBq4BXAFTV9UkuoAvR9wOvr6oH+n5eBywHdqE7OM8D9CRJkjQUQw3IVfVtYNEkTx09xfqnAadN0r4COHigxUmSJEmT8Ep6kiRJUsOALEmSJDUMyJIkSVLDgCxJkiQ1DMiSJElSw4AsSZIkNQzIkiRJUsOALEmSJDUMyJIkSVLDgCxJkiQ1DMiSJElSw4AsSZIkNQzIkiRJUsOALEmSJDUMyJIkSVLDgCxJkiQ1DMiSJElSw4AsSZIkNQzIkiRJUsOALEmSJDUMyJIkSVLDgCxJkiQ1DMiSJElSw4AsSZIkNQzIkiRJUsOALEmSJDUMyJIkSVLDgCxJkiQ1DMiSJElSw4AsSZIkNQzIkiRJUsOALEmSJDUMyJIkSVLDgCxJkiQ1DMiSJElSw4AsSZIkNQzIkiRJUsOALEmSJDXmjLoASZL0yN2yciVLFh86sP7m7b2As5dfOLD+pK2RAVmSpK1Z3cclZ80fWHdLThobWF/S1sopFpIkSVLDgCxJkiQ1nGIhSdpky048jvG1YwPr77ZVK4HBTROQpM1hQJYkbbLxtWMDnfe68KibBtaXJG2uoU6xSDKW5Lok306yom/bI8llSb7f3z+hWf/UJDcn+V6SFzXth/X93JzkjCQZZt2SJEnafm2JOcjPq6pnVNWi/vEpwOVVdRBwef+YJAuB44GnAYuBDybZod/mQ8DJwEH9bfEWqFuSJEnboVEcpHcMcE6/fA5wbNN+flXdW1W3AjcDhyfZB9i9qq6sqgLObbaRJEmSBmrYAbmALyb5ZpKT+7a9quoOgP5+Xt8+H7i92XZ13za/X57Y/jBJTk6yIsmKdevWDfBlSJIkaXsx7IP0nl1Va5LMAy5LsrGjMCabV1wbaX94Y9WZwJkAixYtmnQdSZIkaWOGOoJcVWv6+3HgM8DhwJ39tAn6+/F+9dXA/s3m+wFr+vb9JmmXJEmSBm5oATnJY5I8dsMy8ELgu8DFwNJ+taXARf3yxcDxSXZKciDdwXhX99Mw1ic5oj97xQnNNpIkSdJADXOKxV7AZ/ozss0BPlFVX0jyDeCCJMuAVcArAKrq+iQXADcA9wOvr6oH+r5eBywHdgEu7W+SJEnSwA0tIFfVSuCQSdp/BBw9xTanAadN0r4COHjQNUqSJEkTjeI0b5IkSdKsZUCWJEmSGgZkSZIkqWFAliRJkhoGZEmSJKlhQJYkSZIaBmRJkiSpYUCWJEmSGgZkSZIkqWFAliRJkhoGZEmSJKlhQJYkSZIaBmRJkiSpYUCWJEmSGgZkSZIkqWFAliRJkhoGZEmSJKlhQJYkSZIac0ZdgCRJmj1uWbmSJYsPHVh/8/ZewNnLLxxYf9KWYECWJEkPqvu45Kz5A+tuyUljA+tL2lKcYiFJkiQ1DMiSJElSwykWkrSdWHbicYyvHRtIX7etWgkM7md4SZpNDMiStJ0YXzs2sLmlC4+6aSD9SNJs5BQLSZIkqWFAliRJkhoGZEmSJKlhQJYkSZIaBmRJkiSpYUCWJEmSGgZkSZIkqWFAliRJkhoGZEmSJKlhQJYkSZIaBmRJkiSpYUCWJEmSGgZkSZIkqWFAliRJkhoGZEmSJKlhQJYkSZIaBmRJkiSpYUCWJEmSGgZkSZIkqTH0gJxkhyTfSvK5/vEeSS5L8v3+/gnNuqcmuTnJ95K8qGk/LMl1/XNnJMmw65YkSdL2aUuMIL8ZuLF5fApweVUdBFzePybJQuB44GnAYuCDSXbot/kQcDJwUH9bvAXqliRJ0nZoqAE5yX7AS4APN83HAOf0y+cAxzbt51fVvVV1K3AzcHiSfYDdq+rKqirg3GYbSZIkaaCGPYL818A7gP9o2vaqqjsA+vt5fft84PZmvdV92/x+eWL7wyQ5OcmKJCvWrVs3kBcgSZKk7cvQAnKSlwLjVfXNmW4ySVttpP3hjVVnVtWiqlo0d+7cGe5WkiRJetCcIfb9bOBlSX4L2BnYPcnHgDuT7FNVd/TTJ8b79VcD+zfb7wes6dv3m6RdkiRJGrihjSBX1alVtV9VLaA7+O6fqur3gIuBpf1qS4GL+uWLgeOT7JTkQLqD8a7up2GsT3JEf/aKE5ptJEmSpIEa5gjyVE4HLkiyDFgFvAKgqq5PcgFwA3A/8PqqeqDf5nXAcmAX4NL+JkmSJA3cFgnIVXUFcEW//CPg6CnWOw04bZL2FcDBw6tQkiRJ6sxoikUSw6kkSZK2CzOdg/x3Sa5O8l+TPH6YBUmSJEmjNKOAXFXPAV5Nd5aJFUk+keQFQ61MkiRJGoEZn8Wiqr4PvBt4J/Bc4IwkNyU5bljFSZIkSVvaTOcgPz3JXwE3AkcBS6rqV/vlvxpifZIkSdIWNdOzWPwNcBbwrqq6Z0NjVa1J8u6hVCZJ27llJx7H+NqxgfV326qVwPyB9SdJ26qZBuTfAu7ZcF7iJI8Cdq6qf6uqjw6tOknajo2vHeOSswYXaBceddPA+pKkbdlM5yB/ie4iHRvs2rdJkiRJ25SZBuSdq+ruDQ/65V2HU5IkSZI0OjMNyD9LcuiGB0kOA+7ZyPqSJEnSVmmmc5DfAnwyyZr+8T7AK4dSkSRJkjRCMwrIVfWNJE8FngIEuKmqfj7UyiRJkqQRmOkIMsCzgAX9Ns9MQlWdO5SqJEmSpBGZUUBO8lHgl4BvAw/0zQUYkCVJkrRNmekI8iJgYVXVMIuRJEmSRm2mZ7H4LrD3MAuRJEmSZoOZjiDvCdyQ5Grg3g2NVfWyoVQlSZIkjchMA/L7hlmEJEmSNFvM9DRvX05yAHBQVX0pya7ADsMtTZIkSdryZjQHOclJwKeAv++b5gOfHVJNkiRJ0sjM9CC91wPPBu4CqKrvA/OGVZQkSZI0KjMNyPdW1X0bHiSZQ3ceZEmSJGmbMtOA/OUk7wJ2SfIC4JPAJcMrS5IkSRqNmQbkU4B1wHXAHwKfB949rKIkSZKkUZnpWSz+Azirv0mSJEnbrBkF5CS3Msmc46p68sArkiRJkkZophcKWdQs7wy8Athj8OVIkiRJozWjOchV9aPm9oOq+mvgqOGWJkmSJG15M51icWjz8FF0I8qPHUpFkiRJ0gjNdIrFXzbL9wNjwO8MvBpJkiRpxGZ6FovnDbsQSZIkaTaY6RSLt23s+ap6/2DKkSRJkkZrU85i8Szg4v7xEuArwO3DKEqSJEkalZkG5D2BQ6tqPUCS9wGfrKo/GFZhkiRJ0ijMNCA/CbiveXwfsGDg1UiSpG3KLStXsmTxodOvOAPz9l7A2csvHEhf0sbMNCB/FLg6yWforqj3cuDcoVUlSZK2DXUfl5w1fyBdLTlpbCD9SNOZ6VksTktyKfAbfdNrq+pbwytLkiRJGo0ZXUmvtytwV1V9AFid5MAh1SRJkiSNzIwCcpL3Au8ETu2bdgQ+NqyiJEmSpFGZ6Qjyy4GXAT8DqKo1eKlpSZIkbYNmGpDvq6qiO0CPJI8ZXkmSJEnS6Mw0IF+Q5O+Bxyc5CfgScNbwypIkSZJGY9qzWCQJ8I/AU4G7gKcAf1xVlw25NkmSJGmLmzYgV1Ul+WxVHQYYiiVJkrRNm+kUi6uSPGtTOk6yc5Krk3wnyfVJ/qRv3yPJZUm+398/odnm1CQ3J/lekhc17Yclua5/7ox+VFuSJEkauJkG5OfRheRbklzbh9Vrp9nmXuCoqjoEeAawOMkRwCnA5VV1EHB5/5gkC4HjgacBi4EPJtmh7+tDwMnAQf1t8UxfoCRJkrQpNjrFIsmTqmoV8OJN7bg/68Xd/cMd+1sBxwBH9u3nAFfQnWP5GOD8qroXuDXJzcDhScaA3avqyr6mc4FjgUs3tSZJkiRpOtONIH8WoKpuA95fVbe1t+k6T7JDkm8D48BlVfV1YK+quqPv9w5gXr/6fOD2ZvPVfdv8fnli+2T7OznJiiQr1q1bN115kiRJ0sNMF5Dbub5P3tTOq+qBqnoGsB/daPDBM9zXL7rYSPtk+zuzqhZV1aK5c+duarmSJEnStAG5pljeJFX1E7qpFIuBO5PsA9Dfj/errQb2bzbbD1jTt+83SbskSZI0cNMF5EOS3JVkPfD0fvmuJOuT3LWxDZPMTfL4fnkX4PnATcDFwNJ+taXARf3yxcDxSXZKciDdwXhX99Mw1ic5oj97xQnNNpIkSdJAbfQgvaraYWPPT2Mf4Jz+TBSPAi6oqs8luZLuynzLgFXAK/p9XZ/kAuAG4H7g9VX1QN/X64DlwC50B+d5gJ4kSZKGYtoLhTxSVXUt8MxJ2n8EHD3FNqcBp03SvgLY2PxlSRq5ZScex/jasYH1d9uqlUxxTLIkaYiGFpAlaXszvnaMS84aXKBdeNRNA+tLkjRzBmRJkrRVuGXlSpYsPnRg/c3bewFnL79wYP1p22FAliRJW4e6b6C/0iw5aWxgfWnbMtNLTUuSJEnbBQOyJEmS1DAgS5IkSQ0DsiRJktQwIEuSJEkNA7IkSZLUMCBLkiRJDQOyJEmS1DAgS5IkSQ0DsiRJktQwIEuSJEkNA7IkSZLUMCBLkiRJDQOyJEmS1DAgS5IkSY05oy5AkkZl2YnHMb52bGD93bZqJTB/YP1JkkbDgCxpuzW+doxLzhpcoF141E0D60uSNDpOsZAkSZIaBmRJkiSpYUCWJEmSGgZkSZIkqWFAliRJkhoGZEmSJKlhQJYkSZIaBmRJkiSpYUCWJEmSGgZkSZIkqWFAliRJkhoGZEmSJKlhQJYkSZIaBmRJkiSpYUCWJEmSGgZkSZIkqWFAliRJkhoGZEmSJKlhQJYkSZIaBmRJkiSpYUCWJEmSGgZkSZIkqWFAliRJkhpDC8hJ9k/yz0luTHJ9kjf37XskuSzJ9/v7JzTbnJrk5iTfS/Kipv2wJNf1z52RJMOqW5IkSdu3OUPs+37g7VV1TZLHAt9MchlwInB5VZ2e5BTgFOCdSRYCxwNPA/YFvpTkV6rqAeBDwMnAVcDngcXApUOsXdIstezE4xhfOzaQvm5btRKYP5C+JEnbjqEF5Kq6A7ijX16f5Ea6f4mOAY7sVzsHuAJ4Z99+flXdC9ya5Gbg8CRjwO5VdSVAknOBYzEgS9ul8bVjXHLWYELtwqNuGkg/kqRtyxaZg5xkAfBM4OvAXn143hCi5/WrzQdubzZb3bfN75cntkuSJEkDN/SAnGQ34NPAW6rqro2tOklbbaR9sn2dnGRFkhXr1q3b9GIlSZK03RtqQE6yI104/nhVXdg335lkn/75fYDxvn01sH+z+X7Amr59v0naH6aqzqyqRVW1aO7cuYN7IZIkSdpuDPMsFgHOBm6sqvc3T10MLO2XlwIXNe3HJ9kpyYHAQcDV/TSM9UmO6Ps8odlGkiRJGqhhnsXi2cBrgOuSfLtvexdwOnBBkmXAKuAVAFV1fZILgBvozoDx+v4MFgCvA5YDu9AdnOcBepIkabPcsnIlSxYfOrD+5u29gLOXXzj9ipr1hnkWi68x+fxhgKOn2OY04LRJ2lcABw+uOkmStN2r+wZ2VhyAJSeNDawvjZZX0pMkSZIaBmRJkiSpYUCWJEmSGgZkSZIkqWFAliRJkhoGZEmSJKlhQJYkSZIaBmRJkiSpYUCWJEmSGgZkSZIkqWFAliRJkhoGZEmSJKlhQJYkSZIaBmRJkiSpMWfUBUjati078TjG144NrL/bVq0E5g+sP0mSJjIgSxqq8bVjXHLW4ALtwqNuGlhfkiRNxikWkiRJUsOALEmSJDUMyJIkSVLDgCxJkiQ1DMiSJElSw4AsSZIkNQzIkiRJUsOALEmSJDUMyJIkSVLDgCxJkiQ1DMiSJElSY86oC5AkSdoW3LJyJUsWHzqw/ubtvYCzl184sP40cwZkSZKkQaj7uOSs+QPrbslJYwPrS5vGKRaSJElSw4AsSZIkNZxiIekhlp14HONrxwbW322rVgKD+8lRkqRhMyBLeojxtWMDnUO38KibBtaXJElbglMsJEmSpIYBWZIkSWoYkCVJkqSGAVmSJElqGJAlSZKkhgFZkiRJahiQJUmSpIbnQZa2cl7YQ5KkwTIgS1s5L+whSdJgOcVCkiRJahiQJUmSpMbQAnKSjyQZT/Ldpm2PJJcl+X5//4TmuVOT3Jzke0le1LQfluS6/rkzkmRYNUuSJEnDHEFeDiye0HYKcHlVHQRc3j8myULgeOBp/TYfTLJDv82HgJOBg/rbxD4lSZKkgRlaQK6qrwA/ntB8DHBOv3wOcGzTfn5V3VtVtwI3A4cn2QfYvaqurKoCzm22kSRJkgZuS89B3quq7gDo7+f17fOB25v1Vvdt8/vlie2TSnJykhVJVqxbt26ghUuSJGn7MFsO0ptsXnFtpH1SVXVmVS2qqkVz584dWHGSJEnafmzpgHxnP22C/n68b18N7N+stx+wpm/fb5J2SZIkaSi2dEC+GFjaLy8FLmraj0+yU5ID6Q7Gu7qfhrE+yRH92StOaLaRJEmSBm5oV9JLch5wJLBnktXAe4HTgQuSLANWAa8AqKrrk1wA3ADcD7y+qh7ou3od3RkxdgEu7W+SJEnSUAwtIFfVq6Z46ugp1j8NOG2S9hXAwQMsTZIkSZrSbDlIT5IkSZoVDMiSJElSw4AsSZIkNYY2B1nS1JadeBzja8cG0tdtq1aykevnSJKkTWRAlkZgfO0Yl5w1mFC78KibBtKPJEnqOMVCkiRJajiCLEmSNAvdsnIlSxYfOpC+5u29gLOXXziQvrYHBmRJkqTZqO4b2HS8JSeNDaSf7YVTLCRJkqSGAVmSJElqGJAlSZKkhgFZkiRJahiQJUmSpIZnsZBmYJBXvgOvfidJ0mxmQJZmYJBXvgOvfidJ0mzmFAtJkiSpYUCWJEmSGgZkSZIkqWFAliRJkhoGZEmSJKlhQJYkSZIaBmRJkiSpYUCWJEmSGgZkSZIkqeGV9LRN8tLQkiTpkTIga5vkpaElSdIj5RQLSZIkqWFAliRJkhoGZEmSJKlhQJYkSZIaHqSnWcGzTkiSpNnCgKxZwbNOSJKk2cIpFpIkSVLDgCxJkiQ1DMiSJElSw4AsSZIkNQzIkiRJUsOzWOgRG+Sp2TwtmyRJmi0MyHrEBnlqNk/LJknS8NyyciVLFh86sP7m7b2As5dfOLD+ZhsDsiRJ0rau7hvo9QaWnDQ2sL5mIwPyAA36anCD/uvMq9VJkiRNz4A8QIO+Gtyg/zrzanWSJEnTMyDPYoOeL+SIryRJ0vQMyLPZgOcLOeIrSZI0va0mICdZDHwA2AH4cFWdPuKSJEmStkvb+lkxtoqAnGQH4G+BFwCrgW8kubiqbhhtZZIkSduhbfysGFvLlfQOB26uqpVVdR9wPnDMiGuSJEnSNihVNeoappXkt4HFVfUH/ePXAL9WVW+YsN7JwMn9w6cA39uihWqDPYEfjroIzRp+H9Ty+6AN/C6oNarvwwFVNXdi41YxxQLIJG0PS/ZVdSZw5vDL0cYkWVFVi0Zdh2YHvw9q+X3QBn4X1Jpt34etZYrFamD/5vF+wJoR1SJJkqRt2NYSkL8BHJTkwCSPBo4HLh5xTZIkSdoGbRVTLKrq/iRvAP433WnePlJV14+4LE3NaS5q+X1Qy++DNvC7oNas+j5sFQfpSZIkSVvK1jLFQpIkSdoiDMiSJElSw4CsgUmyf5J/TnJjkuuTvHnUNWm0kuyQ5FtJPjfqWjRaSR6f5FNJbur/H/Hro65Jo5Pkrf2/E99Ncl6SnUddk7acJB9JMp7ku03bHkkuS/L9/v4Jo6zRgKxBuh94e1X9KnAE8PokC0dck0brzcCNoy5Cs8IHgC9U1VOBQ/B7sd1KMh94E7Coqg6mO/j++NFWpS1sObB4QtspwOVVdRBwef94ZAzIGpiquqOqrumX19P9Azi4C7Vrq5JkP+AlwIdHXYtGK8nuwG8CZwNU1X1V9ZORFqVRmwPskmQOsCte22C7UlVfAX48ofkY4Jx++Rzg2C1Z00QGZA1FkgXAM4Gvj7gUjc5fA+8A/mPEdWj0ngysA/6hn3Lz4SSPGXVRGo2q+gHwF8Aq4A7gp1X1xdFWpVlgr6q6A7oBN2DeKIsxIGvgkuwGfBp4S1XdNep6tOUleSkwXlXfHHUtmhXmAIcCH6qqZwI/Y8Q/n2p0+rmlxwAHAvsCj0nye6OtSnooA7IGKsmOdOH441V14ajr0cg8G3hZkjHgfOCoJB8bbUkaodXA6qra8IvSp+gCs7ZPzwdurap1VfVz4ELgP424Jo3enUn2Aejvx0dZjAFZA5MkdHMMb6yq94+6Ho1OVZ1aVftV1QK6g2/+qaocIdpOVdVa4PYkT+mbjgZuGGFJGq1VwBFJdu3/3TgaD9oUXAws7ZeXAheNsJat41LT2mo8G3gNcF2Sb/dt76qqz4+uJEmzxBuBjyd5NLASeO2I69GIVNXXk3wKuIbu7EffYpZdZljDleQ84EhgzySrgfcCpwMXJFlG90fUK0ZXoZealiRJkh7CKRaSJElSw4AsSZIkNQzIkiRJUsOALEmSJDUMyJIkSVLDgCxJQ5Dk5UkqyVNHXct0kowluS7JtUm+nOSAadZfkOR3m8eLkpwx/EolacswIEvScLwK+BrdhVI2W5IdBtHPRjyvqp4OXAG8e5p1FwC/CMhVtaKq3jS80iRpyzIgS9KAJdmN7sI5y+gDcpIXJ7mgWefIJJf0yy9McmWSa5J8st9+w8juHyf5GvCKJCcl+UaS7yT5dJJd+/V+KclV/XN/muTuZj//V99+bZI/mUH5VwLz+20XJPlqX9c1STZcDvh04DeSfDvJW/vX8rl+m/cl+UiSK5KsTPKL4JzkPUluSnJZkvOS/LdH+h5L0jAZkCVp8I4FvlBV/wL8OMmhwGV0l9d9TL/OK4F/TLIn3Yjt86vqUGAF8Lamr3+vqudU1fnAhVX1rKo6hO7SvMv6dT4AfKCqngWs2bBhkhcCBwGHA88ADkvym9PUvhj4bL88Drygr+uVwIZpFKcAX62qZ1TVX03Sx1OBF/X7fW+SHZMsAv4z8EzgOGDRNHVI0sgYkCVp8F4FnN8vnw+8qqruB74ALEkyB3gJcBFwBLAQ+P/6S7QvBdo5wP/YLB/cj+heB7waeFrf/uvAJ/vlTzTrv7C/fYvusr5PpQvMk/nnJOPA85s+dgTO6vf3yb7OmfhfVXVvVf2QLmTvBTwHuKiq7qmq9cAlM+xLkra4OaMuQJK2JUmeCBxFF2YL2AGoJO+gC7uvB34MfKOq1icJcFlVvWqKLn/WLC8Hjq2q7yQ5EThyunKA/15Vfz+D0p/X72s58Kd0o9hvBe4EDqEbUPn3GfQDcG+z/ADdvzWZ4baSNHKOIEvSYP02cG5VHVBVC6pqf+BWuhHUK4BDgZN4cGT4KuDZSX4ZIMmuSX5lir4fC9yRZEe6EeQNrqKbvgAPPSjwfwO/38xpnp9k3lSFV9U9wFuAE5LsATwOuKOq/gN4DV3YB1jf17IpvkY3er5zX89LNnF7SdpiDMiSNFivAj4zoe3TwO9W1QPA54AX9/dU1TrgROC8JNfShd2pTg33HuDrdPOZb2ra3wK8LcnVwD7AT/u+v0g3XeLKfprEp5gm2FbVHcB5dCPdHwSWJrkK+BUeHM2+Fri/P1jwrRvrr+n3G8DFwHeAC+nmWv90JttK0paWqhp1DZKkzdCfzeKeqqokx9PNeT5m1HVNlGS3qrq7r/crwMlVdc2o65KkiZyDLElbv8OAv+nnM/8E+P3RljOlM5MsBHYGzjEcS5qtHEGWJEmSGs5BliRJkhoGZEmSJKlhQJYkSZIaBmRJkiSpYUCWJEmSGv8/57hYQ7tJsrUAAAAASUVORK5CYII=",
      "text/plain": [
       "<Figure size 720x432 with 1 Axes>"
      ]
     },
     "metadata": {
      "needs_background": "light"
     },
     "output_type": "display_data"
    },
    {
     "name": "stdout",
     "output_type": "stream",
     "text": [
      "IMDB Average Ratings Summary:\n",
      "count    73052.000000\n",
      "mean         6.330930\n",
      "std          1.474699\n",
      "min          1.000000\n",
      "25%          5.500000\n",
      "50%          6.500000\n",
      "75%          7.400000\n",
      "max         10.000000\n",
      "Name: averagerating, dtype: float64\n"
     ]
    }
   ],
   "source": [
    "#  IMDB Average Ratings Distribution\n",
    "plt.figure(figsize=(10, 6))\n",
    "plt.hist(movies_df['averagerating'], bins=30, alpha=0.7, color='gold', edgecolor='black')\n",
    "plt.title('Distribution of IMDB Average Ratings')\n",
    "plt.xlabel('Average Rating')\n",
    "plt.ylabel('Frequency')\n",
    "plt.tight_layout()\n",
    "plt.show()\n",
    "\n",
    "# Summary statistics\n",
    "print(\"IMDB Average Ratings Summary:\")\n",
    "print(movies_df['averagerating'].describe())"
   ]
  },
  {
   "cell_type": "markdown",
   "metadata": {},
   "source": [
    "### 3. CATEGORICAL VARIABLES ANALYSIS"
   ]
  },
  {
   "cell_type": "code",
   "execution_count": 139,
   "metadata": {},
   "outputs": [
    {
     "name": "stdout",
     "output_type": "stream",
     "text": [
      "Top 10 Genres:\n",
      "Drama          30788\n",
      "Documentary    17753\n",
      "Comedy         17290\n",
      "Thriller        8217\n",
      "Horror          7674\n",
      "Action          6988\n",
      "Romance         6589\n",
      "Crime           4611\n",
      "Adventure       3817\n",
      "Biography       3809\n",
      "Name: genres, dtype: int64\n"
     ]
    },
    {
     "data": {
      "image/png": "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",
      "text/plain": [
       "<Figure size 864x576 with 1 Axes>"
      ]
     },
     "metadata": {
      "needs_background": "light"
     },
     "output_type": "display_data"
    }
   ],
   "source": [
    "#  Genre Distribution (from IMDB data)\n",
    "# Split genres and count occurrences\n",
    "genre_counts = movies_df['genres'].str.split(',').explode().value_counts().head(15)\n",
    "\n",
    "# Summary\n",
    "print(\"Top 10 Genres:\")\n",
    "print(genre_counts.head(10)) \n",
    "\n",
    "plt.figure(figsize=(12, 8))\n",
    "genre_counts.plot(kind='barh', color='steelblue')\n",
    "plt.title('Top 15 Movie Genres Distribution')\n",
    "plt.xlabel('Number of Movies')\n",
    "plt.ylabel('Genres')\n",
    "plt.tight_layout()\n",
    "plt.show()\n",
    "\n"
   ]
  },
  {
   "cell_type": "code",
   "execution_count": 140,
   "metadata": {},
   "outputs": [
    {
     "data": {
      "image/png": "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",
      "text/plain": [
       "<Figure size 720x432 with 1 Axes>"
      ]
     },
     "metadata": {
      "needs_background": "light"
     },
     "output_type": "display_data"
    },
    {
     "name": "stdout",
     "output_type": "stream",
     "text": [
      "Maturity Rating Distribution:\n",
      "R        520\n",
      "NR       499\n",
      "PG       240\n",
      "PG-13    235\n",
      "G         57\n",
      "NC17       1\n",
      "Name: maturity_rating, dtype: int64\n"
     ]
    }
   ],
   "source": [
    "#  Maturity Rating Distribution (from Rotten Tomatoes data)\n",
    "plt.figure(figsize=(10, 6))\n",
    "rating_counts = rt_movies_df['maturity_rating'].value_counts()\n",
    "rating_counts.plot(kind='bar', color='orange', alpha=0.7)\n",
    "plt.title('Distribution of Movie Maturity Ratings')\n",
    "plt.xlabel('Maturity Rating')\n",
    "plt.ylabel('Number of Movies')\n",
    "plt.xticks(rotation=45)\n",
    "plt.tight_layout()\n",
    "plt.show()\n",
    "\n",
    "# Summary\n",
    "print(\"Maturity Rating Distribution:\")\n",
    "print(rating_counts)"
   ]
  },
  {
   "cell_type": "markdown",
   "metadata": {},
   "source": [
    "### Release Year distribution\n"
   ]
  },
  {
   "cell_type": "code",
   "execution_count": 141,
   "metadata": {},
   "outputs": [
    {
     "data": {
      "image/png": "iVBORw0KGgoAAAANSUhEUgAAA+gAAAGoCAYAAADVZM+hAAAAOXRFWHRTb2Z0d2FyZQBNYXRwbG90bGliIHZlcnNpb24zLjMuMSwgaHR0cHM6Ly9tYXRwbG90bGliLm9yZy/d3fzzAAAACXBIWXMAAAsTAAALEwEAmpwYAABX20lEQVR4nO3dd3yc1ZX/8e+R5N5tuctgG9zkCpiaQu8Ym245hU3YkABpG7K/QJJNNpuw6dkNYSFhk01IkWxasA2mxaGHQGwDLrLl3qtc5N6k8/vjeUYe9bGtmWdG83m/XvPSzH3KnJm5lnXm3nsec3cBAAAAAIBo5UQdAAAAAAAAIEEHAAAAACAtkKADAAAAAJAGSNABAAAAAEgDJOgAAAAAAKQBEnQAAAAAANIACToAoElm9jsz+15Ez21m9lsz22lm70YUw/NmdnsUz12fKD+P+pjZP5nZmw1sG2hmbmZ5qY6rOZlZiZlNijqOTGRmr5rZPzexTxszW2JmvVIVFwCkIxJ0AMhAZrbazLaYWYe4tn82s1cjDCtZPizpckkF7n5O7Y1hcuhm9rNa7ZPC9t+dbADufrW7P3ay54kXJi0HzWyvmZWb2dNm1rc5n6MlMbPLwz6fH9fWxswWm9lnk/zcYySNlTQ9fHytmb1pZrvMbLOZ/a+ZdaoV1/+Z2e5w+1dqnW+cmc01s/3hz3G1tv9LeFxFeJ42yXx96cDdD0n6P0lfizoWAIgSCToAZK48SV+KOojjZWa5x3nIqZJWu/u+RvZZIem2WqO0n5S09HjjS7HPu3tHSadL6ijpJxHHk7bc/WVJz0r6eVzzNyVtkvRoczxHI6P8n5X0J3f38HEXSd+T1E/SCEkFkn4ct/+/SxqioO9eLOn/mdlV4XO0VpDo/1FSN0mPSZoetsvMrpR0n6RLJQ2UNFjSd5rj9SVbONvlZP62LJZ0ezZ8IQEADSFBB4DM9WNJXzWzrrU31DetOH6aaTjq/JaZ/Vc4CrjSzC4I29eZ2dZ6pnTnm9nLZrbHzF4zs1Pjzj083LbDzMrM7Na4bb8zs0fMbJaZ7VOQsNSOt5+ZzQiPX25mnwnb75D0a0nnhyPNDSUqmyUtkHRleFx3SRdImlHrea43s0Xha37VzEaE7feZ2ZO19v25mT1Y+70LH386HLndaWYvxt6LMEH5r/D9qzCz+WY2qoGYq7n7LknPSBqXyHtaz/t3nZm9H76uv4UjvrFt95nZivBzKzWzG+K2nR5+lhUWjOJPS+T5zaxH+HnttmDZwWlNvUZJnzazjWa2yczuDc/TJxxF7hF37rPMbJuZtarnHF+RdKEFI9ijJH1e0mckdTaz34Tn3mBm34t9EWRmp5nZX81se/ga/xT/b8aC2ShfM7P5kvZZ/Un61ZJeiz1w92J3f8Hd97v7Tkn/K+lDcft/UtJ33X2nuy8Ot/9TuO0iBV+u/be7H3L3ByWZpEvC7bdL+o27LwrP/d24Y+sI/93+I/wM/2FmF8Rte9XMvhv+W99jZi9ZOAPBzB6L+xz6W/D74u7w8enh525m1s3Mng0/k53h/YJaz/GAmb0lab+kwRbMdlgSxvRQ+PoUd+56+5y7r5e0U9J5Db1eAGjpSNABIHPNkfSqpK+e4PHnSpovqYeCkaupks5WMJr7cUkPmVnHuP0/piBZyJf0vqQ/SZIF0+xfDs/RS1KRpIfNbGTcsVMkPSCpk6T61iqXSFqvYETyZkn/aWaXuvtvJH1O0tvu3tHdv93I6/m9gsRIkiYrGKU8FNtoZkPD5/mypJ6SZkmaacHIZYmka8ysc7hvrqRbw9dUgwXrkL8u6cbwPG+Ex0vSFZI+KmmopK6SbpO0vZGYY+fsEZ5vefg4kfc0duyZCqYGf1bBZ/krSTPs2CjkCkkfUTDq+x1Jf7RjU+m/K+klBSO5BZJ+keDz/4+kg5L6Svp0eGvKxQpGla+QdJ+ZXebumxX04fgvHz4uaaq7H6l9AnevkHSXpF+Gr/k77r5CwSj0UQV994zwOWJfqJik7+vYaPcABSPc8YokXSupq7sfjd8QvheDJJU18to+KmlRuH+38Lk+iNv+gaTYezdS0vy40Xgp+HcYv732sb3jv8SIi627pOckPajgs/+ZpOdq7TtF0qcUfI6tdez3xWsKviyQpAslrQx/xl7PG2GMOZJ+q2A2wCmSDkh6qFYon5B0p4J/3xWSnlIwuyFfQf+L//Ki3j4XZ7GC5QQAkJVI0AEgs31L0hfMrOcJHLvK3X/r7pWSpilIXP4jHNV7SdJhBQlPzHPu/nq4VvQbCka1B0i6TsEU9N+6+1F3n6fgD/Sb446d7u5vuXuVux+MDyI8x4clfc3dD7r7+wpGzT9xnK/nz5IuMrMuChL139faflv4Gl4Ok7+fSGon6QJ3XyNpnqRJ4b6XSNrv7n+v53k+K+n77r44TOb+U9I4C0bRjyhIUoZLsnCfTY3E/KCZVUgqV5DMfCFsT+Q9jfmMpF+5+zvuXhmulT+kcBTS3Z9w943hez9N0jJJsbX8RxQkXv3C9z725UmDzx9+eXGTpG+5+z53X6ggQW7Kd8L9FyhI+IrC9scUJOWxL0aKJP2hoZO4+0xJf1fwN8yDZtZbwQj3l8Pzb5X0Xwq+pJG7Lw8/80Puvk1BEnthrdM+6O7r3P1APU/ZNfy5p754zOxyBaPe3wqbYl9qVcTtVqGgX8S2x29ranvsfifVda2kZe7+h/BzKpG0RNKEuH1+6+5Lw9f2uI7N0nhN0kcsmJL+UUk/0rFE+sJwu9x9u7s/Fc4W2KPgi7ba79/vwhH/owo+i1J3fzL8d/bfCma4xDTU52L26Nh7DgBZhwQdADJYmBw9q2DN6vHaEnf/QHi+2m3xI+jr4p53r6QdCkYKT5V0rgXTq3eZ2S4Fo+196ju2Hv0k7Qj/+I9ZI6l/4i9FChOQ5xSO3Ln7W/U8z5q4/avCuGLPU6xjSeMU1TN6HjpV0s/jXusOBaO0/d39rwpGF/9H0hYzezQ2Kt+AL7p7F0ljdGxEMfYcTb2n8fHcW2vfAeHrlZl90o5Nf98laZSCLwMk6f+Fsb9rwdT/T8eds6Hn76lginb8Z7pGTau9f7/w/nRJhWY2WEExwAp3b6pa/yJJS8LP8FRJrSRtiov1VwpGjGVmvcxsajj1fbeCtd/5tc7XWP/cFf6skyCb2XkK+snN7h6rd7A3/Bn/uXfWsQR/b61tTW2P3a/vC4IafTpU+99OfHK8X+G/6XDmwV4FCftHFPwe2WhmwxSXoJtZezP7lZmtCd+/1yV1tZq1JOLfv36q+bvCa21vqM/FdNKx9xwAsg4JOgBkvm8rGEWN/6M8VlCtfVxbfcnd8RgQuxNOfe8uaaOCP75fc/eucbeO7n5X3LGuhm2U1N3iqmArmEq74QRi/L2ke1X/COxGBclc7DWYgtcUe54nFIzAF0i6QQ0n6OskfbbW623n7n+TJHd/0N3PUjBVeaikf20q6HBU+XuS/ieMK5H3ND6eB2rt297dS8JR/f9VsFa7h7t3lbRQ4Zpgd9/s7p9x934KZgY8bGanN/H82xRMJx8QF8MpTb3GevbfGMZwUMHI7scUzJpocPS8AesUzBjIj4u1s7vHpox/X0H/G+PunRWM1lutczTYPz0oTrhCwWdZzczOUFDj4NPuPjtu/50KCtfFT9Meq3AKfPhzTPg5x4yptb32sVvcvb6lEjX6dOh4/u28pmBWRmt33xA+/qSCL4veD/e5V9IwSeeG799Hw/b4+OPfv02q+bvC4h830udiRqjmFH8AyCok6ACQ4dx9uYIp6l+Ma9um4I/0j5tZbjhKlUghr8ZcY2YfDtdsf1fSO+6+TsHI21Az+4SZtQpvZ1tYgC2B+NdJ+puk75tZWwsKnN2hcI37cXpNwShs7XWtUpAEXmtml1pQgOxeBYldLLHepmA99G8VTP9f3MBz/FLS/bH12GbWxcxuCe+fbWbnhuffp2CddmWCsT+mYNT3eh3fe/q/kj4XPq+ZWQcLiqh1ktRBQfK0LYzvUwpG0BU+vsWOFfzaGe5b2djze7Ak4mlJ/x6OrhYqmOLdlH8L9x+pYE30tLhtv1dQCO16BSPcCQuXELwk6adm1tnMciwoDBebht1JwUjxLjPrrwS+MKnHLMVN67agQN0Lkr4QTrmv7feSvmlBgbXhCr5A+1247VUF7/EXLbgc2+fD9r/GHXuHmRWG69m/GXdsfXENNbMpZpZnZrdJKlTw+SXiNQVf3rweF9sXJL0Zfs5S8P4dUPD+dVfwhWBjnpM00sxutKDg3hcV9+VgI31O4efTXcESBgDISiToANAy/IeCZCzeZxQkI9sVjOb+7SSfo1jBH+c7JJ2lYMRT4dT0KxSs+d2oYErtDyUdz6WSihRcUmqjgrXk3/bgslrHxQOz3X1HPdvKFIye/kLBmu8Jkia4++G43YolXaaGR8/l7n9W8PqmhlN+FypYdysF05H/V0HisUbBe5/QpdPCOB6U9G/H8566+xwFn/VD4fMuV1j1291LJf1U0tsKljSMlhQ/9f9sSe+Y2V4Fo8FfcvdVCTz/5xVMld6sIHn8bQIv8bUwttmSfuJBnYPYa3hLUpWkee6+OoFz1fZJBQXQShW8B08qKGAnBYXxzlSwlvs5BV8uHK9HJX0sbtT7XgVT/X9jwdUF9prZorj9v61g1H2Ngtf9Y3d/Qar+nCeFMe9SUGBvUqwfhvv9SNIr4fFr1EBSHI6qXxfGs13B9PHr3L08wdf1moIEPJagv6lg1s3rcfv8t4JaDeUKEucXGjth+Ny3SPpBGNMQJdDnwm1TJD3mQZ0LAMhK5t7grC4AAICUMLO/Sip2919HHUt9zKxY0uPu/kzUsbREFlx14ANJH/Wg0B8AZCUSdAAAECkzO1vBZd0G1CoWCABAVmGKOwAAiIyZPSbpLwouk0ZyDgDIaoygAwAAAACQBhhBBwAAAAAgDeRFHUCy5Ofn+8CBA6MOo0lHjx5VXl6L/RiAetHvkY3o98hG9HtkI/o9EjF37txyd+9Zu73F9pyBAwdqzpw5UYfRpPLycuXn50cdBpBS9HtkI/o9shH9HtmIfo9EmNma+tqZ4g4AAAAAQBogQQcAAAAAIA2QoAMAAAAAkAZI0AEAAAAASAMk6AAAAAAApAESdAAAAAAA0gAJOgAAAAAAaYAEHQAAAACANECCDgAAAABAGiBBBwAAAAAgDZCgAwAAAACQBkjQAQAAAABIAyToAAAAAACkARJ0AAAAIAO5uyorq3T4cKX27z+iPXsO6b33Nmn48IeUl/cfGjnyYa1cuTPqMAEch7yoAwAAAEDLsnLlTk2YUKKysnING5avmTOLNHhwt4SPDxLPIPk8erRKlZUe/qz7uLFtscepO0/qY27M4sXbNGFCsRYtuudkP1IAKUKCDgAAgBPi7iov369163Zr/frdWreuQuvW7dYvfzlHFRWHJEmlpds0YsT/6JRTuiScgFZVNZ544hgzKS8vR7m5OcrLy9HevYert7lLixeXa82aXTr11K7RBQkgYSToAAAAqMPdtWPHAa1bFyTeQQK+u0Yyvn79bh06VNnkuQ4frtTy5TuO6/lzcixMPK06AY2/X3tb7HFj25o+T3OfL7nnyc3NUU6O1XjfRo58WEuWlFd/yeEuFRY+rP/4j4v0pS+dp7w8VrgC6YwEHQAAIMu4u3buPFgj0a4v+T5w4GiT5+rata0KCjprwIDgVlDQWb/85Vxt2rRH7kGiPWhQV82a9bGEk9PcXJOZNfncqGvmzKLq5QWnndZNp5/eQ7NmLdNXv/qy/vjHBXr00et09tn9ow4TQANI0AEAAFoQd1dFxaEaU86PJeDHkvH9+480ea7OndvUSb4HDOhSfb+goLM6dWpT57iPfWzMSa1Bx4kbPLibFi26u0bbrFnLdPfdz+n99zfr3HN/rXvuOVsPPHCpOneu+9kBiJa5t8w1PuPHj/c5c+ZEHUaTysvLlZ+fH3UYQErR75GN6PdoLrt3H6qRaNeXiMevQ25Ix46t45LuIPGuff9kEzj6ffrYt++w/uM/XtNPf/q2Kitd/fp10oMPXqUbbxzBbIVmRr9HIsxsrruPr93OCDoAAECa2Lv3cK0p53Wnn+/efajJ87Rv36qepLvmCHjnzm1IzLJIhw6t9cMfXq6PfWyM7rxzpt55Z4NuvvkJXXfdUD300NUUkQPSBAk6AABACuzff6TWSHfNUe/163dr166DTZ6nbdu86uQ7fgQ8Pvnu2rUtyTfqNWZMb7311qf16KNzdd99s/Xss0v117+uoogckCZI0AEAAE7SgQNHGp1yvm5dhXbubDr5btMmt8aod33Tz7t3b0fyjZOSm5uju+46W5MmDdeXv/yiHn98EUXkgDRBgg4AANCIgwePasOGhqecr1tXoe3bDzR5ntatc6sLqzVUdC0/vz3JN1Kmb99OmjbtZt1++1iKyAFpggQdAABkrUOHjmrDhj0NTjlft65C27btb/I8rVrlqH//hke9Bwzoovz89nWuWQ2kg2uuGaJFi+6uLiL30EP/0NNPL6GIHBABEnQAANDiVFW53n9/s2677QmtXLlLfft21Mc+NloHDhytMRK+Zcu+Js+Vl5ejfv06xSXdnWqt/+6iXr06kHwjo1FEDkgPJOgAACBtubv27Tui7dv3a/v2A9qx40C992s/3rnzgOKvJLthwx796Ed/q3P+3FxTv36d6kw1j0++e/fuoNxcCmchO1BEDogWCToAAEiJw4crtX37/jCRPlDn/rEku+bjw4crm+X5zaSf/OSKGtPP+/TpSMIB1EIROSA6JOgAAOC4VFW5du062MBIdnzSXfPx3r2HT+j52rXLU48e7dW9ezv16NFOPXq0V48e7Rp4HNzv1q2dxo79pZYsKVdVlSsnxzR8eL6+8pXzm/ndAFouisgBqUeCDgBAlmqu6eOJys21Oon2sfu1Hx9Lutu1a3VCr2/mzCJNmFCisrJyDRuWr5kzi07oPEC2o4gckDok6AAAtACpnj7epUub6iS6dqIdP5Idv61z5zYp/UN+8OBuWrTo7pQ9H9CSxYrITZkyWp/97LMUkQOShAQdAIA0Unv6eMNJd/NOH6+bWNd8XHv6OOu2gew0dmwfisgBSUSCDgBAEq1YsUNXX/0nrVixU/36ddRnPnOWcnIsadPH60+s60+0T2b6OIDsFSsiN3HicP3Lv1BEDmhO5ifyV0AGGD9+vM+ZMyfqMJpUXl6u/Pz8qMMAUop+j5aqqsq1fPkOzZu3qfr2yiurVVV1fP/Xdu3attGCaPVtS/X0cSAR/L7PDrNmLdPddz+nNWsqZCZ9/vPn6HvfuyRri8jR75EIM5vr7uNrtzOCDgDACTh6tEplZeVxyfhmvffeJu3Z0/hUczPp/vs/3GCxNKaPA8g0tYvI/eIX7+qppxbrF7+4WjfcMJwvD4HjQIIOAEATDh+uVGnpNs2du7E6Gf/gg806cOBonX379++kM8/sqzPP7Kuzzuqre+99SStW7Kxxqa8HHrg0glcBAMlTXxG5m256nCJywHEiQQcAIM6BA0e0YMHWGtPUFyzYWm+180GDulYn42ee2VdnnNFHvXt3rLHPyJG9uNQXgKxBETng5LAGPWKsUUE2ot8jXezde1gffLC5elR83rxNWrRoqyor6/7fOHRojzAR7xMm433VvXu7hJ+Lfo9sRL/Pbhs37qkuIidJ48b1yYoicvR7JII16ACArLZr10G9//7mcJp6kIyXlZXXqZiek2MaObJnjWnqY8f2ydpiRwBwovr166Rp027W7beP1d13P6f339+sc8/9ddYXkQMaQ4IOAGhxysv315iiPm/eJq1YsbPOfq1a5WjUqF41pqmPGdNb7dtz6TEAaC6xInLf+c5r+tnPKCIHNIYEHQCQ0TZt2lOjkvrcuRu1bt3uOvu1aZOrsWP7VE9RP/PMvho1qpfatOG/QgBItg4dWutHP7pcH/sYReSAxvBXCQAgI7i71q3bXaOS+rx5m7R58946+3bo0ErjxvWpnqJ+5pl9NXx4vlq1yo0gcgBATKyI3K9+NVf3308ROaA2EnQAQNqpqnKtXLmzzjT17dsP1Nm3S5c2Naaon3lmXw0Z0l25ufyRBwDpKDc3R3fffbYmTRpeXUTuq199WX/844KsKCIHNIYEHQAQqcrKKi1dur06CZ87d5Pee2+zdu8+VGffHj3a6ayz+tWYpj54cDfWLwJABqKIHFBXUhN0M/sXSf8sySUtkPQpSe0lTZM0UNJqSbe6+85w//sl3SGpUtIX3f3FsP0sSb+T1E7SLElf8pZ6fTgAaMGOHKlUaem2GmvG339/s/bvP1Jn3759O9aopH7mmX1VUNCZZBwAWhiKyAHHJC1BN7P+kr4oqdDdD5jZ45ImSyqUNNvdf2Bm90m6T9LXzKww3D5SUj9JfzGzoe5eKekRSXdK+ruCBP0qSc8nK3YAwMk7ePCoFi7cWmOK+vz5W3ToUGWdfU89tUuNKepnnNFHfft2iiBqAEAUKCIHBJI9xT1PUjszO6Jg5HyjpPslXRRuf0zSq5K+JmmipKnufkjSKjNbLukcM1stqbO7vy1JZvZ7SZNEgg4AaWPfvsOaP3+L5s49lowvWrRNR49W1dn39NO7h4l4nzAZ76v8/PYRRA0ASDcUkUO2S1qC7u4bzOwnktZKOiDpJXd/ycx6u/umcJ9NZtYrPKS/ghHymPVh25Hwfu12AEAEKioO6v33N9eopL5kSbmqqmquPDKTRozIrzFFfdy4PurSpW1EkQMAMkF8Ebkvf/kFPfFEKUXkkDWSOcW9m4JR8UGSdkl6wsw+3tgh9bR5I+31PeedCqbCq6CgQOXl5ccTciQqKiqiDgFIOfp95tix46AWLNim+fOD2wcfbNOqVXU/v7y8HI0Y0V1jxvSsvo0cma8OHVrV2O/Ikb0qL697WbRsQL9HNqLf42S0bi09/PDFmjRpkO677/XqInJ33DFaX//6eerUqXXUIdaLfo+Tkcwp7pdJWuXu2yTJzJ6WdIGkLWbWNxw97ytpa7j/ekkD4o4vUDAlfn14v3Z7He7+qKRHJWn8+PGen5/fjC8neTIlTqA50e/Tz5Yte2tMUZ83b5PWrKn7R0br1rkaM6Z3jUrqo0f3Vtu2XBikKfR7ZCP6PU7WlCn5mjhxTHURuV//eoFmzVqd1kXk6Pc4Ucn8a2qtpPPMrL2CKe6XSpojaZ+k2yX9IPw5Pdx/hqRiM/uZgiJxQyS96+6VZrbHzM6T9I6kT0r6RRLjBoAWZ+XKnZowoURlZeUaNqyHfvWrCdq+fX+NaeobN+6pc1y7dnkaN65PjWnqhYU91apVbgSvAgCQrSgih2yRzDXo75jZk5LmSToq6T0Fo9sdJT1uZncoSOJvCfdfFFZ6Lw33vyes4C5Jd+nYZdaeFwXiACAhFRUHtXhxuW66aZo2bdord6m0tFwf+chv6+zbqVPrGpXUzzyzr4YN66HcXAryAADSA0Xk0NJZS72c+Pjx433OnDlRh9Gk8vJypsAg69Dvm195+X4tXrxNpaWxW7kWL96mDRvqjorHXHbZ4BrT1E87rbtyctJvmmBLQb9HNqLfI5k2btxTXUROksaN65MWReTo90iEmc119/G121kwCAAZwt21efPeuCR8mxYvLldp6TZt27a/3mPats3T8OH5Wrlyp/bsOSR3KSfHNHx4D7388idS/AoAAGg+/fp10uOP36Lnnluqe+6ZVV1E7vOfP0ff+94l6ty5TdQhAseNBB0A0kxVlWvduooaCXjsVlFxqN5jOnZsrREj8lVY2FOFhT2r7w8c2FW5uTm11qDna+bMohS/KgAAkuPaa4fqoosGVheR+8Uv3tVTTy1O6yJyQENI0AEgIpWVVVq5cmedJHzJknLt23ek3mO6dWtbJwkvLOypgoLOjf4BMnhwNy1adHeyXgoAAJFqqIjchAlD9dBD1+iUU7pEHSKQEBJ0AEiyw4crtXz5jjpT08vKynXoUGW9x/Tu3aFOEl5Y2FO9enVgJAAAgAbULiI3c2asiNzF+uIXz6WIHNIeCToANJMDB46orGx7mIAHhdpKS7dp+fIdOnq0qt5jBgzorBEjeqqwMD9MyIOkvEeP9imOHgCAliE3N0d33322Jk0aXl1E7t57X9If/jA/LYrIAY0hQQeA47RnzyEtXlweVzU9uL9y5U7Vd2EMs2CKeTAKnh8m5D01fHg+BWwAAEgSisghE5GgA0ADduw4UOPSZbG14uvW7a53/9xc05AhPepMSx86tIfat2+V4ugBAIBEETlkFhJ0AFnN3bV16746SXhp6TZt2bKv3mNat87VsGE9aiThI0bka8iQHmrdOjfFrwAAADSFInLIFCToALKCu2v9+t11kvDFi8u1Y8eBeo9p375V9Wh4/Kj4oEHdKDIDAEAGoogc0h0JOoAWpbKySmvWVNSpmL548Tbt2XO43mO6dGlTb8X0AQO6KCeHaW8AALQkFJFDOiNBB5CRjhyp1IoVO+tMTV+ypFwHDx6t95iePdvXqJgeq5ret29H1p8BAJBlKCKHdESCDiCtHTx4VEuXbq9RMb20dJuWLduuI0fqv3RZv36d6lRMHzEiXz17dkhx9AAAIN1RRA7phAQdQFrYt++wliwpj5uaHkxLX7Fip6qq6rl2maSBA7vWmZo+YkS+unRpm+LoAQBAJosvInfnnc/q3XcpIodokKADSJmVK3fq2mv/pKVLd6h37w665poh2rhxj0pLt2nNmop6j8nJMQ0Z0r1OxfThw/PVoUPrFL8CAADQko0d20d/+xtF5BAdc69/ZCrTjR8/3ufMmRN1GE0qLy9Xfn5+1GEAze7IkUqVlW3XggVbtGDBVi1YsFUvvri8wWnprVrlaOjQHjWS8MLCnhoypIfatuW7RGQ+ft8jG9Hvkck2btxTXUROksaN65NQETn6PRJhZnPdfXztdv7qBXBSYpcvC5LwY8n44sXbGkzGY8ykp566VYWFPTV4cDe1asU1xAEAQHqgiByiQIIOIGEVFQe1cOHWOsn4rl0H691/8OBuGj26V3jrra9/fbZWrdqlqipXTo5p+PB83XDDiBS/CgAAgMRRRA6pRIIOoI76pqcvWLClwXXiPXq00+jRvWsk4yNH9lSnTjW/WR4/vp8mTChRWVm5hg3L18yZRal4OQAAACeFInJIFRJ0IIsd7/T0Nm1yVVjYs0YyPmZMb/Xpk9h1xAcP7qZFi+5mbRYAAMhIFJFDspGgA1mi9vT0+fO3auHCxKenjxnTW6ef3p3/eAAAQFbLzc3R3XefrUmThlcXkbv33pf061/P08GDR7V2bUX1TMHBg7tFHS4yDAk60MLUnp4+f37wc+3ak5ueDgAAgGNqF5FbvLi8etuSJeWaMKFEixbdHWGEyEQk6ECGqj09ff784OeSJeVJmZ4OAACAumJF5Dp1+r5iV7CuqnKVlZU3fiBQDxJ0IAPET0+PjYgzPR0AACA9dOjQWiNG9FRp6TZJwaVkhw2j3g6OHwk6kEbip6fHEvHjmZ4+ZkxvjRzZSx07tk5x5AAAANlt5swiXXjhb7V+/R61aZPH1WpwQkjQgQjET08/lognPj19zJjgJ9PTAQAA0sPgwd1UVvYF9ez5I+3ff1Qem+8OHAcSdCDJYtPT40fEFyzYooqKQ/XuHz89PUjEmZ4OAACQCdq3b6VrrhmsJ59cqpKShfrmNz8adUjIMCToQDOJTU8PEvHjm54eGxFnejoAAEBmu/HGIXryyaUqLl6gb3zjI8x2xHEhQQeOU2x6eu0R8USmp48Z06s6KWd6OgAAQMtz0UUD1KNHOy1eXK7587do7Ng+UYeEDEKCDjSiouJgdQJ+PNPTYyPiTE8HAADILq1a5eqWWwr1y1/OVXHxAhJ0HBcSdEDS4cOVKisrr5OMNzU9PX5EnOnpAAAAkKQpU0brl7+cq6lTF+n7379MOTnMmkRiSNCRdZYv36ErrviDVq/epU6d2qhv345auXJno9PT40fEmZ4OAACAxnzoQ6dowIDOWru2Qn/72zp9+MOnRB0SMgQJOrLCoUNH9de/rtL06WX6zW/e09GjQTK+e/ch7d4dTFcfPLhbXCLO9HQAAACcmJwc0+TJo/TjH/9NxcULSNCRMBJ0tFg7dx7Qc88t0/TpZXrhheXau/dwvfvl5JgqKu5jejoAAACazZQpo/XjH/9NTzxRqp///Cq1apUbdUjIACToaFFWr96l6dOXaPr0Mr3++hpVVnr1trFje2vixGH64x/na/XqClVVuXJyTMOH55OcAwAAoFmNHdtbI0bka/Hicv3lLyt19dVDog4JGYAEHRnN3TV37iZNn75EM2Ys1fz5W6q35eaaLrlkkCZOHKbrrx+mgQO7SpJuv32cJkwoUVlZuYYNy9fMmUURRQ8AAICWysxUVDRK3/rWqyouXkiCjoSQoCPjHD5cqVdeCdaTz5hRpg0b9lRv69ixta6++nRNnDhM11wzRN26tatz/ODB3bRo0d2pDBkAAABZqKhotL71rVf1zDNLtH//EbVv3yrqkJDmSNCREXbtOqhZs4L15M8/v0x79hxbT96/fyddf/0wTZw4TBddNFBt2tCtAQAAEL3TT++uc87pr3ff3aBnn12qW28dGXVISHNkMkhba9bs0vTpZdXryWOV1yVp9OhemjhxmCZOHK6zzurLJc8AAACQloqKRunddzeouHgBCTqaRIKOtOHueu+9zdVF3j74oOZ68osuGli9nnzw4G4RRgoAAAAk5rbbRuorX3lRzz+/XDt3Hqh3CSYQQ4KOSB0+XKnXXltdvZ583brd1ds6dmytq646tp68e3d+mQEAACCz9O3bSZdcMkizZ6/S008v1h13nBl1SEhjJOhIuV27Dur552PryZdr9+5D1dv69u1YvZ784osHqW1buigAAAAyW1HRKM2evUrFxQtJ0NEosh+kxNq1FZoxI1hP/uqrq2usJx85smf1evLx4/spJ4f15AAAAGg5brxxhO6+e5ZeeWWVNm3ao759O0UdEtJU0hJ0MxsmaVpc02BJ35L0+7B9oKTVkm51953hMfdLukNSpaQvuvuLYftZkn4nqZ2kWZK+5O6erNhx8txdH3ywpXo9+Xvvba7elpNjuvDCU6vXk592WvcIIwUAAACSq1u3drrmmiF65pklmjZtkb785fOiDglpKmkJuruXSRonSWaWK2mDpD9Luk/SbHf/gZndFz7+mpkVSposaaSkfpL+YmZD3b1S0iOS7pT0dwUJ+lWSnk9W7DgxR45U6rXX1mj69CWaMWOp1q6tqN7WoUMrXXllsJ782muHqEeP9hFGCgAAAKRWUdEoPfPMEhUXLyBBR4NSNcX9Ukkr3H2NmU2UdFHY/pikVyV9TdJESVPd/ZCkVWa2XNI5ZrZaUmd3f1uSzOz3kiaJBD0t7N59qHo9+axZy1RRcWw9ee/eHarXk1966WDWkwMAACBrXXfdUHXs2Fr/+MdGLV++Q6efzixS1JWqjGmypJLwfm933yRJ7r7JzHqF7f0VjJDHrA/bjoT3a7cjIuvX765eT/7KK6t05Mix9eSFhT11/fVDNXHicJ1zTn/WkwMAAACS2rdvpRtuGK4//GG+SkoW6N/+7cKoQ0IaSnqCbmatJV0v6f6mdq2nzRtpr++57lQwFV4FBQUqLy8/jkijUVFR0fROEXN3LVq0XS+8sErPP79K8+dvq96Wk2M677y+uvrqQbryykE67bSu1dt27NgeQbTIBJnQ74HmRr9HNqLfIxs11u+vvfYU/eEP8/WHP3ygz32uUGYMZqGmVIygXy1pnrtvCR9vMbO+4eh5X0lbw/b1kgbEHVcgaWPYXlBPex3u/qikRyVp/Pjxnp+f33yvIonSMc4jRyr1xhtrq9eTr169q3pb+/atdMUVp1WvJ+/Zs0N0gSJjpWO/B5KNfo9sRL9HNmqo3994Yzfl5/9Vy5bt1IYNlRo3rk+KI0O6S0WCXqRj09slaYak2yX9IPw5Pa692Mx+pqBI3BBJ77p7pZntMbPzJL0j6ZOSfpGCuLPOnj2H9MILyzV9epmee26Zdu06WL2tV68OmjBhqCZOHKbLLhusdu1aRRgpAAAAkHlatcrVrbcW6uGH56i4eAEJOupIaoJuZu0lXS7ps3HNP5D0uJndIWmtpFskyd0XmdnjkkolHZV0T1jBXZLu0rHLrD0vCsQ1mw0b4teTr9bhw5XV24YPzw+vTz5M555bwHpyAAAA4CRNmTJaDz88RyUlC/WDH1zG39ioIakJurvvl9SjVtt2BVXd69v/AUkP1NM+R9KoZMSYbdxdCxdu1fTpQVI+Z86x1QJm0oc+NCBMyodr6NAejZwJAAAAwPE6//wBOuWULlq7tkJvvbVWH/nIqVGHhDTCda+ywNGjVXrzzWA9+fTpZVq1alf1tnbt8nT55cF68uuuG6pevVhPDgAAACRLTo6pqGiUfvjDt1RcvIAEHTWQoLdQe/Yc0ksvraheT75jx4HqbT17tg/Xkw/XZZcNVvv2rCcHAAAAUmXKlNH64Q/f0hNPlOrBB69Wq1a5UYeENEGC3oJs2rSnej357NmraqwnHzq0R/V68vPOK1Bubk6EkQIAAADZa/ToXios7KnS0m16+eWVuuaaIVGHhDRBgp7B3F2lpduq15O/++6G6m1m0vnnF1SvJx8+nEucAAAAAOnAzDRlyih985uvqLh4AQk6qpGgZ5ijR6v01ltrq0fKV6zYWb2tbds8XX754Or15L17d4wwUgAAAAANKSoarW9+8xU988wS7dt3WB06tI46JKQBEvQMsHfv4bj15Eu1ffux9eT5+e113XXB9ckvv3ww/7ABAACADDB4cDede25/vfPOBs2cuVSTJ3PRKpCgp63Nm/dq5sxglPwvf1mpQ4eOrSc//fTu1evJL7hgAOvJAQAAgAw0ZcpovfPOBpWULCRBhyQS9LTh7lq8uLx66vo776yX+7Ht557bv3o9+YgR+TKz6IIFAAAAcNJuvXWk/uVfXtTzzwdXXerevV3UISFiJOgRWblyp667rlhlZdvVrVtbdezYWmvWVFRvb9MmV5ddFqwnnzBhmPr0YT05AAAA0JL06dNRl1wySH/5y0o99VSpPvOZs6IOCREjQY/IhAklWry4XJK0ffsBbd8efGMWW09+xRWnqWNH1pMDAAAALdmUKaP0l7+sVEnJQhJ0kKBHpaysvMbjnBzTli1fVV4e68kBAACAbHHjjSN0113P6dVXV2vDht3q379z1CEhQmSDERk2LF85OcE68pwc0/Dh+STnAAAAQJbp0qWtrrlmiNyladMWRR0OIkZGGJGZM4s0fHi+cnOD5HzmzKKoQwIAAAAQgSlTRkuSSkoWRhwJosYU94gMHtxNixbdrfLycuXn50cdDgAAAICIXHvtEHXq1Fpz5mzU0qXbNXRoj6hDQkQYQQcAAACACLVr10o33DBCklRSsiDiaBAlEnQAAAAAiNiUKaMkBdPc3T3iaBAVEnQAAAAAiNillw5Wz57tVVa2Xe+9tznqcBAREnQAAAAAiFheXo5uvXWkJKm4mGnu2YoEHQAAAADSQKya+9SpC1VVxTT3bESCDgAAAABp4PzzCzRwYFdt2LBHb7yxJupwEAESdAAAAABIA2amoqKgWBzT3LMTCToAAAAApIlYgv7kk4t1+HBlxNEg1UjQAQAAACBNjB7dW6NG9dKOHQf00ksrog4HKUaCDgAAAABpJHZNdKa5Zx8SdAAAAABII5MnBwn69Oll2rfvcMTRIJVI0AEAAAAgjQwa1E3nn1+g/fuPaMaMsqjDQQqRoAMAAABAmoldE724eGHEkSCVSNABAAAAIM3cckuhcnJML7ywXNu37486HKQICToAAAAApJnevTvqsssG6+jRKj311OKow0GKkKADAAAAQBqimnv2IUEHAAAAgDR0ww0j1KZNrl5/fY3Wr98ddThIARJ0AAAAAEhDnTu30XXXDZW7NG0axeKywXEl6GaWY2adkxUMAAAAAOAYqrlnlyYTdDMrNrPOZtZBUqmkMjP71+SHBgAAAADZ7Zprhqhz5zaaN2+TysrKow4HSZbICHqhu++WNEnSLEmnSPpEMoMCAAAAAEht2+bpxhtHSJJKShhFb+kSSdBbmVkrBQn6dHc/IsmTGhUAAAAAQFLNau7upGItWSIJ+q8krZbUQdLrZnaqJEoIAgAAAEAKXHzxIPXq1UHLlu3QvHmbog4HSdRkgu7uD7p7f3e/xgNrJF2cgtgAAAAAIOvl5eXotttGSuKa6C1dIkXiepvZb8zs+fBxoaTbkx4ZAAAAAEDSsWruU6cuUmVlVcTRIFkSmeL+O0kvSuoXPl4q6ctJigcAAAAAUMu55/bXoEFdtXHjHr3++pqow0GSJJKg57v745KqJMndj0qqTGpUAAAAAIBqZqaioqBYHNXcW65EEvR9ZtZDYeV2MztPUkVSowIAAAAA1BCb5v7kk6U6dOhoxNEgGRJJ0L8iaYak08zsLUm/l/SFRE5uZl3N7EkzW2Jmi83sfDPrbmYvm9my8Ge3uP3vN7PlZlZmZlfGtZ9lZgvCbQ+amR3n6wQAAACAjDZyZC+NHt1LO3ce1Isvrog6HCRBIlXc50m6UNIFkj4raaS7z0/w/D+X9IK7D5c0VtJiSfdJmu3uQyTNDh/His9NljRS0lWSHjaz3PA8j0i6U9KQ8HZVgs8PAAAAAC1GbBSdae4tU4MJupldEv68UdL1koZJGippQtjWKDPrLOmjkn4jSe5+2N13SZoo6bFwt8ckTQrvT5Q01d0PufsqScslnWNmfSV1dve33d0VjODHjgEAAACArDF5crAOffr0Jdq793DE0aC5NTaCfmH4c0I9t+sSOPdgSdsk/dbM3jOzX5tZB0m93X2TJIU/e4X795e0Lu749WFb//B+7XYAAAAAyCoDB3bVBRcM0IEDRzV9+pKow0Ezy2tog7t/O7z7z+5+IlXb8ySdKekL7v6Omf1c4XT2BtS3rtwbaa97ArM7FUyFV0FBgcrLy48v4ghUVFBvD9mHfo9sRL9HNqLfIxulot9ff/0g/e1v6/TYY/N05ZX9mj4AGaPBBD3OKjN7QdI0SX8Np5knYr2k9e7+Tvj4SQUJ+hYz6+vum8Lp61vj9h8Qd3yBpI1he0E97XW4+6OSHpWk8ePHe35+foKhRitT4gSaE/0e2Yh+j2xEv0c2Sna//9SnztE3vvGGXnllnaT2ys9vn9TnQ+okUsV9mKS/SLpHQbL+kJl9uKmD3H2zpHVmNixsulRSqYKK8LeHbbdLmh7enyFpspm1MbNBCorBvRtOg99jZueF1ds/GXcMAAAAAGSVXr066PLLT9PRo1V68snSqMNBM0qkivsBd3/c3W+UdIakzpJeS/D8X5D0JzObL2mcpP+U9ANJl5vZMkmXh4/l7oskPa4giX9B0j1xU+vvkvRrBYXjVkh6PsHnBwAAAIAWp6goKBZHNfeWJZEp7jKzCyXdJulqSf+QdGsix7n7+5LG17Pp0gb2f0DSA/W0z5E0KpHnBAAAAICWbtKk4WrbNk+vv75G69ZVaMCALlGHhGbQ5Ai6ma2S9GVJb0ga5e63uvtTyQ4MAAAAAFC/zp3baMKEoZKkqVMZRW8pElmDPtbdb3D3Enffl/SIAAAAAABNYpp7y5NIgt7ZzP5sZlvNbIuZPWVmBU0fBgAAAABIlquvHqIuXdrovfc2a/HibVGHg2aQSIL+WwUV1vtJ6i9pZtgGAAAAAIhI27Z5uummEZIYRW8pEknQe7r7b939aHj7naSeSY4LAAAAANCEoqLRkoIE3d0jjgYnK5EEvdzMPm5mueHt45K2JzswAAAAAEDjLr54oHr37qDly3dozpyNUYeDk5RIgv5pBZdV2yxpk6SbwzYAAAAAQIRyc3M0eXJQLK64eEHE0eBkNZmgu/tad7/e3Xu6ey93n+Tua1IRHAAAAACgcbFq7tOmLVJlZVXE0eBk5DW0wcwebOxAd/9i84cDAAAAADge55zTX4MHd9PKlTv12mtrdMklg6IOCSeosRH0z0n6sKSNkuZImlvrBgAAAACImJlpyhSmubcEjSXofSU9KulKSZ+Q1ErSDHd/zN0fS0VwAAAAAICmxaq5P/XUYh06dDTiaHCiGkzQ3X27u//S3S+W9E+SukpaZGafSFFsAAAAAIAEFBb21NixvbVr10G98MLyqMPBCWqySJyZnSnpy5I+Lul5Mb0dAAAAANLOlCnBKHpx8cKII8GJajBBN7PvmNlcSV+R9Jqk8e5+h7uXpiw6AAAAAEBCYpdbmzmzTHv2HIo4GpyIxkbQ/01SF0ljJX1f0jwzm29mC8xsfkqiAwAAAAAk5JRTuujDHz5FBw4c1fTpZVGHgxPQ4GXWJFGbHwAAAAAyyJQpo/Tmm2tVXLxAH//4mKjDwXFqrEjcmsZuqQwSAAAAANC0m28uVG6u6aWXVmjbtn1Rh4Pj1GSROAAAAABAZujZs4OuuOI0VVa6nnyS8mGZhgQdAAAAAFoQqrlnrsaquM8Of/4wdeEAAAAAAE7GxInD1LZtnt58c63Wrq2IOhwch8ZG0Pua2YWSrjezM8zszPhbqgIEAAAAACSuU6c2uv76YZKkqVMZRc8kjSXo35J0n6QCST+T9NO420+SHxoAAAAA4ERMmRJcE724eEHEkeB4NHiZNXd/UtKTZvZv7v7dFMYEAAAAADgJV111urp2basPPtii0tJtKizsGXVISECTReLc/btmdr2Z/SS8XZeKwAAAAAAAJ6ZNmzzddNMISVJJCaPomaLJBN3Mvi/pS5JKw9uXwjYAAAAAQJqKr+bu7hFHg0Qkcpm1ayVd7u7/5+7/J+mqsA0AAAAAkKYuvPBU9e3bUStX7tS7726IOhwkINHroHeNu98lCXEAAAAAAJpRbm6ObrttpCSppIRq7pkgkQT9+5LeM7PfmdljkuZK+s/khgUAAAAAOFmxae5Tpy5UZWVVxNGgKYkUiSuRdJ6kp8Pb+e4+NdmBAQAAAABOzvjx/XT66d21Zcs+vfLK6qjDQRMSmuLu7pvcfYa7T3f3zckOCgAAAABw8sxMRUXBNdGp5p7+El2DDgAAAADIQLEE/amnFuvgwaMRR4PGkKADAAAAQAs2YkRPnXFGH1VUHNLzzy+LOhw0otEE3cxyzIxyfwAAAACQwY5Ncye9S2eNJujuXiXpAzM7JUXxAAAAAACa2eTJQYI+c+ZS7d59KOJo0JBEprj3lbTIzGab2YzYLdmBAQAAAACax4ABXfTRj56qgweP6plnlkQdDhqQl8A+30l6FAAAAACApCoqGqXXX1+jkpKF+uQnx0YdDuqRyHXQX5O0WlKr8P4/JM1LclwAAAAAgGZ0882FysvL0csvr9DWrfuiDgf1aDJBN7PPSHpS0q/Cpv6SnkliTAAAAACAZpaf315XXnmaKitdTzyxKOpwUI9E1qDfI+lDknZLkrsvk9QrmUEBAAAAAJof1dzTWyIJ+iF3Pxx7YGZ5kjx5IQEAAAAAkmHixOFq1y5Pb721TqtX74o6HNSSSIL+mpl9XVI7M7tc0hOSZiY3LAAAAABAc+vYsbUmThwuSZo6lVH0dJNIgn6fpG2SFkj6rKRZkr6ZzKAAAAAAAMnBNPf01eRl1ty9yswek/SOgqntZe7OFHcAAAAAyEBXXXW6unVrq/nzt2jhwq0aNYoSY+kikSru10paIelBSQ9JWm5mVydycjNbbWYLzOx9M5sTtnU3s5fNbFn4s1vc/veb2XIzKzOzK+PazwrPs9zMHjQzO94XCgAAAACQWrfO1c03F0qSSkoWRBwN4iUyxf2nki5294vc/UJJF0v6r+N4jovdfZy7jw8f3ydptrsPkTQ7fCwzK5Q0WdJISVdJetjMcsNjHpF0p6Qh4e2q43h+AAAAAECc+GnuTJBOH4kk6FvdfXnc45WStp7Ec06U9Fh4/zFJk+Lap7r7IXdfJWm5pHPMrK+kzu7+dji1/vdxxwAAAAAAjtNHP3qq+vXrpFWrdumddzZEHQ5CDa5BN7Mbw7uLzGyWpMcVrEG/RdI/Ejy/S3rJzFzSr9z9UUm93X2TJLn7JjOLLXjoL+nvcceuD9uOhPdrt9cX850KRtpVUFCg8vLyBMOMTkVFRdQhAClHv0c2ot8jG9HvkY0yqd9PnDhYjzzygX7zm3d1+ultow4HarxI3IS4+1skXRje3yapW93d6/Uhd98YJuEvm9mSRvatb125N9JetzH4AuBRSRo/frzn5+cnGGa0MiVOoDnR75GN6PfIRvR7ZKNM6fd33HGOHnnkA82cuVKPPDJJeXmJTLBGMjWYoLv7p0725O6+Mfy51cz+LOkcSVvMrG84et5Xx6bLr5c0IO7wAkkbw/aCetoBAAAAACfozDP7asiQ7lq2bIdeeWWVLr/8tKhDynqJVHEfZGY/M7OnzWxG7JbAcR3MrFPsvqQrJC2UNEPS7eFut0uaHt6fIWmymbUxs0EKisG9G06H32Nm54XV2z8ZdwwAAAAA4ASYmaZMGS1JKi7mmujpIJE5DM9IWi3pFwoqusduTekt6U0z+0DSu5Kec/cXJP1A0uVmtkzS5eFjufsiBevcSyW9IOked68Mz3WXpF8rKBy3QtLzCTw/AAAAAKARsWruTz+9WAcPHo04GjS2Bj3moLs/eLwndveVksbW075d0qUNHPOApAfqaZ8jadTxxgAAAAAAaNiwYfk688y+mjdvk2bNWqYbbxwRdUhZLZER9J+b2bfN7HwzOzN2S3pkAAAAAICkmzIlGAstLl4QcSRIJEEfLekzCqaix6a3/ySZQQEAAAAAUuO220bJTHr22aWqqDgYdThZLZEE/QZJg939Qne/OLxdkuzAAAAAAADJV1DQWR/96Kk6dKhSzzzT2JWxkWyJJOgfSOqa5DgAAAAAABGhmnt6SCRB7y1piZm9eDyXWQMAAAAAZIabbhqhVq1y9Je/rNSWLXujDidrJVLF/dtJjwIAAAAAEJkePdrryitP17PPLtUTT5Tq858/J+qQslKTI+ju/lp9t1QEBwAAAABIDaq5R6/JBN3M9pjZ7vB20MwqzWx3KoIDAAAAAKTG9dcPU/v2rfT22+u1atXOqMPJSomMoHdy987hra2kmyQ9lPzQAAAAAACp0qFDa02cOEySNHUqxeKikEiRuBrc/RlJXGYNAAAAAFoYqrlHq8kicWZ2Y9zDHEnjJXnSIgIAAAAAROKKK05T9+7ttHDhVi1YsEWjR/eOOqSsksgI+oS425WS9kiamMygAAAAAACp17p1rm6+eYQkqaSEUfRUS2QN+qfibp9x9wfcfWsqggMAAAAApNaxae4L5M7k6VRqcIq7mX2rkePc3b+bhHgAAAAAABH6yEdOVf/+nbRmTYXefnu9LrhgQNQhZY3GRtD31XOTpDskfS3JcQEAAAAAIpCTY5o8ObgmekkJ10RPpQYTdHf/aewm6VFJ7SR9StJUSYNTFB8AAAAAIMVi09ynTVuko0erIo4mezS6Bt3MupvZ9yTNVzAd/kx3/xpr0AEAAACg5TrjjD4aNqyHtm3br9mzV0YdTtZoMEE3sx9L+oeCqu2j3f3f3X1nyiIDAAAAAETCzFRUFJvmTjX3VGlsBP1eSf0kfVPSRjPbHd72mNnu1IQHAAAAAIhCUVEwzf3ppxfrwIEjEUeTHRpbg57j7u3cvZO7d467dXL3zqkMEgAAAACQWkOH9tD48f20Z89hPffcsqjDyQpNXgcdAAAAAJCdpkxhmnsqkaADAAAAAOp1222jZCY999xS7dp1MOpwWjwSdAAAAABAvfr166SLLhqoQ4cq9ec/L446nBaPBB0AAAAA0KDYNdGZ5p58JOgAAAAAgAbddNMItWqVo9mzV2nz5r1Rh9OikaADAAAAABrUrVs7XX31EFVVuR5/fFHU4bRoJOgAAAAAgEZRzT01SNABAAAAAI2aMGGYOnRopb//fb1WrtwZdTgtFgk6AAAAAKBR7du30qRJwyVJJSULIo6m5SJBBwAAAAA0KVbNvbh4odw94mhaJhJ0AAAAAECTLr98sHr0aKfS0m1asGBr1OG0SCToAAAAAIAmtWqVq1tuKZQkFRczzT0ZSNABAAAAAAmJTXMvKVmoqiqmuTc3EnQAAAAAQEI+9KFTVFDQWWvXVujtt9dFHU6LQ4IOAAAAAEhITo6pqCi4JjrT3JsfCToAAAAAIGGxae6PP16qI0cqI46mZSFBBwAAAAAkbOzY3ho+PF/l5fs1e/aqqMNpUUjQAQAAAAAJMzNNmcI092QgQQcAAAAAHJeiomCa+5//vET79x+JOJqWgwQdAAAAAHBcTj+9u84+u5/27j2s555bGnU4LQYJOgAAAADguMWKxRUXL4w4kpaDBB0AAAAAcNxuu22kzKRZs5Zp166DUYfTIiQ9QTezXDN7z8yeDR93N7OXzWxZ+LNb3L73m9lyMyszsyvj2s8yswXhtgfNzJIdNwAAAACgYX37dtLFFw/S4cOVevrpxVGH0yKkYgT9S5LiP637JM129yGSZoePZWaFkiZLGinpKkkPm1lueMwjku6UNCS8XZWCuAEAAAAAjaCae/NKaoJuZgWSrpX067jmiZIeC+8/JmlSXPtUdz/k7qskLZd0jpn1ldTZ3d92d5f0+7hjAAAAAAARufHGEWrdOld//esqbdq0J+pwMl5eks//35L+n6ROcW293X2TJLn7JjPrFbb3l/T3uP3Wh21Hwvu12+swszsVjLSroKBA5eXlzfASkquioiLqEICUo98jG9HvkY3o98hG2djvL7vsFM2atUr/93/v6rOfHRt1OBktaQm6mV0naau7zzWzixI5pJ42b6S9bqP7o5IelaTx48d7fn5+YsFGLFPiBJoT/R7ZiH6PbES/RzbKtn5/++1nadasVZoxY5W+8Y1Low4noyVzivuHJF1vZqslTZV0iZn9UdKWcNq6wp9bw/3XSxoQd3yBpI1he0E97QAAAACAiF133VB17Nha7767QcuX74g6nIyWtATd3e939wJ3H6ig+Ntf3f3jkmZIuj3c7XZJ08P7MyRNNrM2ZjZIQTG4d8Pp8HvM7Lywevsn444BAAAAAESofftWuuGG4ZKkqVO5JvrJiOI66D+QdLmZLZN0efhY7r5I0uOSSiW9IOked68Mj7lLQaG55ZJWSHo+1UEDAAAAAOpXVBRUc//TnxYoqO2NE5HsInGSJHd/VdKr4f3tkupdmODuD0h6oJ72OZJGJS9CAAAAAMCJuuyywcrPb68lS8r1wQdbNG5cn6hDykhRjKADAAAAAFqQVq1ydeuthZKkkhKuiX6iSNABAAAAACetqGi0JKmkZKGqqpjmfiJI0AEAAAAAJ+2CCwbolFO6aN263XrrrbVRh5ORSNABAAAAACctJ8eqi8WVlFDN/USQoAMAAAAAmkUsQX/88UU6cqSyib1RGwk6AAAAAKBZjBnTW4WFPbV9+wG9/PLKqMPJOCToAAAAAIBmYWaaMoVp7ieKBB0AAAAA0GwmTw4S9D//ebH27z8ScTSZhQQdAAAAANBsTjutu849t7/27TuimTPLog4no5CgAwAAAACa1ZQpx66JjsSRoAMAAAAAmtWtt45UTo5p1qxl2rnzQNThZAwSdAAAAABAs+rTp6MuuWSQjhyp0lNPLY46nIxBgg4AAAAAaHaxau7FxQsijiRzkKADAAAAAJrdDTeMUOvWuXr11dXauHFP1OFkBBJ0AAAAAECz69q1ra69dojcpWnTKBaXCBJ0AAAAAEBSxKq5FxeToCeCBB0AAAAAkBTXXjtEnTq11pw5G7Vs2faow0l7JOgAAAAAgKRo166VbrhhhCSuiZ4IEnQAAAAAQNLEV3N394ijSW8k6AAAAACApLn00sHq2bO9ysq26/33N0cdTlojQQcAAAAAJE1eXo5uvXWkJK6J3hQSdAAAAABAUsWquU+dukhVVUxzbwgJOgAAAAAgqc4/v0ADB3bV+vW79eaba6MOJ22RoAMAAAAAksrMNHky09ybQoIOAAAAAEi62DT3J54o1eHDlRFHk55I0AEAAAAASTd6dG+NGtVLO3Yc0Msvr4g6nLREgg4AAAAASImiotg10RdGHEl6IkEHAAAAAKRELEF/5pkl2rfvcMTRpB8SdAAAAABASgwa1E3nn1+g/fuPaObMpVGHk3ZI0AEAAAAAKXNsmjvV3GsjQQcAAAAApMytt45UTo7phReWa8eOA1GHk1ZI0AEAAAAAKdO7d0dddtlgHTlSpaeeKo06nLRCgg4AAAAASCmqudePBB0AAAAAkFI33DBcbdrk6rXXVmvDht1Rh5M2SNABAAAAACnVpUtbXXfdULlL06YtijqctEGCDgAAAABIOaq510WCDgAAAABIuWuuGaLOndto7txNWrp0e9ThpAUSdAAAAABAyrVr10o33jhCklRSwii6RIIOAAAAAIhIfDV3d484muiRoAMAAAAAInHJJYPUq1cHLV26XfPmbYo6nMiRoAMAAAAAIpGXl6PbbhspSSop4ZroJOgAAAAAgMjEprmXlCxUZWVVxNFEK2kJupm1NbN3zewDM1tkZt8J27ub2ctmtiz82S3umPvNbLmZlZnZlXHtZ5nZgnDbg2ZmyYobAAAAAJA6551XoIEDu2rjxj164421UYcTqWSOoB+SdIm7j5U0TtJVZnaepPskzXb3IZJmh49lZoWSJksaKekqSQ+bWW54rkck3SlpSHi7KolxAwAAAABSxMw0ZUpsFD27q7knLUH3wN7wYavw5pImSnosbH9M0qTw/kRJU939kLuvkrRc0jlm1ldSZ3d/24Oyfr+POwYAAAAAkOGmTBktSXriiVIdPlwZcTTRyUvmycMR8LmSTpf0P+7+jpn1dvdNkuTum8ysV7h7f0l/jzt8fdh2JLxfu72+57tTwUi7CgoKVF5e3pwvJykqKiqiDgFIOfo9shH9HtmIfo9sRL8/Mb1756iwsIdKS7friSfm6corB0UdUiSSmqC7e6WkcWbWVdKfzWxUI7vXt67cG2mv7/kelfSoJI0fP97z8/OPL+CIZEqcQHOi3yMb0e+Rjej3yEb0+xPziU+M0/33z9azz67Vxz52dtThRCIlVdzdfZekVxWsHd8STltX+HNruNt6SQPiDiuQtDFsL6inHQAAAADQQkyeHIznzphRpr17D0ccTTSSWcW9ZzhyLjNrJ+kySUskzZB0e7jb7ZKmh/dnSJpsZm3MbJCCYnDvhtPh95jZeWH19k/GHQMAAAAAaAEGDuyqCy4YoP37j2jGjLKow4lEMkfQ+0p6xczmS/qHpJfd/VlJP5B0uZktk3R5+FjuvkjS45JKJb0g6Z5wirwk3SXp1woKx62Q9HwS4wYAAAAARCBWzb24ODuruSdtDbq7z5d0Rj3t2yVd2sAxD0h6oJ72OZIaW78OAAAAAMhwt9wyUl/60gt68cUV2r59v3r0aB91SCmVkjXoAAAAAAA0pVevDrrsssE6erRKTz5ZGnU4KUeCDgAAAABIG7FrohcXL4w4ktQjQQcAAAAApI1Jk4arbds8vfHGGq1bl13XlSdBBwAAAACkjc6d2+i664bKXZo2bVHU4aQUCToAAAAAIK1kazV3EnQAAAAAQFq5+uoh6tKljd57b7OWLCmPOpyUIUEHAAAAAKSVtm3zdOONIyRJJSXZM4pOgg4AAAAASDvx1dzdPeJoUoMEHQAAAACQdi6+eKB69+6g5ct3aO7cTVGHkxIk6AAAAACAtJObm6PbbhspKXuKxZGgAwAAAADSUmya+9SpC1VZWRVxNMlHgg4AAAAASEvnnNNfgwd306ZNe/X662uiDifpSNABAAAAAGnJzFRUlD3XRCdBBwAAAACkrdg09yefXKxDh45GHE1ykaADAAAAANJWYWFPjR3bW7t2HdSLL66IOpykIkEHAAAAAKS1bJnmToIOAAAAAEhrkycHCfqMGWXau/dwxNEkDwk6AAAAACCtnXpqV334w6fowIGjmj59SdThJA0JOgAAAAAg7U2ZEpvmvjDiSJKHBB0AAAAAkPZuvrlQubmml15aofLy/VGHkxQk6AAAAACAtNezZwddccVpOnq0Sk8+WRp1OElBgg4AAAAAyAixa6K31GruJOgAAAAAgIwwceIwtW2bpzfeWKu1ayuiDqfZkaADAAAAADJCp05tdP31wyRJ06a1vGJxJOgAAAAAgIzRkqu5k6ADAAAAADLGVVedrq5d2+r99zertHRb1OE0KxJ0AAAAAEDGaNMmTzfdNEKSVFLSsorFkaADAAAAADJKrJp7SclCuXvE0TQfEnQAAAAAQEa58MJT1bdvR61YsVP/+MfGqMNpNiToAAAAAICMkpubo9tuGympZV0TnQQdAAAAAJBxYtPcp01bpMrKqoijaR4k6AAAAACAjDN+fD+ddlo3bd68V6++ujrqcJoFCToAAAAAIOOYWfUoekuZ5k6CDgAAAADISEVFoyRJTz21WIcOHY04mpNHgg4AAAAAyEgjRvTUiBH5qqg4pPbt/1MjRz6slSt3Rh3WCSNBBwAAAABkrO3bD0iSqqpcS5aUa8KEkogjOnEk6AAAAACAjLV9+/7q+1VVrrKy8gijOTkk6AAAAACAjDVsWL7Mgvs5OaZhw/KjDegkkKADAAAAADLWzJlFGjGip3JzTcOH52vmzKKoQzpheVEHAAAAAADAiRo8uJsWLbo76jCaBSPoAAAAAACkARJ0AAAAAADSQNISdDMbYGavmNliM1tkZl8K27ub2ctmtiz82S3umPvNbLmZlZnZlXHtZ5nZgnDbg2axEgAAAAAAALQMyRxBPyrpXncfIek8SfeYWaGk+yTNdvchkmaHjxVumyxppKSrJD1sZrnhuR6RdKekIeHtqiTGDQAAAABAyiUtQXf3Te4+L7y/R9JiSf0lTZT0WLjbY5ImhfcnSprq7ofcfZWk5ZLOMbO+kjq7+9vu7pJ+H3cMAAAAAAAtQkqquJvZQElnSHpHUm933yQFSbyZ9Qp36y/p73GHrQ/bjoT3a7fX9zx3KhhpV0FBgcrL0/8C9RUVFVGHAKQc/R7ZiH6PbES/Rzai3+NkJD1BN7OOkp6S9GV3393I8vH6Nngj7XUb3R+V9KgkjR8/3vPzM+MC9ZkSJ9Cc6PfIRvR7ZCP6PbIR/R4nKqlV3M2slYLk/E/u/nTYvCWctq7w59awfb2kAXGHF0jaGLYX1NMOAAAAAECLkcwq7ibpN5IWu/vP4jbNkHR7eP92SdPj2iebWRszG6SgGNy74XT4PWZ2XnjOT8YdAwAAAABAi5DMKe4fkvQJSQvM7P2w7euSfiDpcTO7Q9JaSbdIkrsvMrPHJZUqqAB/j7tXhsfdJel3ktpJej68AQAAAADQYiQtQXf3N1X/+nFJurSBYx6Q9EA97XMkjWq+6AAAAAAASC9JXYMOAAAAAAASQ4IOAAAAAEAaMPd6r1iW8cxsm6Q1UceRgHxJ6X/BdqB50e+Rjej3yEb0e2Qj+j0Scaq796zd2GIT9ExhZnPcfXzUcQCpRL9HNqLfIxvR75GN6Pc4GUxxBwAAAAAgDZCgAwAAAACQBkjQo/do1AEAEaDfIxvR75GN6PfIRvR7nDDWoAMAAAAAkAYYQQcAAAAAIA2QoAMAAAAAkAZI0JuZmQ0ws1fMbLGZLTKzL4Xt3c3sZTNbFv7sFrb3CPffa2YP1TrXWWa2wMyWm9mDZmZRvCagKc3V782svZk9Z2ZLwvP8IKrXBDSlOX/fx51zhpktTOXrAI5HM/+d09rMHjWzpeHv/ZuieE1AU5q53xeFf9/PN7MXzCw/iteE9EWC3vyOSrrX3UdIOk/SPWZWKOk+SbPdfYik2eFjSToo6d8kfbWecz0i6U5JQ8LbVUmOHThRzdnvf+LuwyWdIelDZnZ10qMHTkxz9nuZ2Y2S9iY9auDkNGe//4akre4+VFKhpNeSHTxwgpql35tZnqSfS7rY3cdImi/p86l5CcgUJOjNzN03ufu88P4eSYsl9Zc0UdJj4W6PSZoU7rPP3d9U8A+5mpn1ldTZ3d/2oJLf72PHAOmmufq9u+9391fC+4clzZNUkIrXAByv5ur3kmRmHSV9RdL3kh85cOKas99L+rSk74f7Vbl7eXKjB05MM/Z7C28dwpmxnSVtTPoLQEYhQU8iMxuoYBTwHUm93X2TFPwjl9SricP7S1of93h92AaktZPs9/Hn6SppgoJvpIG01gz9/ruSfippf7JiBJrbyfT78He8JH3XzOaZ2RNm1juJ4QLN4mT6vbsfkXSXpAUKEvNCSb9JZrzIPCToSRKOhjwl6cvuvvtETlFPG9fEQ1prhn4fO0+epBJJD7r7yuaKD0iGk+33ZjZO0unu/ufmjg1Ilmb4fZ+nYIbUW+5+pqS3Jf2kGUMEml0z/L5vpSBBP0NSPwVT3O9v1iCR8UjQkyD8x/eUpD+5+9Nh85Zw2nps+vrWJk6zXjWn9haIKTBIY83U72MelbTM3f+72QMFmlEz9fvzJZ1lZqslvSlpqJm9mpyIgZPXTP1+u4IZI7Evpp6QdGYSwgWaRTP1+3GS5O4rwiWsj0u6IDkRI1ORoDezcD3JbyQtdvefxW2aIen28P7tkqY3dp5wmsweMzsvPOcnmzoGiEpz9fvwXN+T1EXSl5s5TKBZNePv+0fcvZ+7D5T0YUlL3f2i5o8YOHnN2O9d0kxJF4VNl0oqbdZggWbSjH/nbJBUaGY9w8eXK1jPDlSz4PcjmouZfVjSGwrWllSFzV9XsE7lcUmnSFor6RZ33xEes1pBkYjWknZJusLdS81svKTfSWon6XlJX3A+MKSh5ur3knZLWidpiaRD4Xkecvdfp+J1AMejOX/fx51zoKRn3X1USl4EcJya+e+cUyX9QVJXSdskfcrd16bqtQCJauZ+/zlJX5J0RNIaSf/k7ttT9mKQ9kjQAQAAAABIA0xxBwAAAAAgDZCgAwAAAACQBkjQAQAAAABIAyToAAAAAACkARJ0AAAAAADSAAk6AAAZwswqzex9M1toZjPNrGsT+/+7mX01ReHFnrPYzO6Ke3yumc03s7xUxgEAQCYiQQcAIHMccPdx4XXSd0i6J+qA6vEvkv7VzHqaWY6khyTd7e5HT+RkFuDvFQBAVuA/PAAAMtPbkvpLkpmdZmYvmNlcM3vDzIbX3rmhfcxsgpm9Y2bvmdlfzKx32H5hOFr/fritU9j+r2b2j3BU/Du1n8fdt0j6iaQfSfqcpPmS3jazH8cd99nwXB3NbLaZzTOzBWY2MWwfaGaLzexhSfMkDWj+tw8AgPTDdDMAADKMmeVKulTSb8KmRyV9zt2Xmdm5kh6WdEmtwxra501J57m7m9k/S/p/ku6V9FVJ97j7W2bWUdJBM7tC0hBJ50gySTPM7KPu/nqt5/qlpNslXSRpvKQ7JFW4+9lm1kbSW2b2kqR1km5w991mli/p72Y2IzzHMEmfcve7T/b9AgAgU5CgAwCQOdqZ2fuSBkqaK+nlMHm+QNITZhbbr038QU3sUyBpmpn1ldRa0qqw/S1JPzOzP0l62t3Xhwn6FZLeC/fpqCBhr5Ggu3uVmf1K0nh33x4eN8bMbg536RIet17Sf5rZRyVVKZgR0DvcZ427//043x8AADIaCToAAJnjgLuPM7Mukp5VsAb9d5J2ufu4Ro7LaWSfX0j6mbvPMLOLJP27JLn7D8zsOUnXKBjZvkzBqPn33f1XCcRaFd4UHvcFd38xfgcz+ydJPSWd5e5HzGy1pLbh5n0JPAcAAC0Ka9ABAMgw7l4h6YsKpqEfkLTKzG6Rqouqja21/+5G9ukiaUN4//bYMWZ2mrsvcPcfSpojabikFyV9OhyRl5n1N7NeCYT8oqS7zKxVeNxQM+sQPvfWMDm/WNKpx/1mAADQgpCgAwCQgdz9PUkfSJos6WOS7jCzDyQtkjSxnkMa2uffFUx9f0NSedz+Xw4v5/aBgi8Bnnf3lyQVKyj6tkDSk5I6JRDuryWVSppnZgsl/UrBLL4/SRpvZnPC+JYk+voBAGiJzN2jjgEAAAAAgKzHCDoAAAAAAGmABB0AAAAAgDRAgg4AAAAAQBogQQcAAAAAIA2QoAMAAAAAkAZI0AEAAAAASAMk6AAAAAAApIH/DxYYooOqOYZ0AAAAAElFTkSuQmCC",
      "text/plain": [
       "<Figure size 1008x432 with 1 Axes>"
      ]
     },
     "metadata": {
      "needs_background": "light"
     },
     "output_type": "display_data"
    },
    {
     "name": "stdout",
     "output_type": "stream",
     "text": [
      "Movies by Recent Years (2015-2020):\n",
      "2014    8269\n",
      "2015    8405\n",
      "2016    8613\n",
      "2017    8638\n",
      "2018    7476\n",
      "2019    2169\n",
      "Name: start_year, dtype: int64\n"
     ]
    }
   ],
   "source": [
    "#  Release Year Distribution (from IMDB data)\n",
    "plt.figure(figsize=(14, 6))\n",
    "year_counts = movies_df['start_year'].value_counts().sort_index()\n",
    "\n",
    "# Filter to recent years for better visualization\n",
    "recent_years = year_counts[year_counts.index >= 2000]\n",
    "recent_years.plot(kind='line', marker='o', color='navy', linewidth=2, markersize=4)\n",
    "plt.title('Number of Movies Released by Year (2000 onwards)')\n",
    "plt.xlabel('Release Year')\n",
    "plt.ylabel('Number of Movies')\n",
    "plt.grid(True, alpha=0.3)\n",
    "plt.tight_layout()\n",
    "plt.show()\n",
    "\n",
    "# Summary\n",
    "print(\"Movies by Recent Years (2015-2020):\")\n",
    "print(recent_years.tail(6))"
   ]
=======
>>>>>>> c2fd2596b9e978fac457a1f007fe7fb42a731927
  }
 ],
 "metadata": {
  "kernelspec": {
<<<<<<< HEAD
   "display_name": "Python (learn-env)",
=======
   "display_name": "ds-env",
>>>>>>> c2fd2596b9e978fac457a1f007fe7fb42a731927
   "language": "python",
   "name": "learn-env"
  },
  "language_info": {
   "codemirror_mode": {
    "name": "ipython",
    "version": 3
   },
   "file_extension": ".py",
   "mimetype": "text/x-python",
   "name": "python",
   "nbconvert_exporter": "python",
   "pygments_lexer": "ipython3",
<<<<<<< HEAD
   "version": "3.8.5"
=======
   "version": "3.13.5"
>>>>>>> c2fd2596b9e978fac457a1f007fe7fb42a731927
  }
 },
 "nbformat": 4,
 "nbformat_minor": 4
}
